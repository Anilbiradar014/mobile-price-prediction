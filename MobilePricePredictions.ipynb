{
 "cells": [
  {
   "cell_type": "markdown",
   "metadata": {},
   "source": [
    "# MATH 2319 Semester 1, 2020 \n",
    "# Course Project :: Predicting the Price Range of a Mobile\n",
    "\n"
   ]
  },
  {
   "cell_type": "markdown",
   "metadata": {},
   "source": [
    "## <span style=\"color: #0099cc;\">Table of Contents\n",
    "- [Overview](#1) <br/>\n",
    "- [Data Retrieving](#2) <br/>\n",
    "    * [Setup](#3)<br/>\n",
    "    * [Read/Import Data](#4)<br/>\n",
    "- [Data Preparation](#5) <br/>\n",
    "- [Data Exploration and Visualisation](#6)<br/> \n",
    "    * [Univariate Visualization](#7)<br/>\n",
    "    * [Bivariate Visualization](#8)<br/>\n",
    "    * [Trivariate Visualization](#9)<br/>\n",
    "- [Predictive Modelling](#10)<br/>\n",
    "    * [Overview of Methodology](#11)<br/>\n",
    "    * [One Hot Encoding](#12)<br/>\n",
    "    * [Scaling of Features](#13)<br/>\n",
    "    * [Feature Selection &amp; Ranking](#14)<br/>\n",
    "    * [Train-Test Splitting](#15)<br/>\n",
    "    * [Model Evaluation Strategy](#16)<br/>\n",
    "- [Hyperparameter Tuning](#17)<br/>\n",
    "    * [Model 1 : K-Nearest Neighbors (KNN)](#18)<br/>\n",
    "    * [Model 2 : Decision Tree](#19)<br/>\n",
    "    * [Model 3 : Random Forest Classifier](#20)<br/>\n",
    "    * [Model 4 : (Gaussian) Naive Bayes](#21)<br/>\n",
    "    * [Model 5 : SVM](#22)<br/>\n",
    "- [Performance comparison](#23)<br/>\n",
    "    * [Paired T-Test](#24)<br/>\n",
    "- [Evaluation Metrics](#25)<br/>\n",
    "- [Limitations and Proposed Solutions](#26)<br/>\n",
    "- [Summary and Conclusion](#27)<br/>\n",
    "- [References](#28)"
   ]
  },
  {
   "cell_type": "markdown",
   "metadata": {},
   "source": [
    "# <span style=\"color: #0099cc;\"> Overview <a class=\"anchor\" id=\"1\"></a>"
   ]
  },
  {
   "cell_type": "markdown",
   "metadata": {},
   "source": [
    "### <span style=\"color: #0099cc;\">Objective\n",
    "This Study aims at accurately predicting in what price range a particular mobile falls into , by fitting the data into five classifiers (K-NearestNeighbour, Decision Tree, Random Forest Classifier, Naive Bayes Classifier, and Support Vector Machine Classifier) and identify the best classifier with highest accuracy.   \n",
    "\n",
    "### <span style=\"color: #0099cc;\">Dataset Source\n",
    "The Mobile Price Classification data consists of 2000 observations and  is sourced from the Kaggle [https://www.kaggle.com/iabhishekofficial/mobile-price-classification ] (Sharma, A 2018). These descriptive feature include 6 categorical features and 15 numerical features. \n",
    "\n",
    "### <span style=\"color: #0099cc;\"> Dataset Description \n",
    "This dataset contains information about many mobiles and variables about it.The numerical variables indicate the battery power , clock speed , front Camera (in mega pixels ) , internal memory , mobile depth in cm , weight of mobile phone , number of cores , primary camera (in mega pixels) , pixel resolution height and width , ram , screen height and width of mobile in cm and talk time. The categorical variables give information whether the mobile has bluetooth , dual sim , 4g and 3g connectivity , touch screen and wifi. \n",
    "\n",
    "\n",
    "### <span style=\"color: #0099cc;\">Target Feature\n",
    "The target feature is __\"Price_Range\"__, a multinomial feature with levels defined as 0(low cost), 1(medium cost), 2(high cost) and 3(very high cost).  \n"
   ]
  },
  {
   "cell_type": "markdown",
   "metadata": {},
   "source": [
    "# <span style=\"color: #0099cc;\"> Data Retrieving <a class=\"anchor\" id=\"2\"></a>"
   ]
  },
  {
   "cell_type": "markdown",
   "metadata": {},
   "source": [
    "## <span style=\"color: #0099cc;\"> Setup: <a class=\"anchor\" id=\"3\"></a>\n",
    "Importing all the necessary libraries to produce the report."
   ]
  },
  {
   "cell_type": "code",
   "execution_count": 1,
   "metadata": {},
   "outputs": [
    {
     "name": "stderr",
     "output_type": "stream",
     "text": [
      "/opt/anaconda3/lib/python3.7/site-packages/statsmodels/tools/_testing.py:19: FutureWarning: pandas.util.testing is deprecated. Use the functions in the public API at pandas.testing instead.\n",
      "  import pandas.util.testing as tm\n"
     ]
    }
   ],
   "source": [
    "seed_value = 999 \n",
    "import os\n",
    "os.environ['PYTHONHASHSEED']=str(seed_value)\n",
    "import random\n",
    "random.seed(seed_value)\n",
    "import numpy as np\n",
    "np.random.seed(seed_value)\n",
    "import pandas as pd\n",
    "import matplotlib.pyplot as plt\n",
    "import seaborn as sns\n",
    "import statsmodels.api as sm\n",
    "import statsmodels.formula.api as smf\n",
    "import patsy\n",
    "import warnings\n",
    "warnings.filterwarnings(\"ignore\")\n",
    "%matplotlib inline \n",
    "plt.style.use(\"ggplot\")\n",
    "pd.set_option('display.max_columns', None) "
   ]
  },
  {
   "cell_type": "code",
   "execution_count": 2,
   "metadata": {},
   "outputs": [],
   "source": [
    "#!pip install --upgrade altair\n",
    "#!pip install vega vega_datasets"
   ]
  },
  {
   "cell_type": "markdown",
   "metadata": {},
   "source": [
    "## <span style=\"color: #0099cc;\"> Read/Import Data: <a class=\"anchor\" id=\"4\"></a>\n",
    "* The Dataset, **'train.csv'** is read in the form of pandas dataframe using <code>read_csv</code> function.  \n",
    "* The shape of the dataframe can be obtained using <code>shape</code> function.\n",
    "* The <code>sample</code> function is used to display **'n'** rows of the dataframe based on <code>ramdom_state</code> option.\n",
    "* The <code>dtypes</code> function is made use to understand the datatype of the columns in the dataframe."
   ]
  },
  {
   "cell_type": "code",
   "execution_count": 3,
   "metadata": {},
   "outputs": [],
   "source": [
    "mobile_df = pd.read_csv('mobile_Data.csv')"
   ]
  },
  {
   "cell_type": "code",
   "execution_count": 4,
   "metadata": {},
   "outputs": [
    {
     "data": {
      "text/plain": [
       "(2000, 21)"
      ]
     },
     "execution_count": 4,
     "metadata": {},
     "output_type": "execute_result"
    }
   ],
   "source": [
    "mobile_df.shape"
   ]
  },
  {
   "cell_type": "code",
   "execution_count": 5,
   "metadata": {},
   "outputs": [
    {
     "data": {
      "text/html": [
       "<div>\n",
       "<style scoped>\n",
       "    .dataframe tbody tr th:only-of-type {\n",
       "        vertical-align: middle;\n",
       "    }\n",
       "\n",
       "    .dataframe tbody tr th {\n",
       "        vertical-align: top;\n",
       "    }\n",
       "\n",
       "    .dataframe thead th {\n",
       "        text-align: right;\n",
       "    }\n",
       "</style>\n",
       "<table border=\"1\" class=\"dataframe\">\n",
       "  <thead>\n",
       "    <tr style=\"text-align: right;\">\n",
       "      <th></th>\n",
       "      <th>battery_power</th>\n",
       "      <th>blue</th>\n",
       "      <th>clock_speed</th>\n",
       "      <th>dual_sim</th>\n",
       "      <th>fc</th>\n",
       "      <th>four_g</th>\n",
       "      <th>int_memory</th>\n",
       "      <th>m_dep</th>\n",
       "      <th>mobile_wt</th>\n",
       "      <th>n_cores</th>\n",
       "      <th>pc</th>\n",
       "      <th>px_height</th>\n",
       "      <th>px_width</th>\n",
       "      <th>ram</th>\n",
       "      <th>sc_h</th>\n",
       "      <th>sc_w</th>\n",
       "      <th>talk_time</th>\n",
       "      <th>three_g</th>\n",
       "      <th>touch_screen</th>\n",
       "      <th>wifi</th>\n",
       "      <th>price_range</th>\n",
       "    </tr>\n",
       "  </thead>\n",
       "  <tbody>\n",
       "    <tr>\n",
       "      <th>1015</th>\n",
       "      <td>1371</td>\n",
       "      <td>0</td>\n",
       "      <td>0.5</td>\n",
       "      <td>0</td>\n",
       "      <td>4</td>\n",
       "      <td>0</td>\n",
       "      <td>52</td>\n",
       "      <td>0.5</td>\n",
       "      <td>167</td>\n",
       "      <td>4</td>\n",
       "      <td>19</td>\n",
       "      <td>471</td>\n",
       "      <td>663</td>\n",
       "      <td>3034</td>\n",
       "      <td>13</td>\n",
       "      <td>6</td>\n",
       "      <td>8</td>\n",
       "      <td>0</td>\n",
       "      <td>0</td>\n",
       "      <td>0</td>\n",
       "      <td>2</td>\n",
       "    </tr>\n",
       "    <tr>\n",
       "      <th>1990</th>\n",
       "      <td>1617</td>\n",
       "      <td>1</td>\n",
       "      <td>2.4</td>\n",
       "      <td>0</td>\n",
       "      <td>8</td>\n",
       "      <td>1</td>\n",
       "      <td>36</td>\n",
       "      <td>0.8</td>\n",
       "      <td>85</td>\n",
       "      <td>1</td>\n",
       "      <td>9</td>\n",
       "      <td>743</td>\n",
       "      <td>1426</td>\n",
       "      <td>296</td>\n",
       "      <td>5</td>\n",
       "      <td>3</td>\n",
       "      <td>7</td>\n",
       "      <td>1</td>\n",
       "      <td>0</td>\n",
       "      <td>0</td>\n",
       "      <td>0</td>\n",
       "    </tr>\n",
       "    <tr>\n",
       "      <th>672</th>\n",
       "      <td>1979</td>\n",
       "      <td>1</td>\n",
       "      <td>1.6</td>\n",
       "      <td>1</td>\n",
       "      <td>0</td>\n",
       "      <td>0</td>\n",
       "      <td>32</td>\n",
       "      <td>0.2</td>\n",
       "      <td>165</td>\n",
       "      <td>7</td>\n",
       "      <td>1</td>\n",
       "      <td>833</td>\n",
       "      <td>1630</td>\n",
       "      <td>452</td>\n",
       "      <td>13</td>\n",
       "      <td>6</td>\n",
       "      <td>14</td>\n",
       "      <td>0</td>\n",
       "      <td>1</td>\n",
       "      <td>0</td>\n",
       "      <td>0</td>\n",
       "    </tr>\n",
       "    <tr>\n",
       "      <th>624</th>\n",
       "      <td>1919</td>\n",
       "      <td>0</td>\n",
       "      <td>1.5</td>\n",
       "      <td>0</td>\n",
       "      <td>5</td>\n",
       "      <td>1</td>\n",
       "      <td>48</td>\n",
       "      <td>0.8</td>\n",
       "      <td>150</td>\n",
       "      <td>4</td>\n",
       "      <td>6</td>\n",
       "      <td>304</td>\n",
       "      <td>1191</td>\n",
       "      <td>1391</td>\n",
       "      <td>19</td>\n",
       "      <td>13</td>\n",
       "      <td>12</td>\n",
       "      <td>1</td>\n",
       "      <td>0</td>\n",
       "      <td>1</td>\n",
       "      <td>1</td>\n",
       "    </tr>\n",
       "    <tr>\n",
       "      <th>1497</th>\n",
       "      <td>1375</td>\n",
       "      <td>0</td>\n",
       "      <td>2.9</td>\n",
       "      <td>0</td>\n",
       "      <td>2</td>\n",
       "      <td>0</td>\n",
       "      <td>20</td>\n",
       "      <td>0.4</td>\n",
       "      <td>147</td>\n",
       "      <td>6</td>\n",
       "      <td>7</td>\n",
       "      <td>596</td>\n",
       "      <td>679</td>\n",
       "      <td>3847</td>\n",
       "      <td>8</td>\n",
       "      <td>0</td>\n",
       "      <td>12</td>\n",
       "      <td>1</td>\n",
       "      <td>0</td>\n",
       "      <td>1</td>\n",
       "      <td>3</td>\n",
       "    </tr>\n",
       "  </tbody>\n",
       "</table>\n",
       "</div>"
      ],
      "text/plain": [
       "      battery_power  blue  clock_speed  dual_sim  fc  four_g  int_memory  \\\n",
       "1015           1371     0          0.5         0   4       0          52   \n",
       "1990           1617     1          2.4         0   8       1          36   \n",
       "672            1979     1          1.6         1   0       0          32   \n",
       "624            1919     0          1.5         0   5       1          48   \n",
       "1497           1375     0          2.9         0   2       0          20   \n",
       "\n",
       "      m_dep  mobile_wt  n_cores  pc  px_height  px_width   ram  sc_h  sc_w  \\\n",
       "1015    0.5        167        4  19        471       663  3034    13     6   \n",
       "1990    0.8         85        1   9        743      1426   296     5     3   \n",
       "672     0.2        165        7   1        833      1630   452    13     6   \n",
       "624     0.8        150        4   6        304      1191  1391    19    13   \n",
       "1497    0.4        147        6   7        596       679  3847     8     0   \n",
       "\n",
       "      talk_time  three_g  touch_screen  wifi  price_range  \n",
       "1015          8        0             0     0            2  \n",
       "1990          7        1             0     0            0  \n",
       "672          14        0             1     0            0  \n",
       "624          12        1             0     1            1  \n",
       "1497         12        1             0     1            3  "
      ]
     },
     "execution_count": 5,
     "metadata": {},
     "output_type": "execute_result"
    }
   ],
   "source": [
    "mobile_df.sample(n = 5 , random_state=999)"
   ]
  },
  {
   "cell_type": "markdown",
   "metadata": {},
   "source": [
    "# <span style=\"color: #0099cc;\"> Data Preparation <a class=\"anchor\" id=\"5\"></a>"
   ]
  },
  {
   "cell_type": "markdown",
   "metadata": {},
   "source": [
    "The Detailed understanding of the dataset can be obtained from the following functions:\n",
    "* The <code>dtypes</code> function is made use to understand the datatype of the columns in the dataframe.\n",
    "* The <code>value_counts()</code> and <code>np.unique</code> functions is used to obtain the information on the values in the columns."
   ]
  },
  {
   "cell_type": "code",
   "execution_count": 6,
   "metadata": {
    "scrolled": false
   },
   "outputs": [
    {
     "data": {
      "text/plain": [
       "battery_power      int64\n",
       "blue               int64\n",
       "clock_speed      float64\n",
       "dual_sim           int64\n",
       "fc                 int64\n",
       "four_g             int64\n",
       "int_memory         int64\n",
       "m_dep            float64\n",
       "mobile_wt          int64\n",
       "n_cores            int64\n",
       "pc                 int64\n",
       "px_height          int64\n",
       "px_width           int64\n",
       "ram                int64\n",
       "sc_h               int64\n",
       "sc_w               int64\n",
       "talk_time          int64\n",
       "three_g            int64\n",
       "touch_screen       int64\n",
       "wifi               int64\n",
       "price_range        int64\n",
       "dtype: object"
      ]
     },
     "execution_count": 6,
     "metadata": {},
     "output_type": "execute_result"
    }
   ],
   "source": [
    "mobile_df.dtypes"
   ]
  },
  {
   "cell_type": "markdown",
   "metadata": {},
   "source": [
    "## <span style=\"color: #0099cc;\"> Fixing Column Names"
   ]
  },
  {
   "cell_type": "markdown",
   "metadata": {},
   "source": [
    "The features are renamed to increase the readability. This is done using <code>rename</code> function."
   ]
  },
  {
   "cell_type": "code",
   "execution_count": 9,
   "metadata": {},
   "outputs": [
    {
     "data": {
      "text/plain": [
       "Index(['BatteryPower', 'BlueTooth', 'ClockSpeed', 'DualSim', 'FrontCamera',\n",
       "       '4G', 'InternalMemory', 'MobileDepth', 'MobileWeight', 'NumberOfCores',\n",
       "       'PrimaryCamera', 'PixelHeight', 'PixelWidth', 'RAMSize', 'ScreenHeight',\n",
       "       'ScreenWidth', 'TalkTime', '3G', 'TouchScreen', 'WIFI', 'Price_Range'],\n",
       "      dtype='object')"
      ]
     },
     "execution_count": 9,
     "metadata": {},
     "output_type": "execute_result"
    }
   ],
   "source": [
    "mobile_df = mobile_df.rename(columns={'battery_power': 'BatteryPower', 'blue':'BlueTooth', 'clock_speed':'ClockSpeed', 'dual_sim':'DualSim', 'fc':'FrontCamera', 'four_g':'4G',\n",
    "       'int_memory':'InternalMemory', 'm_dep':'MobileDepth', 'mobile_wt':'MobileWeight', 'n_cores':'NumberOfCores', 'pc':'PrimaryCamera', 'px_height':'PixelHeight',\n",
    "       'px_width':'PixelWidth', 'ram':'RAMSize', 'sc_h':'ScreenHeight', 'sc_w':'ScreenWidth', 'talk_time':'TalkTime', 'three_g':'3G',\n",
    "       'touch_screen':'TouchScreen', 'wifi':'WIFI', 'price_range':'Price_Range'})\n",
    "mobile_df.columns"
   ]
  },
  {
   "cell_type": "markdown",
   "metadata": {},
   "source": [
    "## <span style=\"color: #0099cc;\"> Removing Constant Features"
   ]
  },
  {
   "cell_type": "markdown",
   "metadata": {},
   "source": [
    "The columns with constant features are not informative. These columns are removed using <code>nunique()</code> function."
   ]
  },
  {
   "cell_type": "code",
   "execution_count": 10,
   "metadata": {},
   "outputs": [
    {
     "data": {
      "text/plain": [
       "(2000, 21)"
      ]
     },
     "execution_count": 10,
     "metadata": {},
     "output_type": "execute_result"
    }
   ],
   "source": [
    "mobile_df = mobile_df.loc[:,mobile_df.nunique() != 1]\n",
    "mobile_df.shape"
   ]
  },
  {
   "cell_type": "markdown",
   "metadata": {},
   "source": [
    "## <span style=\"color: #0099cc;\"> Checking Datatypes of Features"
   ]
  },
  {
   "cell_type": "markdown",
   "metadata": {},
   "source": [
    "Ensuring correct datatype for the features using <code>astype()</code> function. The features <code>BlueTooth</code>, <code>DualSim</code>, <code>4G</code> , <code>3G</code> , <code>TouchScreen</code>, <code>WIFI</code> are converted to <code>Object</code> type as \n",
    "* __\"1\"__ if available \n",
    "* __\"0\"__ if not."
   ]
  },
  {
   "cell_type": "code",
   "execution_count": 11,
   "metadata": {},
   "outputs": [
    {
     "data": {
      "text/plain": [
       "BatteryPower        int64\n",
       "BlueTooth          object\n",
       "ClockSpeed        float64\n",
       "DualSim            object\n",
       "FrontCamera         int64\n",
       "4G                 object\n",
       "InternalMemory      int64\n",
       "MobileDepth       float64\n",
       "MobileWeight        int64\n",
       "NumberOfCores       int64\n",
       "PrimaryCamera       int64\n",
       "PixelHeight         int64\n",
       "PixelWidth          int64\n",
       "RAMSize             int64\n",
       "ScreenHeight        int64\n",
       "ScreenWidth         int64\n",
       "TalkTime            int64\n",
       "3G                 object\n",
       "TouchScreen        object\n",
       "WIFI               object\n",
       "Price_Range         int64\n",
       "dtype: object"
      ]
     },
     "execution_count": 11,
     "metadata": {},
     "output_type": "execute_result"
    }
   ],
   "source": [
    "object_cols = ['BlueTooth', 'DualSim' , '4G' , '3G' , 'TouchScreen', 'WIFI' ]\n",
    "for col in object_cols:\n",
    "    mobile_df[col] = mobile_df[col].astype(object)\n",
    "mobile_df.dtypes"
   ]
  },
  {
   "cell_type": "markdown",
   "metadata": {},
   "source": [
    "## <span style=\"color:#0099cc\">Checking for Missing Values"
   ]
  },
  {
   "cell_type": "markdown",
   "metadata": {},
   "source": [
    "The <code>isna().sum()</code> provides the count of missing values. There are no missing values in the dataset."
   ]
  },
  {
   "cell_type": "code",
   "execution_count": 12,
   "metadata": {},
   "outputs": [
    {
     "data": {
      "text/plain": [
       "BatteryPower      0\n",
       "BlueTooth         0\n",
       "ClockSpeed        0\n",
       "DualSim           0\n",
       "FrontCamera       0\n",
       "4G                0\n",
       "InternalMemory    0\n",
       "MobileDepth       0\n",
       "MobileWeight      0\n",
       "NumberOfCores     0\n",
       "PrimaryCamera     0\n",
       "PixelHeight       0\n",
       "PixelWidth        0\n",
       "RAMSize           0\n",
       "ScreenHeight      0\n",
       "ScreenWidth       0\n",
       "TalkTime          0\n",
       "3G                0\n",
       "TouchScreen       0\n",
       "WIFI              0\n",
       "Price_Range       0\n",
       "dtype: int64"
      ]
     },
     "execution_count": 12,
     "metadata": {},
     "output_type": "execute_result"
    }
   ],
   "source": [
    "mobile_df.isna().sum()"
   ]
  },
  {
   "cell_type": "markdown",
   "metadata": {},
   "source": [
    "## <span style=\"color: #0099cc;\"> Descriptive Statistics"
   ]
  },
  {
   "cell_type": "markdown",
   "metadata": {},
   "source": [
    "Descriptive statistics of each feature is a good way to understand its quirks. This is done using <code>describe</code> function."
   ]
  },
  {
   "cell_type": "code",
   "execution_count": 13,
   "metadata": {
    "scrolled": true
   },
   "outputs": [
    {
     "data": {
      "text/html": [
       "<div>\n",
       "<style scoped>\n",
       "    .dataframe tbody tr th:only-of-type {\n",
       "        vertical-align: middle;\n",
       "    }\n",
       "\n",
       "    .dataframe tbody tr th {\n",
       "        vertical-align: top;\n",
       "    }\n",
       "\n",
       "    .dataframe thead th {\n",
       "        text-align: right;\n",
       "    }\n",
       "</style>\n",
       "<table border=\"1\" class=\"dataframe\">\n",
       "  <thead>\n",
       "    <tr style=\"text-align: right;\">\n",
       "      <th></th>\n",
       "      <th>BatteryPower</th>\n",
       "      <th>ClockSpeed</th>\n",
       "      <th>FrontCamera</th>\n",
       "      <th>InternalMemory</th>\n",
       "      <th>MobileDepth</th>\n",
       "      <th>MobileWeight</th>\n",
       "      <th>NumberOfCores</th>\n",
       "      <th>PrimaryCamera</th>\n",
       "      <th>PixelHeight</th>\n",
       "      <th>PixelWidth</th>\n",
       "      <th>RAMSize</th>\n",
       "      <th>ScreenHeight</th>\n",
       "      <th>ScreenWidth</th>\n",
       "      <th>TalkTime</th>\n",
       "      <th>Price_Range</th>\n",
       "    </tr>\n",
       "  </thead>\n",
       "  <tbody>\n",
       "    <tr>\n",
       "      <th>count</th>\n",
       "      <td>2000.000</td>\n",
       "      <td>2000.000</td>\n",
       "      <td>2000.000</td>\n",
       "      <td>2000.000</td>\n",
       "      <td>2000.000</td>\n",
       "      <td>2000.000</td>\n",
       "      <td>2000.000</td>\n",
       "      <td>2000.000</td>\n",
       "      <td>2000.000</td>\n",
       "      <td>2000.000</td>\n",
       "      <td>2000.000</td>\n",
       "      <td>2000.000</td>\n",
       "      <td>2000.000</td>\n",
       "      <td>2000.000</td>\n",
       "      <td>2000.000</td>\n",
       "    </tr>\n",
       "    <tr>\n",
       "      <th>mean</th>\n",
       "      <td>1238.518</td>\n",
       "      <td>1.522</td>\n",
       "      <td>4.310</td>\n",
       "      <td>32.046</td>\n",
       "      <td>0.502</td>\n",
       "      <td>140.249</td>\n",
       "      <td>4.520</td>\n",
       "      <td>9.916</td>\n",
       "      <td>645.108</td>\n",
       "      <td>1251.516</td>\n",
       "      <td>2124.213</td>\n",
       "      <td>12.306</td>\n",
       "      <td>5.767</td>\n",
       "      <td>11.011</td>\n",
       "      <td>1.500</td>\n",
       "    </tr>\n",
       "    <tr>\n",
       "      <th>std</th>\n",
       "      <td>439.418</td>\n",
       "      <td>0.816</td>\n",
       "      <td>4.341</td>\n",
       "      <td>18.146</td>\n",
       "      <td>0.288</td>\n",
       "      <td>35.400</td>\n",
       "      <td>2.288</td>\n",
       "      <td>6.064</td>\n",
       "      <td>443.781</td>\n",
       "      <td>432.199</td>\n",
       "      <td>1084.732</td>\n",
       "      <td>4.213</td>\n",
       "      <td>4.356</td>\n",
       "      <td>5.464</td>\n",
       "      <td>1.118</td>\n",
       "    </tr>\n",
       "    <tr>\n",
       "      <th>min</th>\n",
       "      <td>501.000</td>\n",
       "      <td>0.500</td>\n",
       "      <td>0.000</td>\n",
       "      <td>2.000</td>\n",
       "      <td>0.100</td>\n",
       "      <td>80.000</td>\n",
       "      <td>1.000</td>\n",
       "      <td>0.000</td>\n",
       "      <td>0.000</td>\n",
       "      <td>500.000</td>\n",
       "      <td>256.000</td>\n",
       "      <td>5.000</td>\n",
       "      <td>0.000</td>\n",
       "      <td>2.000</td>\n",
       "      <td>0.000</td>\n",
       "    </tr>\n",
       "    <tr>\n",
       "      <th>25%</th>\n",
       "      <td>851.750</td>\n",
       "      <td>0.700</td>\n",
       "      <td>1.000</td>\n",
       "      <td>16.000</td>\n",
       "      <td>0.200</td>\n",
       "      <td>109.000</td>\n",
       "      <td>3.000</td>\n",
       "      <td>5.000</td>\n",
       "      <td>282.750</td>\n",
       "      <td>874.750</td>\n",
       "      <td>1207.500</td>\n",
       "      <td>9.000</td>\n",
       "      <td>2.000</td>\n",
       "      <td>6.000</td>\n",
       "      <td>0.750</td>\n",
       "    </tr>\n",
       "    <tr>\n",
       "      <th>50%</th>\n",
       "      <td>1226.000</td>\n",
       "      <td>1.500</td>\n",
       "      <td>3.000</td>\n",
       "      <td>32.000</td>\n",
       "      <td>0.500</td>\n",
       "      <td>141.000</td>\n",
       "      <td>4.000</td>\n",
       "      <td>10.000</td>\n",
       "      <td>564.000</td>\n",
       "      <td>1247.000</td>\n",
       "      <td>2146.500</td>\n",
       "      <td>12.000</td>\n",
       "      <td>5.000</td>\n",
       "      <td>11.000</td>\n",
       "      <td>1.500</td>\n",
       "    </tr>\n",
       "    <tr>\n",
       "      <th>75%</th>\n",
       "      <td>1615.250</td>\n",
       "      <td>2.200</td>\n",
       "      <td>7.000</td>\n",
       "      <td>48.000</td>\n",
       "      <td>0.800</td>\n",
       "      <td>170.000</td>\n",
       "      <td>7.000</td>\n",
       "      <td>15.000</td>\n",
       "      <td>947.250</td>\n",
       "      <td>1633.000</td>\n",
       "      <td>3064.500</td>\n",
       "      <td>16.000</td>\n",
       "      <td>9.000</td>\n",
       "      <td>16.000</td>\n",
       "      <td>2.250</td>\n",
       "    </tr>\n",
       "    <tr>\n",
       "      <th>max</th>\n",
       "      <td>1998.000</td>\n",
       "      <td>3.000</td>\n",
       "      <td>19.000</td>\n",
       "      <td>64.000</td>\n",
       "      <td>1.000</td>\n",
       "      <td>200.000</td>\n",
       "      <td>8.000</td>\n",
       "      <td>20.000</td>\n",
       "      <td>1960.000</td>\n",
       "      <td>1998.000</td>\n",
       "      <td>3998.000</td>\n",
       "      <td>19.000</td>\n",
       "      <td>18.000</td>\n",
       "      <td>20.000</td>\n",
       "      <td>3.000</td>\n",
       "    </tr>\n",
       "  </tbody>\n",
       "</table>\n",
       "</div>"
      ],
      "text/plain": [
       "       BatteryPower  ClockSpeed  FrontCamera  InternalMemory  MobileDepth  \\\n",
       "count      2000.000    2000.000     2000.000        2000.000     2000.000   \n",
       "mean       1238.518       1.522        4.310          32.046        0.502   \n",
       "std         439.418       0.816        4.341          18.146        0.288   \n",
       "min         501.000       0.500        0.000           2.000        0.100   \n",
       "25%         851.750       0.700        1.000          16.000        0.200   \n",
       "50%        1226.000       1.500        3.000          32.000        0.500   \n",
       "75%        1615.250       2.200        7.000          48.000        0.800   \n",
       "max        1998.000       3.000       19.000          64.000        1.000   \n",
       "\n",
       "       MobileWeight  NumberOfCores  PrimaryCamera  PixelHeight  PixelWidth  \\\n",
       "count      2000.000       2000.000       2000.000     2000.000    2000.000   \n",
       "mean        140.249          4.520          9.916      645.108    1251.516   \n",
       "std          35.400          2.288          6.064      443.781     432.199   \n",
       "min          80.000          1.000          0.000        0.000     500.000   \n",
       "25%         109.000          3.000          5.000      282.750     874.750   \n",
       "50%         141.000          4.000         10.000      564.000    1247.000   \n",
       "75%         170.000          7.000         15.000      947.250    1633.000   \n",
       "max         200.000          8.000         20.000     1960.000    1998.000   \n",
       "\n",
       "        RAMSize  ScreenHeight  ScreenWidth  TalkTime  Price_Range  \n",
       "count  2000.000      2000.000     2000.000  2000.000     2000.000  \n",
       "mean   2124.213        12.306        5.767    11.011        1.500  \n",
       "std    1084.732         4.213        4.356     5.464        1.118  \n",
       "min     256.000         5.000        0.000     2.000        0.000  \n",
       "25%    1207.500         9.000        2.000     6.000        0.750  \n",
       "50%    2146.500        12.000        5.000    11.000        1.500  \n",
       "75%    3064.500        16.000        9.000    16.000        2.250  \n",
       "max    3998.000        19.000       18.000    20.000        3.000  "
      ]
     },
     "execution_count": 13,
     "metadata": {},
     "output_type": "execute_result"
    }
   ],
   "source": [
    "mobile_df.describe(include = np.number).round(3)"
   ]
  },
  {
   "cell_type": "code",
   "execution_count": 14,
   "metadata": {},
   "outputs": [
    {
     "data": {
      "text/html": [
       "<div>\n",
       "<style scoped>\n",
       "    .dataframe tbody tr th:only-of-type {\n",
       "        vertical-align: middle;\n",
       "    }\n",
       "\n",
       "    .dataframe tbody tr th {\n",
       "        vertical-align: top;\n",
       "    }\n",
       "\n",
       "    .dataframe thead th {\n",
       "        text-align: right;\n",
       "    }\n",
       "</style>\n",
       "<table border=\"1\" class=\"dataframe\">\n",
       "  <thead>\n",
       "    <tr style=\"text-align: right;\">\n",
       "      <th></th>\n",
       "      <th>BlueTooth</th>\n",
       "      <th>DualSim</th>\n",
       "      <th>4G</th>\n",
       "      <th>3G</th>\n",
       "      <th>TouchScreen</th>\n",
       "      <th>WIFI</th>\n",
       "    </tr>\n",
       "  </thead>\n",
       "  <tbody>\n",
       "    <tr>\n",
       "      <th>count</th>\n",
       "      <td>2000</td>\n",
       "      <td>2000</td>\n",
       "      <td>2000</td>\n",
       "      <td>2000</td>\n",
       "      <td>2000</td>\n",
       "      <td>2000</td>\n",
       "    </tr>\n",
       "    <tr>\n",
       "      <th>unique</th>\n",
       "      <td>2</td>\n",
       "      <td>2</td>\n",
       "      <td>2</td>\n",
       "      <td>2</td>\n",
       "      <td>2</td>\n",
       "      <td>2</td>\n",
       "    </tr>\n",
       "    <tr>\n",
       "      <th>top</th>\n",
       "      <td>0</td>\n",
       "      <td>1</td>\n",
       "      <td>1</td>\n",
       "      <td>1</td>\n",
       "      <td>1</td>\n",
       "      <td>1</td>\n",
       "    </tr>\n",
       "    <tr>\n",
       "      <th>freq</th>\n",
       "      <td>1010</td>\n",
       "      <td>1019</td>\n",
       "      <td>1043</td>\n",
       "      <td>1523</td>\n",
       "      <td>1006</td>\n",
       "      <td>1014</td>\n",
       "    </tr>\n",
       "  </tbody>\n",
       "</table>\n",
       "</div>"
      ],
      "text/plain": [
       "        BlueTooth  DualSim    4G    3G  TouchScreen  WIFI\n",
       "count        2000     2000  2000  2000         2000  2000\n",
       "unique          2        2     2     2            2     2\n",
       "top             0        1     1     1            1     1\n",
       "freq         1010     1019  1043  1523         1006  1014"
      ]
     },
     "execution_count": 14,
     "metadata": {},
     "output_type": "execute_result"
    }
   ],
   "source": [
    "mobile_df.describe(include = np.object)"
   ]
  },
  {
   "cell_type": "markdown",
   "metadata": {},
   "source": [
    "## <span style=\"color: #0099cc;\"> Checking for Outliers"
   ]
  },
  {
   "cell_type": "markdown",
   "metadata": {},
   "source": [
    "Outliers are unusual values in the dataset, and they can distort further analysis. These should be either removed of imputed with mean/mode value. Here, Since the number of outliers are very small, outliers are removed. This is achieved by plotting boxplot and then the outliers are removed using __'TUKEY's'__ method."
   ]
  },
  {
   "cell_type": "markdown",
   "metadata": {},
   "source": [
    "Boxplots are plotted using <code>boxplot</code> function of <code>matplotlib</code> library."
   ]
  },
  {
   "cell_type": "code",
   "execution_count": 15,
   "metadata": {},
   "outputs": [
    {
     "data": {
      "image/png": "[encoded data removed]",
      "text/plain": [
       "<Figure size 1800x720 with 14 Axes>"
      ]
     },
     "metadata": {
      "needs_background": "light"
     },
     "output_type": "display_data"
    }
   ],
   "source": [
    "num_cols = mobile_df.select_dtypes(include=['float64' , 'int64']).columns.tolist()[:-1]\n",
    "fig = plt.figure(figsize=[25,10])\n",
    "for col,num in zip(num_cols, range(1,15)):\n",
    "    ax = fig.add_subplot(2,7,num)\n",
    "    sns.boxplot(mobile_df[col], orient='v')\n",
    "    ax.set_title(\"Boxplot of\\n\" +col)\n",
    "    ax.set_ylabel('')\n",
    "plt.show()"
   ]
  },
  {
   "cell_type": "markdown",
   "metadata": {},
   "source": [
    "Features <code>PixelHeight</code> and <code>FrontCamera</code> has a total of __2__   and __18__ observations as __Outliers__ respectively. These 20 observations are removed as the outliers present in the dataset are less than 5% of total number of observations."
   ]
  },
  {
   "cell_type": "code",
   "execution_count": 16,
   "metadata": {},
   "outputs": [
    {
     "data": {
      "text/plain": [
       "(1998, 21)"
      ]
     },
     "execution_count": 16,
     "metadata": {},
     "output_type": "execute_result"
    }
   ],
   "source": [
    "Q1 = mobile_df['PixelHeight'].quantile(0.25)\n",
    "Q3 = mobile_df['PixelHeight'].quantile(0.75)\n",
    "IQR = Q3 - Q1\n",
    "all_cols = mobile_df.columns\n",
    "idx = mobile_df[((mobile_df['PixelHeight'] < (Q1 - 1.5 * IQR)) | (mobile_df['PixelHeight'] > (Q3 + 1.5 * IQR)))] [all_cols].index\n",
    "mobile_df = mobile_df.drop(mobile_df.index[idx])\n",
    "mobile_df.shape"
   ]
  },
  {
   "cell_type": "code",
   "execution_count": 17,
   "metadata": {},
   "outputs": [
    {
     "data": {
      "text/plain": [
       "(1980, 21)"
      ]
     },
     "execution_count": 17,
     "metadata": {},
     "output_type": "execute_result"
    }
   ],
   "source": [
    "Q1 = mobile_df['FrontCamera'].quantile(0.25)\n",
    "Q3 = mobile_df['FrontCamera'].quantile(0.75)\n",
    "IQR = Q3 - Q1\n",
    "all_cols = mobile_df.columns\n",
    "idx = mobile_df[((mobile_df['FrontCamera'] < (Q1 - 1.5 * IQR)) | (mobile_df['FrontCamera'] > (Q3 + 1.5 * IQR)))] [all_cols].index\n",
    "mobile_df = mobile_df.drop(mobile_df.index[idx])\n",
    "mobile_df.shape"
   ]
  },
  {
   "cell_type": "markdown",
   "metadata": {},
   "source": [
    "## <span style=\"color: #0099cc;\"> Dependent Variable"
   ]
  },
  {
   "cell_type": "markdown",
   "metadata": {},
   "source": [
    "We need to make sure the levels of the <code>Price_Range</code> categorical feature, which is our __\"Target\"__ feature."
   ]
  },
  {
   "cell_type": "code",
   "execution_count": 18,
   "metadata": {},
   "outputs": [
    {
     "data": {
      "text/plain": [
       "0    498\n",
       "2    497\n",
       "1    494\n",
       "3    491\n",
       "Name: Price_Range, dtype: int64"
      ]
     },
     "execution_count": 18,
     "metadata": {},
     "output_type": "execute_result"
    }
   ],
   "source": [
    "mobile_df['Price_Range'].value_counts()"
   ]
  },
  {
   "cell_type": "markdown",
   "metadata": {},
   "source": [
    "# <span style=\"color: #0099cc;\"> Data Exploration and Visualization <a class=\"anchor\" id=\"6\"></a>"
   ]
  },
  {
   "cell_type": "markdown",
   "metadata": {},
   "source": [
    "Our dataset can now be considered __\"clean\"__ and __\"ready\"__ for visualisation and statistical modeling."
   ]
  },
  {
   "cell_type": "markdown",
   "metadata": {},
   "source": [
    "## <span style=\"color: #0099cc;\"> Univariate Visualization <a class=\"anchor\" id=\"7\"></a>"
   ]
  },
  {
   "cell_type": "markdown",
   "metadata": {},
   "source": [
    "__1. Bar Chart of <code>DualSim</code>__: \n",
    "* From Figure 1, it is clear that there is no significance difference in the number of dual sim and non dual sim mobile phones."
   ]
  },
  {
   "cell_type": "code",
   "execution_count": 19,
   "metadata": {
    "scrolled": false
   },
   "outputs": [
    {
     "data": {
      "image/png": "[encoded data removed]",
      "text/plain": [
       "<Figure size 504x288 with 1 Axes>"
      ]
     },
     "metadata": {
      "needs_background": "light"
     },
     "output_type": "display_data"
    }
   ],
   "source": [
    "plt.figure(figsize=[7,4])\n",
    "YesNoLabels = ['YES','NO']\n",
    "PriceLabels = ['Low Cost','Medium Cost','High Cost','Very High Cost']\n",
    "RelPriceLabels = [' ','Low Cost','Medium Cost','High Cost','Very High Cost']\n",
    "graph = mobile_df['DualSim'].value_counts().plot(kind = 'bar')\n",
    "graph.set_xticklabels(YesNoLabels, rotation = 0, fontsize='large')\n",
    "plt.tight_layout()\n",
    "plt.title('Figure 1: Bar Chart of DualSim', fontsize = 15)\n",
    "plt.xlabel('Dual Sim Capability', fontsize='x-large',fontweight='bold')\n",
    "plt.ylabel('Number of Mobile Phones', fontsize='x-large',fontweight='bold')\n",
    "plt.show()"
   ]
  },
  {
   "cell_type": "markdown",
   "metadata": {},
   "source": [
    "__2. Histogram of <code>FrontCamera</code>__ : \n",
    "* The distribution in Figure 2 is right skewed. This shows a lot of mobile phones are built with front cameras with less MegaPixels."
   ]
  },
  {
   "cell_type": "code",
   "execution_count": 20,
   "metadata": {},
   "outputs": [
    {
     "data": {
      "image/png": "[encoded data removed]",
      "text/plain": [
       "<Figure size 504x288 with 1 Axes>"
      ]
     },
     "metadata": {
      "needs_background": "light"
     },
     "output_type": "display_data"
    }
   ],
   "source": [
    "plt.figure(figsize=[7,4])\n",
    "graph = sns.distplot(mobile_df['FrontCamera'], kde=False, rug=True).set_title('Figure 2: Histogram of FrontCamera', fontsize = 15)\n",
    "plt.tight_layout()\n",
    "plt.xlabel('Front Camera', fontsize='x-large',fontweight='bold')\n",
    "plt.ylabel('Frequency', fontsize='x-large',fontweight='bold')\n",
    "plt.show();"
   ]
  },
  {
   "cell_type": "markdown",
   "metadata": {},
   "source": [
    "__3. Bar Chart of <code>4G</code>__ : \n",
    "* From Figure 3, a little more than half of the mobile phones are 4G capable."
   ]
  },
  {
   "cell_type": "code",
   "execution_count": 21,
   "metadata": {},
   "outputs": [
    {
     "data": {
      "image/png": "[encoded data removed]",
      "text/plain": [
       "<Figure size 504x288 with 1 Axes>"
      ]
     },
     "metadata": {
      "needs_background": "light"
     },
     "output_type": "display_data"
    }
   ],
   "source": [
    "plt.figure(figsize=[7,4])\n",
    "graph = mobile_df['4G'].value_counts().plot(kind = 'bar')\n",
    "graph.set_xticklabels(YesNoLabels, rotation = 0, fontsize='large')\n",
    "plt.tight_layout()\n",
    "plt.title('Figure 3: Bar Chart of 4G', fontsize = 15)\n",
    "plt.xlabel('4G Capability', fontsize='x-large',fontweight='bold')\n",
    "plt.ylabel('Number of Mobile Phones', fontsize='x-large',fontweight='bold')\n",
    "plt.show();"
   ]
  },
  {
   "cell_type": "markdown",
   "metadata": {},
   "source": [
    "__4. Box Plot of <code>ClockSpeed</code>__ : \n",
    "* The boxplot indicated that ClockSpeed of the mobiles followed a symmetric distribution."
   ]
  },
  {
   "cell_type": "code",
   "execution_count": 22,
   "metadata": {},
   "outputs": [
    {
     "data": {
      "image/png": "[encoded data removed]",
      "text/plain": [
       "<Figure size 504x288 with 1 Axes>"
      ]
     },
     "metadata": {
      "needs_background": "light"
     },
     "output_type": "display_data"
    }
   ],
   "source": [
    "plt.figure(figsize=[7,4])\n",
    "graph = sns.boxplot(mobile_df['ClockSpeed'], orient=\"vert\")\n",
    "plt.title('Figure 4: Box Plot of Clock Speed', fontsize = 15)\n",
    "plt.tight_layout()\n",
    "plt.xlabel('Clock Speed', fontsize='x-large',fontweight='bold')\n",
    "plt.ylabel('Number of Mobile Phones', fontsize='x-large',fontweight='bold')\n",
    "plt.show();"
   ]
  },
  {
   "cell_type": "markdown",
   "metadata": {},
   "source": [
    "__5. Histogram of <code>ScreenWidth</code>__ : \n",
    "* Figure 5 distribution is again right skewed, with a major number of mobile phones under 2.5 CMs screen width."
   ]
  },
  {
   "cell_type": "code",
   "execution_count": 23,
   "metadata": {},
   "outputs": [
    {
     "data": {
      "image/png": "[encoded data removed]",
      "text/plain": [
       "<Figure size 504x288 with 1 Axes>"
      ]
     },
     "metadata": {
      "needs_background": "light"
     },
     "output_type": "display_data"
    }
   ],
   "source": [
    "plt.figure(figsize=[7,4])\n",
    "graph = sns.distplot(mobile_df['ScreenWidth'], kde=False, rug=True).set_title('Figure 5: Histogram of Screen Width', fontsize = 15)\n",
    "plt.tight_layout()\n",
    "plt.xlabel('Screen Width', fontsize='x-large',fontweight='bold')\n",
    "plt.ylabel('Frequency', fontsize='x-large',fontweight='bold')\n",
    "plt.show();"
   ]
  },
  {
   "cell_type": "markdown",
   "metadata": {},
   "source": [
    "## <span style=\"color:#0099cc\"> Bivariate Visualization <a class=\"anchor\" id=\"8\"></a>"
   ]
  },
  {
   "cell_type": "markdown",
   "metadata": {},
   "source": [
    "__6. Bar Plot of average<code>BatteryPower</code> by <code>Price_Range</code>__ : \n",
    "* Figure 6 depicts that as the price range increases the mean battery power raises."
   ]
  },
  {
   "cell_type": "code",
   "execution_count": 24,
   "metadata": {},
   "outputs": [
    {
     "data": {
      "text/plain": [
       "<Figure size 504x216 with 0 Axes>"
      ]
     },
     "metadata": {},
     "output_type": "display_data"
    },
    {
     "data": {
      "image/png": "[encoded data removed]",
      "text/plain": [
       "<Figure size 547.2x288 with 1 Axes>"
      ]
     },
     "metadata": {
      "needs_background": "light"
     },
     "output_type": "display_data"
    }
   ],
   "source": [
    "plt.figure(figsize=[7,3])\n",
    "graph = sns.catplot(x= 'Price_Range', y='BatteryPower', data = mobile_df, kind = \"bar\", height=4,aspect=1.9)\n",
    "graph.set_xticklabels(PriceLabels, rotation = 0, fontsize='large')\n",
    "plt.tight_layout()\n",
    "plt.title('Figure 6: Bar Plot of Average Battery Power', fontsize = 15)\n",
    "plt.xlabel('Price Range',fontsize='x-large',fontweight='bold')\n",
    "plt.ylabel('Average Battery Power',fontsize='x-large',fontweight='bold')\n",
    "plt.show();"
   ]
  },
  {
   "cell_type": "markdown",
   "metadata": {},
   "source": [
    "__7. Box Plot of <code>MobileWeight</code> by <code>Price_Range</code>__ : \n",
    "* The distribution of weight of mobile phones are similarly distributed among the different price range."
   ]
  },
  {
   "cell_type": "code",
   "execution_count": 25,
   "metadata": {},
   "outputs": [
    {
     "data": {
      "text/plain": [
       "<Figure size 1008x432 with 0 Axes>"
      ]
     },
     "metadata": {},
     "output_type": "display_data"
    },
    {
     "data": {
      "image/png": "[encoded data removed]",
      "text/plain": [
       "<Figure size 547.2x288 with 1 Axes>"
      ]
     },
     "metadata": {
      "needs_background": "light"
     },
     "output_type": "display_data"
    }
   ],
   "source": [
    "plt.figure(figsize=(14,6))\n",
    "graph = sns.catplot(x = 'Price_Range', y='MobileWeight', data = mobile_df, kind=\"box\", height=4,aspect=1.9)\n",
    "graph.set_xticklabels(PriceLabels, rotation = 0, fontsize='large')\n",
    "plt.tight_layout()\n",
    "plt.title('Figure 7: Box Plot of Mobile Weight by Price Range', fontsize = 15)\n",
    "plt.xlabel('Price Range',fontsize='x-large',fontweight='bold')\n",
    "plt.ylabel('Weight of the mobile',fontsize='x-large',fontweight='bold')\n",
    "plt.show();"
   ]
  },
  {
   "cell_type": "markdown",
   "metadata": {},
   "source": [
    "__8. Box Plot of <code>RAMSize</code> by <code>Price Range</code>__ : \n",
    "* Figure 8 shows clearly that higher priced mobile phones have higher RAM sizes."
   ]
  },
  {
   "cell_type": "code",
   "execution_count": 26,
   "metadata": {},
   "outputs": [
    {
     "data": {
      "text/plain": [
       "<Figure size 1008x432 with 0 Axes>"
      ]
     },
     "metadata": {},
     "output_type": "display_data"
    },
    {
     "data": {
      "image/png": "[encoded data removed]",
      "text/plain": [
       "<Figure size 547.2x288 with 1 Axes>"
      ]
     },
     "metadata": {
      "needs_background": "light"
     },
     "output_type": "display_data"
    }
   ],
   "source": [
    "plt.figure(figsize=[14,6])\n",
    "graph = sns.catplot(x= 'Price_Range', y = 'RAMSize', data = mobile_df, kind = \"box\", height=4,aspect=1.9)\n",
    "graph.set_xticklabels(PriceLabels, rotation = 0, fontsize='large')\n",
    "plt.title('Figure 8: Boxplot of RAM Size by Price Range', fontsize = 15)\n",
    "plt.tight_layout()\n",
    "plt.xlabel('Price Range',fontsize='x-large',fontweight='bold')\n",
    "plt.ylabel('Size of Ram (in MBs)',fontsize='x-large',fontweight='bold')\n",
    "plt.show();"
   ]
  },
  {
   "cell_type": "markdown",
   "metadata": {},
   "source": [
    "__9. Point Plot of <code>Average TalkTime</code> by <code>Price Range</code>__ : \n",
    "* The Average Talktime of the medium cost mobile phones is higher than rest of the other priced mobile phones."
   ]
  },
  {
   "cell_type": "code",
   "execution_count": 27,
   "metadata": {},
   "outputs": [
    {
     "data": {
      "text/plain": [
       "<Figure size 1008x432 with 0 Axes>"
      ]
     },
     "metadata": {},
     "output_type": "display_data"
    },
    {
     "data": {
      "image/png": "[encoded data removed]",
      "text/plain": [
       "<Figure size 547.2x288 with 1 Axes>"
      ]
     },
     "metadata": {
      "needs_background": "light"
     },
     "output_type": "display_data"
    }
   ],
   "source": [
    "plt.figure(figsize=(14,6))\n",
    "graph = sns.catplot(x=\"Price_Range\", y=\"TalkTime\", kind=\"point\", data=mobile_df, height=4,aspect=1.9)\n",
    "labels = ['Low Cost','Medium Cost','High Cost','Very High Cost']\n",
    "plt.title('Figure 9: Point plot of Average Talk Time by Price Range', fontsize = 15)\n",
    "graph.set_xticklabels(labels, rotation = 0, fontsize='large')\n",
    "plt.tight_layout()\n",
    "plt.xlabel('Price Range',fontsize='x-large',fontweight='bold')\n",
    "plt.ylabel('Average Talk Time',fontsize='x-large',fontweight='bold')\n",
    "plt.show();"
   ]
  },
  {
   "cell_type": "markdown",
   "metadata": {},
   "source": [
    "__10. Bar Plot of <code>3G phones</code> and <code>4G phones</code>__ : \n",
    "* Irrespective of the mobile price ranges, the 3/4th proportion of mobile phones do not support 3G."
   ]
  },
  {
   "cell_type": "code",
   "execution_count": 28,
   "metadata": {},
   "outputs": [
    {
     "data": {
      "text/plain": [
       "<Figure size 1008x432 with 0 Axes>"
      ]
     },
     "metadata": {},
     "output_type": "display_data"
    },
    {
     "data": {
      "image/png": "[encoded data removed]",
      "text/plain": [
       "<Figure size 504x288 with 1 Axes>"
      ]
     },
     "metadata": {
      "needs_background": "light"
     },
     "output_type": "display_data"
    }
   ],
   "source": [
    "plt.figure(figsize=(14,6))\n",
    "graph = pd.crosstab(mobile_df['3G'],mobile_df['Price_Range'], normalize=\"columns\").plot(kind=\"bar\", figsize=[7,4])\n",
    "graph.set_xticklabels(YesNoLabels, rotation = 0, fontsize='large')\n",
    "plt.xticks(rotation=0)\n",
    "plt.tight_layout()\n",
    "plt.xlabel('3G Capability', fontsize='x-large',fontweight='bold')\n",
    "plt.ylabel('Number of mobile phones', fontsize='x-large',fontweight='bold')\n",
    "plt.title(\"Figure 10. Frequency Table of 3G mobiles\", fontsize='x-large',fontweight='normal')\n",
    "\n",
    "plt.legend(title = \"Price_Range\")\n",
    "plt.legend(PriceLabels)\n",
    "plt.show()"
   ]
  },
  {
   "cell_type": "markdown",
   "metadata": {},
   "source": [
    "## <span style=\"color:#0099cc\">Trivariate Visualization <a class=\"anchor\" id=\"9\"></a>"
   ]
  },
  {
   "cell_type": "markdown",
   "metadata": {},
   "source": [
    "__11. Box Plot of <code>Clock Speed</code> by <code>Blue Tooth</code> for all the <code>Price_Range</code>__\n",
    "* When Clock Speed was plotted against Bluetooth capability for various price ranges showed symmetry."
   ]
  },
  {
   "cell_type": "code",
   "execution_count": 29,
   "metadata": {},
   "outputs": [
    {
     "data": {
      "text/plain": [
       "<Figure size 1008x432 with 0 Axes>"
      ]
     },
     "metadata": {},
     "output_type": "display_data"
    },
    {
     "data": {
      "image/png": "[encoded data removed]",
      "text/plain": [
       "<Figure size 628.95x288 with 1 Axes>"
      ]
     },
     "metadata": {
      "needs_background": "light"
     },
     "output_type": "display_data"
    }
   ],
   "source": [
    "plt.figure(figsize=(14,6))\n",
    "graph = sns.catplot(x=\"BlueTooth\", y=\"ClockSpeed\", hue=\"Price_Range\", kind=\"box\", data=mobile_df,  height=4,aspect=1.9, legend_out = True)\n",
    "graph.set_xticklabels(YesNoLabels, rotation = 0, fontsize='large')\n",
    "plt.title('Figure 11: Box plot of Clock Speed by Blue Tooth for the Price Range', fontsize = 15)\n",
    "plt.xlabel('BlueTooth Capability',fontsize='x-large',fontweight='bold')\n",
    "plt.ylabel('Clock Speed (in GHz)',fontsize='x-large',fontweight='bold')\n",
    "Legendtitle = 'Price Range'\n",
    "graph._legend.set_title(Legendtitle)\n",
    "for t, l in zip(graph._legend.texts, PriceLabels): t.set_text(l)\n",
    "plt.show()"
   ]
  },
  {
   "cell_type": "markdown",
   "metadata": {},
   "source": [
    "__12. Box Plot of <code>Internal Memory</code> by <code>WIFI</code> for all the <code>Price Range</code>__\n",
    "* For Low Cost price range without WIFI capability the average internal memory was higher compared to the median.\n",
    "* Other Boxplots showed near to symmetric distribution."
   ]
  },
  {
   "cell_type": "code",
   "execution_count": 30,
   "metadata": {},
   "outputs": [
    {
     "data": {
      "text/plain": [
       "<Figure size 1008x432 with 0 Axes>"
      ]
     },
     "metadata": {},
     "output_type": "display_data"
    },
    {
     "data": {
      "image/png": "[encoded data removed]",
      "text/plain": [
       "<Figure size 628.95x288 with 1 Axes>"
      ]
     },
     "metadata": {
      "needs_background": "light"
     },
     "output_type": "display_data"
    }
   ],
   "source": [
    "plt.figure(figsize=(14,6))\n",
    "graph = sns.catplot(x=\"WIFI\", y=\"InternalMemory\", hue=\"Price_Range\", kind=\"box\", data=mobile_df,\n",
    "                    height=4,aspect=1.9, legend_out=True)\n",
    "graph.set_xticklabels(YesNoLabels, rotation = 0, fontsize='large')\n",
    "plt.title('Figure 12: Box plot of Internal Memory by WIFI for the Price Range', fontsize = 15)\n",
    "plt.xlabel('WIFI Capability',fontsize='x-large',fontweight='bold')\n",
    "plt.ylabel('Internal Memory',fontsize='x-large',fontweight='bold')\n",
    "Legendtitle = 'Price Range'\n",
    "graph._legend.set_title(Legendtitle)\n",
    "for t, l in zip(graph._legend.texts, PriceLabels): t.set_text(l)\n",
    "plt.show()"
   ]
  },
  {
   "cell_type": "markdown",
   "metadata": {},
   "source": [
    "__13. Scatter Plot of <code>Screen Height and Width</code> for all the <code>Price Range</code>__ : \n",
    "* From Figure 13 it can be inferred that there is not much of correlation between pixel height and width for low , medium and high cost.\n",
    "* But for most of the Very High Cost price range mobiles, Pixel width and height of the mobile phones were higher. "
   ]
  },
  {
   "cell_type": "code",
   "execution_count": 31,
   "metadata": {
    "scrolled": false
   },
   "outputs": [
    {
     "data": {
      "text/plain": [
       "<Figure size 1008x432 with 0 Axes>"
      ]
     },
     "metadata": {},
     "output_type": "display_data"
    },
    {
     "data": {
      "image/png": "[encoded data removed]",
      "text/plain": [
       "<Figure size 644.7x288 with 1 Axes>"
      ]
     },
     "metadata": {
      "needs_background": "light"
     },
     "output_type": "display_data"
    }
   ],
   "source": [
    "plt.figure(figsize=[14,6])\n",
    "graph = sns.relplot(x=\"PixelWidth\", y=\"PixelHeight\", hue=\"Price_Range\", data=mobile_df,  \n",
    "                    height=4,aspect=1.9, legend='brief')\n",
    "plt.title('Figure 13: Scatter plot of Pixel Height and Weight for the Price Range', fontsize = 15)\n",
    "plt.xlabel('Pixel Width',fontsize='x-large',fontweight='bold')\n",
    "plt.ylabel('Pixel Height',fontsize='x-large',fontweight='bold')\n",
    "Legendtitle = 'Price Range'\n",
    "graph._legend.set_title(Legendtitle)\n",
    "for t, l in zip(graph._legend.texts, RelPriceLabels): t.set_text(l)\n",
    "plt.show()"
   ]
  },
  {
   "cell_type": "markdown",
   "metadata": {},
   "source": [
    "__14. Box Plot of <code>Mobile Weight</code> of <code>4G</code> mobiles for all the <code>Price Range</code>__\n",
    "* The higher priced mobiles with 4G capability has mobile weight. On the other hand, lower priced mobiles without 4G capability tend to have more weight."
   ]
  },
  {
   "cell_type": "code",
   "execution_count": 32,
   "metadata": {
    "scrolled": false
   },
   "outputs": [
    {
     "data": {
      "text/html": [
       "Figure 14: Box Plot of Mobile Weight of 4G mobiles for all the Price Range"
      ],
      "text/plain": [
       "<IPython.core.display.HTML object>"
      ]
     },
     "metadata": {},
     "output_type": "display_data"
    },
    {
     "data": {
      "image/png": "[encoded data removed]",
      "text/plain": [
       "<Figure size 535.68x345.6 with 4 Axes>"
      ]
     },
     "metadata": {
      "needs_background": "light"
     },
     "output_type": "display_data"
    }
   ],
   "source": [
    "from IPython.display import display, HTML\n",
    "display(HTML('Figure 14: Box Plot of Mobile Weight of 4G mobiles for all the Price Range'))\n",
    "g = sns.catplot(x=\"MobileWeight\", y=\"4G\", row=\"Price_Range\", kind=\"box\", orient=\"h\", \n",
    "                height=1.2, aspect=6.2, data=mobile_df)\n",
    "plt.xlabel('Mobile Weight',fontsize='x-large',fontweight='bold')\n",
    "plt.show()"
   ]
  },
  {
   "cell_type": "markdown",
   "metadata": {},
   "source": [
    "## <span style=\"color:#0099cc\">Descriptive Features and the Target Feature "
   ]
  },
  {
   "cell_type": "code",
   "execution_count": 33,
   "metadata": {},
   "outputs": [
    {
     "data": {
      "text/plain": [
       "0    498\n",
       "2    497\n",
       "1    494\n",
       "3    491\n",
       "Name: Price_Range, dtype: int64"
      ]
     },
     "execution_count": 33,
     "metadata": {},
     "output_type": "execute_result"
    }
   ],
   "source": [
    "Data = mobile_df.drop(columns='Price_Range')\n",
    "target = mobile_df['Price_Range']\n",
    "target.value_counts()"
   ]
  },
  {
   "cell_type": "markdown",
   "metadata": {},
   "source": [
    "# <span style=\"color: #0099cc;\"> Predictive Modelling <a class=\"anchor\" id=\"10\"></a>\n",
    "## <span style=\"color: #0099cc;\"> Overview of Methodology <a class=\"anchor\" id=\"11\"></a>\n",
    "The following classifiers are used to predict multi-nominal target feature( __Price_Range__):<br/>\n",
    "Model 1: K-Nearest Neighbors (KNN)<br/>\n",
    "Model 2: Decision trees (DT)<br/>\n",
    "Model 3: Random Forest (RF)<br/>\n",
    "Model 4: Gaussian Naive Bayes<br/>\n",
    "Model 5: Support Vector Machine (SVM)<br/>\n",
    "\n",
    "In the data preparation stage, the outliers are handled by deleting as these outliers constitute only 1% of the data observations. Modeling strategy begins by encoding the categorical descriptive features as numerical and then scaling these descriptive features using Min-Max Scaler. For model training and testing, the data set is split into 70:30 ratio respectively. This way, training data has 1386 rows used for the hyperparameter tuning phase and test data has 594 rows of data used for performance comparison among the above-mentioned classifiers. Before fitting a classifier on the training data, the best features are selected using the Random Forest Importance method inside a pipeline.\n",
    "\n",
    "A grid search is performed for 4,5,10,15 and the full set of features (with 20 features) over each classifier. For each model, 5-fold stratified cross-validation evaluation method is applied on the training data using accuracy metric, since the multinomial target feature class counts are balanced and the aim is to accurately estimate the price range of mobiles(0: low cost, 1: medium cost, 2: high cost and 3: very high cost)\n",
    "\n",
    "The best set of hyperparameters is determined for each model using the training data called tuned classifiers. These tuned classifiers are fit on the test data using 10 fold Stratified cross-validation with 10 repetitions. To find whether the performance difference is statistically significant, paired t-tests are performed. Further, each classifier is compared with respect to corresponding micro scores and confusion matrices on test data to find the appropriate model for the data set."
   ]
  },
  {
   "cell_type": "markdown",
   "metadata": {},
   "source": [
    "# <span style=\"color:#0099cc\"> One Hot Encoding <a class=\"anchor\" id=\"12\"></a>"
   ]
  },
  {
   "cell_type": "code",
   "execution_count": 34,
   "metadata": {},
   "outputs": [],
   "source": [
    "for col in object_cols:\n",
    "    n = len(Data[col].unique())\n",
    "    if (n == 2):\n",
    "        Data[col] = pd.get_dummies(Data[col], drop_first=True)\n",
    "Data_encoded = pd.get_dummies(Data)"
   ]
  },
  {
   "cell_type": "code",
   "execution_count": 35,
   "metadata": {},
   "outputs": [
    {
     "data": {
      "text/plain": [
       "(1980, 20)"
      ]
     },
     "execution_count": 35,
     "metadata": {},
     "output_type": "execute_result"
    }
   ],
   "source": [
    "Data_encoded.shape"
   ]
  },
  {
   "cell_type": "code",
   "execution_count": 36,
   "metadata": {},
   "outputs": [
    {
     "data": {
      "text/plain": [
       "Index(['BatteryPower', 'BlueTooth', 'ClockSpeed', 'DualSim', 'FrontCamera',\n",
       "       '4G', 'InternalMemory', 'MobileDepth', 'MobileWeight', 'NumberOfCores',\n",
       "       'PrimaryCamera', 'PixelHeight', 'PixelWidth', 'RAMSize', 'ScreenHeight',\n",
       "       'ScreenWidth', 'TalkTime', '3G', 'TouchScreen', 'WIFI'],\n",
       "      dtype='object')"
      ]
     },
     "execution_count": 36,
     "metadata": {},
     "output_type": "execute_result"
    }
   ],
   "source": [
    "Data_encoded.columns"
   ]
  },
  {
   "cell_type": "markdown",
   "metadata": {},
   "source": [
    "# <span style=\"color:#0099cc\"> Scaling of Features <a class=\"anchor\" id=\"13\"></a>"
   ]
  },
  {
   "cell_type": "markdown",
   "metadata": {},
   "source": [
    "A copy of the encoded data is assigned to a variable `Data_unscaled` to keep track of column names. To scale the descriptive features of `Data_unscaled` data frame a min-max scaling is performed using the `MinMaxScaler` method, so that each descriptive feature is scaled to be between 0 and 1.<br/>\n",
    "Min-max scaling for a numerical feature is done as follows:\n",
    "\n",
    " \\begin{equation*}Scaled  Value =\\frac{Value - min Value}{max Value - min Value}\\end{equation*}"
   ]
  },
  {
   "cell_type": "code",
   "execution_count": 37,
   "metadata": {},
   "outputs": [
    {
     "data": {
      "text/plain": [
       "(1980, 20)"
      ]
     },
     "execution_count": 37,
     "metadata": {},
     "output_type": "execute_result"
    }
   ],
   "source": [
    "from sklearn import preprocessing\n",
    "from sklearn.model_selection import train_test_split\n",
    "Data_unscaled = Data_encoded.copy()\n",
    "Data_Scaler = preprocessing.MinMaxScaler()\n",
    "Data_Scaler.fit(Data_unscaled)\n",
    "Data_scaled = Data_Scaler.transform(Data_unscaled)\n",
    "Data_scaled.shape"
   ]
  },
  {
   "cell_type": "markdown",
   "metadata": {},
   "source": [
    "The 5 Observations of scaled data is displayed to make sure data is scaled, as all the column names are lost since the scaled data is Numpy array, Column names are retrieved by the copy of the data kept for this purpose."
   ]
  },
  {
   "cell_type": "code",
   "execution_count": 38,
   "metadata": {},
   "outputs": [
    {
     "data": {
      "text/html": [
       "<div>\n",
       "<style scoped>\n",
       "    .dataframe tbody tr th:only-of-type {\n",
       "        vertical-align: middle;\n",
       "    }\n",
       "\n",
       "    .dataframe tbody tr th {\n",
       "        vertical-align: top;\n",
       "    }\n",
       "\n",
       "    .dataframe thead th {\n",
       "        text-align: right;\n",
       "    }\n",
       "</style>\n",
       "<table border=\"1\" class=\"dataframe\">\n",
       "  <thead>\n",
       "    <tr style=\"text-align: right;\">\n",
       "      <th></th>\n",
       "      <th>BatteryPower</th>\n",
       "      <th>BlueTooth</th>\n",
       "      <th>ClockSpeed</th>\n",
       "      <th>DualSim</th>\n",
       "      <th>FrontCamera</th>\n",
       "      <th>4G</th>\n",
       "      <th>InternalMemory</th>\n",
       "      <th>MobileDepth</th>\n",
       "      <th>MobileWeight</th>\n",
       "      <th>NumberOfCores</th>\n",
       "      <th>PrimaryCamera</th>\n",
       "      <th>PixelHeight</th>\n",
       "      <th>PixelWidth</th>\n",
       "      <th>RAMSize</th>\n",
       "      <th>ScreenHeight</th>\n",
       "      <th>ScreenWidth</th>\n",
       "      <th>TalkTime</th>\n",
       "      <th>3G</th>\n",
       "      <th>TouchScreen</th>\n",
       "      <th>WIFI</th>\n",
       "    </tr>\n",
       "  </thead>\n",
       "  <tbody>\n",
       "    <tr>\n",
       "      <th>701</th>\n",
       "      <td>0.760855</td>\n",
       "      <td>1.0</td>\n",
       "      <td>0.08</td>\n",
       "      <td>0.0</td>\n",
       "      <td>0.526316</td>\n",
       "      <td>1.0</td>\n",
       "      <td>0.306452</td>\n",
       "      <td>0.777778</td>\n",
       "      <td>0.741667</td>\n",
       "      <td>0.857143</td>\n",
       "      <td>0.70</td>\n",
       "      <td>0.306771</td>\n",
       "      <td>0.534713</td>\n",
       "      <td>0.021646</td>\n",
       "      <td>0.785714</td>\n",
       "      <td>0.166667</td>\n",
       "      <td>0.166667</td>\n",
       "      <td>1.0</td>\n",
       "      <td>1.0</td>\n",
       "      <td>0.0</td>\n",
       "    </tr>\n",
       "    <tr>\n",
       "      <th>1919</th>\n",
       "      <td>0.726119</td>\n",
       "      <td>1.0</td>\n",
       "      <td>0.80</td>\n",
       "      <td>0.0</td>\n",
       "      <td>0.631579</td>\n",
       "      <td>1.0</td>\n",
       "      <td>0.032258</td>\n",
       "      <td>0.222222</td>\n",
       "      <td>0.566667</td>\n",
       "      <td>0.571429</td>\n",
       "      <td>1.00</td>\n",
       "      <td>0.076042</td>\n",
       "      <td>0.214953</td>\n",
       "      <td>0.601283</td>\n",
       "      <td>0.000000</td>\n",
       "      <td>0.166667</td>\n",
       "      <td>0.500000</td>\n",
       "      <td>1.0</td>\n",
       "      <td>0.0</td>\n",
       "      <td>0.0</td>\n",
       "    </tr>\n",
       "    <tr>\n",
       "      <th>1008</th>\n",
       "      <td>0.480962</td>\n",
       "      <td>0.0</td>\n",
       "      <td>0.00</td>\n",
       "      <td>0.0</td>\n",
       "      <td>0.052632</td>\n",
       "      <td>1.0</td>\n",
       "      <td>0.419355</td>\n",
       "      <td>0.444444</td>\n",
       "      <td>0.491667</td>\n",
       "      <td>0.000000</td>\n",
       "      <td>0.35</td>\n",
       "      <td>0.986979</td>\n",
       "      <td>0.985314</td>\n",
       "      <td>0.583111</td>\n",
       "      <td>0.571429</td>\n",
       "      <td>0.611111</td>\n",
       "      <td>0.444444</td>\n",
       "      <td>1.0</td>\n",
       "      <td>1.0</td>\n",
       "      <td>1.0</td>\n",
       "    </tr>\n",
       "    <tr>\n",
       "      <th>1968</th>\n",
       "      <td>0.698731</td>\n",
       "      <td>1.0</td>\n",
       "      <td>0.96</td>\n",
       "      <td>0.0</td>\n",
       "      <td>0.105263</td>\n",
       "      <td>0.0</td>\n",
       "      <td>0.887097</td>\n",
       "      <td>0.333333</td>\n",
       "      <td>0.283333</td>\n",
       "      <td>0.000000</td>\n",
       "      <td>0.15</td>\n",
       "      <td>0.180729</td>\n",
       "      <td>0.305073</td>\n",
       "      <td>0.364511</td>\n",
       "      <td>0.285714</td>\n",
       "      <td>0.111111</td>\n",
       "      <td>0.944444</td>\n",
       "      <td>0.0</td>\n",
       "      <td>1.0</td>\n",
       "      <td>1.0</td>\n",
       "    </tr>\n",
       "    <tr>\n",
       "      <th>858</th>\n",
       "      <td>0.776887</td>\n",
       "      <td>1.0</td>\n",
       "      <td>0.96</td>\n",
       "      <td>1.0</td>\n",
       "      <td>0.473684</td>\n",
       "      <td>1.0</td>\n",
       "      <td>0.209677</td>\n",
       "      <td>0.444444</td>\n",
       "      <td>0.808333</td>\n",
       "      <td>0.857143</td>\n",
       "      <td>0.95</td>\n",
       "      <td>0.613542</td>\n",
       "      <td>0.953939</td>\n",
       "      <td>0.457509</td>\n",
       "      <td>0.500000</td>\n",
       "      <td>0.388889</td>\n",
       "      <td>0.388889</td>\n",
       "      <td>1.0</td>\n",
       "      <td>0.0</td>\n",
       "      <td>0.0</td>\n",
       "    </tr>\n",
       "  </tbody>\n",
       "</table>\n",
       "</div>"
      ],
      "text/plain": [
       "      BatteryPower  BlueTooth  ClockSpeed  DualSim  FrontCamera   4G  \\\n",
       "701       0.760855        1.0        0.08      0.0     0.526316  1.0   \n",
       "1919      0.726119        1.0        0.80      0.0     0.631579  1.0   \n",
       "1008      0.480962        0.0        0.00      0.0     0.052632  1.0   \n",
       "1968      0.698731        1.0        0.96      0.0     0.105263  0.0   \n",
       "858       0.776887        1.0        0.96      1.0     0.473684  1.0   \n",
       "\n",
       "      InternalMemory  MobileDepth  MobileWeight  NumberOfCores  PrimaryCamera  \\\n",
       "701         0.306452     0.777778      0.741667       0.857143           0.70   \n",
       "1919        0.032258     0.222222      0.566667       0.571429           1.00   \n",
       "1008        0.419355     0.444444      0.491667       0.000000           0.35   \n",
       "1968        0.887097     0.333333      0.283333       0.000000           0.15   \n",
       "858         0.209677     0.444444      0.808333       0.857143           0.95   \n",
       "\n",
       "      PixelHeight  PixelWidth   RAMSize  ScreenHeight  ScreenWidth  TalkTime  \\\n",
       "701      0.306771    0.534713  0.021646      0.785714     0.166667  0.166667   \n",
       "1919     0.076042    0.214953  0.601283      0.000000     0.166667  0.500000   \n",
       "1008     0.986979    0.985314  0.583111      0.571429     0.611111  0.444444   \n",
       "1968     0.180729    0.305073  0.364511      0.285714     0.111111  0.944444   \n",
       "858      0.613542    0.953939  0.457509      0.500000     0.388889  0.388889   \n",
       "\n",
       "       3G  TouchScreen  WIFI  \n",
       "701   1.0          1.0   0.0  \n",
       "1919  1.0          0.0   0.0  \n",
       "1008  1.0          1.0   1.0  \n",
       "1968  0.0          1.0   1.0  \n",
       "858   1.0          0.0   0.0  "
      ]
     },
     "execution_count": 38,
     "metadata": {},
     "output_type": "execute_result"
    }
   ],
   "source": [
    "pd.DataFrame(Data_scaled, columns=Data_unscaled.columns).sample(5, random_state=999)"
   ]
  },
  {
   "cell_type": "markdown",
   "metadata": {},
   "source": [
    "# <span style=\"color:#0099cc\"> Feature Selection & Ranking <a class=\"anchor\" id=\"14\"></a>"
   ]
  },
  {
   "cell_type": "markdown",
   "metadata": {},
   "source": [
    "* Using Random Forest Importance(RFI) the most important 10 features are selected in the full dataset.\n",
    "* During the hyperparameter tuning phase , RFI is included as part of pipeline and searched over 4, 5, 10, 15 and full set of 20 features to determine which number of features works best with each classifer."
   ]
  },
  {
   "cell_type": "code",
   "execution_count": 39,
   "metadata": {},
   "outputs": [
    {
     "data": {
      "text/plain": [
       "array(['RAMSize', 'BatteryPower', 'PixelHeight', 'PixelWidth',\n",
       "       'MobileWeight', 'InternalMemory', 'TalkTime', 'PrimaryCamera',\n",
       "       'ScreenWidth', 'ClockSpeed'], dtype=object)"
      ]
     },
     "execution_count": 39,
     "metadata": {},
     "output_type": "execute_result"
    }
   ],
   "source": [
    "from sklearn.ensemble import RandomForestClassifier\n",
    "\n",
    "num_features = 10\n",
    "model_rfi = RandomForestClassifier(n_estimators=100)\n",
    "model_rfi.fit(Data_scaled, target)\n",
    "fs_indices_rfi = np.argsort(model_rfi.feature_importances_)[::-1][0:num_features]\n",
    "\n",
    "best_features_rfi = Data_encoded.columns[fs_indices_rfi].values\n",
    "best_features_rfi"
   ]
  },
  {
   "cell_type": "code",
   "execution_count": 40,
   "metadata": {},
   "outputs": [
    {
     "data": {
      "text/plain": [
       "array([0.49033395, 0.07249702, 0.0570832 , 0.05673989, 0.03741151,\n",
       "       0.0364272 , 0.03088304, 0.02831685, 0.0270602 , 0.02650081])"
      ]
     },
     "execution_count": 40,
     "metadata": {},
     "output_type": "execute_result"
    }
   ],
   "source": [
    "feature_importances_rfi = model_rfi.feature_importances_[fs_indices_rfi]\n",
    "feature_importances_rfi"
   ]
  },
  {
   "cell_type": "code",
   "execution_count": 41,
   "metadata": {},
   "outputs": [],
   "source": [
    "%config InlineBackend.figure_format = 'retina'\n",
    "import altair as alt\n",
    "def plot_imp(best_features, scores, method_name, color):    \n",
    "    df = pd.DataFrame({'features': best_features, \n",
    "                       'importances': scores})    \n",
    "    chart = alt.Chart(df,width=500,title=method_name + ' Feature Importances').mark_bar(opacity=0.85,\n",
    "                                                                                        color=color).encode(\n",
    "        alt.X('features', title='Feature', sort=None, axis=alt.AxisConfig(labelAngle=45)),\n",
    "        alt.Y('importances', title='Importance'))\n",
    "    return chart"
   ]
  },
  {
   "cell_type": "code",
   "execution_count": 42,
   "metadata": {},
   "outputs": [
    {
     "data": {
      "text/html": [
       "\n",
       "<div id=\"altair-viz-7a24c8471d8646fabd22daa5ef6c8e05\"></div>\n",
       "<script type=\"text/javascript\">\n",
       "  (function(spec, embedOpt){\n",
       "    let outputDiv = document.currentScript.previousElementSibling;\n",
       "    if (outputDiv.id !== \"altair-viz-7a24c8471d8646fabd22daa5ef6c8e05\") {\n",
       "      outputDiv = document.getElementById(\"altair-viz-7a24c8471d8646fabd22daa5ef6c8e05\");\n",
       "    }\n",
       "    const paths = {\n",
       "      \"vega\": \"https://cdn.jsdelivr.net/npm//vega@5?noext\",\n",
       "      \"vega-lib\": \"https://cdn.jsdelivr.net/npm//vega-lib?noext\",\n",
       "      \"vega-lite\": \"https://cdn.jsdelivr.net/npm//vega-lite@4.8.1?noext\",\n",
       "      \"vega-embed\": \"https://cdn.jsdelivr.net/npm//vega-embed@6?noext\",\n",
       "    };\n",
       "\n",
       "    function loadScript(lib) {\n",
       "      return new Promise(function(resolve, reject) {\n",
       "        var s = document.createElement('script');\n",
       "        s.src = paths[lib];\n",
       "        s.async = true;\n",
       "        s.onload = () => resolve(paths[lib]);\n",
       "        s.onerror = () => reject(`Error loading script: ${paths[lib]}`);\n",
       "        document.getElementsByTagName(\"head\")[0].appendChild(s);\n",
       "      });\n",
       "    }\n",
       "\n",
       "    function showError(err) {\n",
       "      outputDiv.innerHTML = `<div class=\"error\" style=\"color:red;\">${err}</div>`;\n",
       "      throw err;\n",
       "    }\n",
       "\n",
       "    function displayChart(vegaEmbed) {\n",
       "      vegaEmbed(outputDiv, spec, embedOpt)\n",
       "        .catch(err => showError(`Javascript Error: ${err.message}<br>This usually means there's a typo in your chart specification. See the javascript console for the full traceback.`));\n",
       "    }\n",
       "\n",
       "    if(typeof define === \"function\" && define.amd) {\n",
       "      requirejs.config({paths});\n",
       "      require([\"vega-embed\"], displayChart, err => showError(`Error loading script: ${err.message}`));\n",
       "    } else if (typeof vegaEmbed === \"function\") {\n",
       "      displayChart(vegaEmbed);\n",
       "    } else {\n",
       "      loadScript(\"vega\")\n",
       "        .then(() => loadScript(\"vega-lite\"))\n",
       "        .then(() => loadScript(\"vega-embed\"))\n",
       "        .catch(showError)\n",
       "        .then(() => displayChart(vegaEmbed));\n",
       "    }\n",
       "  })({\"config\": {\"view\": {\"continuousWidth\": 400, \"continuousHeight\": 300}}, \"data\": {\"name\": \"data-37b8d6199f5fc0077ae9ab166c4954cc\"}, \"mark\": {\"type\": \"bar\", \"color\": \"#D92027\", \"opacity\": 0.85}, \"encoding\": {\"x\": {\"type\": \"nominal\", \"axis\": {\"labelAngle\": 45}, \"field\": \"features\", \"sort\": null, \"title\": \"Feature\"}, \"y\": {\"type\": \"quantitative\", \"field\": \"importances\", \"title\": \"Importance\"}}, \"height\": 150, \"title\": \"Random Forest Feature Importances\", \"width\": 400, \"$schema\": \"https://vega.github.io/schema/vega-lite/v4.8.1.json\", \"datasets\": {\"data-37b8d6199f5fc0077ae9ab166c4954cc\": [{\"features\": \"RAMSize\", \"importances\": 0.49033394980050704}, {\"features\": \"BatteryPower\", \"importances\": 0.07249702428941511}, {\"features\": \"PixelHeight\", \"importances\": 0.05708320155057661}, {\"features\": \"PixelWidth\", \"importances\": 0.05673989380789629}, {\"features\": \"MobileWeight\", \"importances\": 0.037411508190738026}, {\"features\": \"InternalMemory\", \"importances\": 0.036427200617477805}, {\"features\": \"TalkTime\", \"importances\": 0.03088304419583397}, {\"features\": \"PrimaryCamera\", \"importances\": 0.028316851874756296}, {\"features\": \"ScreenWidth\", \"importances\": 0.027060201512633674}, {\"features\": \"ClockSpeed\", \"importances\": 0.026500808617212816}]}}, {\"mode\": \"vega-lite\"});\n",
       "</script>"
      ],
      "text/plain": [
       "alt.Chart(...)"
      ]
     },
     "execution_count": 42,
     "metadata": {},
     "output_type": "execute_result"
    }
   ],
   "source": [
    "plot_imp(best_features_rfi, feature_importances_rfi, 'Random Forest', '#D92027').properties(width=400,height=150)"
   ]
  },
  {
   "cell_type": "markdown",
   "metadata": {},
   "source": [
    "From the above bar chart it can be inferred that <code>ram</code> feature has nearly 50 percent importance when compared to the remaining  top 9 features."
   ]
  },
  {
   "cell_type": "markdown",
   "metadata": {},
   "source": [
    "# <span style=\"color:#0099cc\"> Train-Test Splitting <a class=\"anchor\" id=\"15\"></a>"
   ]
  },
  {
   "cell_type": "markdown",
   "metadata": {},
   "source": [
    "Following <b>Golden Rule of Model Evaluation</b>, The data used to evaluate a model must be different from the data used to train it.\n",
    "The scaled dataset has 1980 observations and 20 columns which is divided into train and test partitions with a 70:30 ratio using stratification on target variable. Shape of trained data and test data is found using `shape` method."
   ]
  },
  {
   "cell_type": "code",
   "execution_count": 43,
   "metadata": {},
   "outputs": [],
   "source": [
    "D_train, D_test, t_train, t_test = train_test_split(Data_scaled,target,test_size = 0.3, \n",
    "                                                    random_state=999,\n",
    "                                                    stratify = target)"
   ]
  },
  {
   "cell_type": "code",
   "execution_count": 44,
   "metadata": {},
   "outputs": [
    {
     "data": {
      "text/plain": [
       "(1386, 20)"
      ]
     },
     "execution_count": 44,
     "metadata": {},
     "output_type": "execute_result"
    }
   ],
   "source": [
    "D_train.shape"
   ]
  },
  {
   "cell_type": "code",
   "execution_count": 45,
   "metadata": {},
   "outputs": [
    {
     "data": {
      "text/plain": [
       "(1386,)"
      ]
     },
     "execution_count": 45,
     "metadata": {},
     "output_type": "execute_result"
    }
   ],
   "source": [
    "t_train.shape"
   ]
  },
  {
   "cell_type": "code",
   "execution_count": 46,
   "metadata": {},
   "outputs": [
    {
     "data": {
      "text/plain": [
       "(594, 20)"
      ]
     },
     "execution_count": 46,
     "metadata": {},
     "output_type": "execute_result"
    }
   ],
   "source": [
    "D_test.shape"
   ]
  },
  {
   "cell_type": "code",
   "execution_count": 47,
   "metadata": {},
   "outputs": [
    {
     "data": {
      "text/plain": [
       "(594,)"
      ]
     },
     "execution_count": 47,
     "metadata": {},
     "output_type": "execute_result"
    }
   ],
   "source": [
    "t_test.shape"
   ]
  },
  {
   "cell_type": "markdown",
   "metadata": {},
   "source": [
    "# <span style=\"color:#0099cc\">Model Evaluation Strategy <a class=\"anchor\" id=\"16\"></a>"
   ]
  },
  {
   "cell_type": "markdown",
   "metadata": {},
   "source": [
    "* Training and tuning the models on 1386 rows of training data and on 594 rows of test data.<br/>\n",
    "* For each model, 5-fold stratified K fold cross-validation evaluation method is applied on the training data."
   ]
  },
  {
   "cell_type": "code",
   "execution_count": 48,
   "metadata": {},
   "outputs": [],
   "source": [
    "from sklearn.model_selection import StratifiedKFold, GridSearchCV\n",
    "cv_method = StratifiedKFold(n_splits=5, random_state=999)"
   ]
  },
  {
   "cell_type": "markdown",
   "metadata": {},
   "source": [
    "# <span style=\"color:#0099cc\">Hyperparameter Tuning <a class=\"anchor\" id=\"17\"></a>"
   ]
  },
  {
   "cell_type": "markdown",
   "metadata": {},
   "source": [
    "* For the hyperparameter tuning phase, `RFIFeatureSelector(RFI)` is used as part of the pipeline to find out the optimal descriptive features from  **4** to the full set of **20** features. \n",
    "* RFI is used to determines number of features works best with each classifier."
   ]
  },
  {
   "cell_type": "code",
   "execution_count": 49,
   "metadata": {},
   "outputs": [],
   "source": [
    "from sklearn.base import BaseEstimator, TransformerMixin\n",
    "\n",
    "# custom function for RFI feature selection inside a pipeline\n",
    "# here we use n_estimators=100\n",
    "class RFIFeatureSelector(BaseEstimator, TransformerMixin):    \n",
    "    # class constructor \n",
    "    # make sure class attributes end with a \"_\"\n",
    "    # per scikit-learn convention to avoid errors\n",
    "    def __init__(self, n_features_=10):\n",
    "        self.n_features_ = n_features_\n",
    "        self.fs_indices_ = None\n",
    "    # override the fit function\n",
    "    def fit(self, X, y):\n",
    "        from sklearn.ensemble import RandomForestClassifier\n",
    "        from numpy import argsort\n",
    "        model_rfi = RandomForestClassifier(n_estimators=100)\n",
    "        model_rfi.fit(X, y)\n",
    "        self.fs_indices_ = argsort(model_rfi.feature_importances_)[::-1][0:self.n_features_] \n",
    "        return self     \n",
    "    # override the transform function\n",
    "    def transform(self, X, y=None):\n",
    "        return X[:, self.fs_indices_]"
   ]
  },
  {
   "cell_type": "markdown",
   "metadata": {},
   "source": [
    "Using Pipeline, feature selection and grid search are stacked for all the six classifiers -<br/> \n",
    "    \n",
    "    1)k-nearest neighbors algorithm (k-NN)  \n",
    "    2)Decision Tree (DT) \n",
    "    3)Random Forest (RF)\n",
    "    4)Gaussian Naive Bayes\n",
    "    5)Support Vector Machine (SVM)\n",
    "For all the classifiers the hyperparameter tuning is performed via cross-validation.\n",
    "* The target feature is multi-nominal with 4 different levels (0, 1, 2, 3) of price range.\n",
    "* The value of 0 refers low cost, 1 refers medium cost, 2 refers high cost and 3 refers very high cost.\n",
    "* Scoring metric used is <code>accuracy</code> as the aim is to accurately estimate the price range of mobiles indicating how high is the price and the class counts are balanced.\n",
    "\n"
   ]
  },
  {
   "cell_type": "markdown",
   "metadata": {},
   "source": [
    "# <span style=\"color:#0099cc\"> Model 1 : K-Nearest Neighbors (KNN)</span> <a class=\"anchor\" id=\"18\"></a>"
   ]
  },
  {
   "cell_type": "markdown",
   "metadata": {},
   "source": [
    "* The KNN model is fit and it's hyperparameters are optimised using the grid search.\n",
    "* A grid search is performed for *number of features* - <code>4,5,10,15</code> and <code>20</code> over the following KNN hyperparameters: \n",
    "    * **Number of neighbors** - <code>5,10,15,20,25,30,35,37,40</code>\n",
    "    * **Distance metric (p)** - <code>1,2,5</code> \n",
    "<br/>\n",
    "\n",
    "* As the square root of the total number of observations(1386) is **37.2** in the trained data set.In order to check the trend over this number the n_neighbors maximum value is set to 40. "
   ]
  },
  {
   "cell_type": "code",
   "execution_count": 50,
   "metadata": {},
   "outputs": [],
   "source": [
    "from sklearn.pipeline import Pipeline\n",
    "from sklearn.neighbors import KNeighborsClassifier\n",
    "from sklearn.model_selection import StratifiedKFold, GridSearchCV\n",
    "from sklearn.feature_selection import SelectKBest, f_classif, mutual_info_classif\n",
    "pipe_KNN = Pipeline([('fselector', RFIFeatureSelector()), \n",
    "                     ('knn', KNeighborsClassifier())])\n",
    "params_pipe_KNN = {'fselector__n_features_': [4,5,10,15,D_train.shape[1]],\n",
    "                   'knn__n_neighbors': [5,35,37,40],\n",
    "                   'knn__p': [1,2,5]}\n",
    "gs_pipe_KNN = GridSearchCV(estimator=pipe_KNN,param_grid=params_pipe_KNN,cv=cv_method,n_jobs = -1,\n",
    "                           scoring='accuracy',verbose=1) "
   ]
  },
  {
   "cell_type": "code",
   "execution_count": 51,
   "metadata": {},
   "outputs": [
    {
     "name": "stdout",
     "output_type": "stream",
     "text": [
      "Fitting 5 folds for each of 60 candidates, totalling 300 fits\n"
     ]
    },
    {
     "name": "stderr",
     "output_type": "stream",
     "text": [
      "[Parallel(n_jobs=-1)]: Using backend LokyBackend with 8 concurrent workers.\n",
      "[Parallel(n_jobs=-1)]: Done  34 tasks      | elapsed:    3.8s\n",
      "[Parallel(n_jobs=-1)]: Done 184 tasks      | elapsed:   11.9s\n",
      "[Parallel(n_jobs=-1)]: Done 300 out of 300 | elapsed:   19.0s finished\n",
      "/opt/anaconda3/lib/python3.7/site-packages/sklearn/model_selection/_search.py:814: DeprecationWarning: The default of the `iid` parameter will change from True to False in version 0.22 and will be removed in 0.24. This will change numeric results when test-set sizes are unequal.\n",
      "  DeprecationWarning)\n"
     ]
    }
   ],
   "source": [
    "gs_pipe_KNN.fit(D_train, t_train);"
   ]
  },
  {
   "cell_type": "code",
   "execution_count": 52,
   "metadata": {},
   "outputs": [
    {
     "data": {
      "text/plain": [
       "{'fselector__n_features_': 4, 'knn__n_neighbors': 35, 'knn__p': 1}"
      ]
     },
     "execution_count": 52,
     "metadata": {},
     "output_type": "execute_result"
    }
   ],
   "source": [
    "gs_pipe_KNN.best_params_"
   ]
  },
  {
   "cell_type": "markdown",
   "metadata": {},
   "source": [
    "The best performing parameter combination are found using `best_params_`. It is found that the best features are:\n",
    "  * **Number of features** &nbsp;  <code>4</code>\n",
    "  * **Number of neighbors** &nbsp;<code>35</code>\n",
    "  * **Distance metric** &nbsp;<code>1</code> which is Manhattan distance"
   ]
  },
  {
   "cell_type": "markdown",
   "metadata": {},
   "source": [
    "The best score for the KNN Model is found using `best_score_`."
   ]
  },
  {
   "cell_type": "code",
   "execution_count": 53,
   "metadata": {},
   "outputs": [
    {
     "data": {
      "text/plain": [
       "0.9134199134199135"
      ]
     },
     "execution_count": 53,
     "metadata": {},
     "output_type": "execute_result"
    }
   ],
   "source": [
    "gs_pipe_KNN.best_score_"
   ]
  },
  {
   "cell_type": "markdown",
   "metadata": {},
   "source": [
    "* We can infer that the optimal KNN model has a <b>accuracy</b> score of 0.9134.This optimal value is obtained with 4 features and 35 nearest neighbours and p = 1, which is Manhattan distance.Just to be sure to have a look at the other combinations to see if the difference is rather significant or not with respect to best values. For this purpose `get_search_results` method is used to format the grid search outputs as a Pandas data frame."
   ]
  },
  {
   "cell_type": "code",
   "execution_count": 54,
   "metadata": {},
   "outputs": [],
   "source": [
    "# custom function to format the search results as a Pandas data frame\n",
    "def get_search_results(gs):\n",
    "    def model_result(scores, params):\n",
    "        scores = {'mean_score': np.mean(scores),\n",
    "             'std_score': np.std(scores),\n",
    "             'min_score': np.min(scores),\n",
    "             'max_score': np.max(scores)}\n",
    "        return pd.Series({**params,**scores})\n",
    "    models = []\n",
    "    scores = []\n",
    "    for i in range(gs.n_splits_):\n",
    "        key = f\"split{i}_test_score\"\n",
    "        r = gs.cv_results_[key]        \n",
    "        scores.append(r.reshape(-1,1))\n",
    "    all_scores = np.hstack(scores)\n",
    "    for p, s in zip(gs.cv_results_['params'], all_scores):\n",
    "        models.append((model_result(s, p)))\n",
    "    pipe_results = pd.concat(models, axis=1).T.sort_values(['mean_score'], ascending=False)\n",
    "    columns_first = ['mean_score', 'std_score', 'max_score', 'min_score']\n",
    "    columns = columns_first + [c for c in pipe_results.columns if c not in columns_first]\n",
    "    return pipe_results[columns]"
   ]
  },
  {
   "cell_type": "code",
   "execution_count": 55,
   "metadata": {},
   "outputs": [
    {
     "data": {
      "text/html": [
       "<div>\n",
       "<style scoped>\n",
       "    .dataframe tbody tr th:only-of-type {\n",
       "        vertical-align: middle;\n",
       "    }\n",
       "\n",
       "    .dataframe tbody tr th {\n",
       "        vertical-align: top;\n",
       "    }\n",
       "\n",
       "    .dataframe thead th {\n",
       "        text-align: right;\n",
       "    }\n",
       "</style>\n",
       "<table border=\"1\" class=\"dataframe\">\n",
       "  <thead>\n",
       "    <tr style=\"text-align: right;\">\n",
       "      <th></th>\n",
       "      <th>mean_score</th>\n",
       "      <th>std_score</th>\n",
       "      <th>max_score</th>\n",
       "      <th>min_score</th>\n",
       "      <th>fselector__n_features_</th>\n",
       "      <th>knn__n_neighbors</th>\n",
       "      <th>knn__p</th>\n",
       "    </tr>\n",
       "  </thead>\n",
       "  <tbody>\n",
       "    <tr>\n",
       "      <th>3</th>\n",
       "      <td>0.913</td>\n",
       "      <td>0.011</td>\n",
       "      <td>0.924</td>\n",
       "      <td>0.896</td>\n",
       "      <td>4.0</td>\n",
       "      <td>35.0</td>\n",
       "      <td>1.0</td>\n",
       "    </tr>\n",
       "    <tr>\n",
       "      <th>6</th>\n",
       "      <td>0.910</td>\n",
       "      <td>0.007</td>\n",
       "      <td>0.920</td>\n",
       "      <td>0.900</td>\n",
       "      <td>4.0</td>\n",
       "      <td>37.0</td>\n",
       "      <td>1.0</td>\n",
       "    </tr>\n",
       "    <tr>\n",
       "      <th>9</th>\n",
       "      <td>0.903</td>\n",
       "      <td>0.017</td>\n",
       "      <td>0.920</td>\n",
       "      <td>0.875</td>\n",
       "      <td>4.0</td>\n",
       "      <td>40.0</td>\n",
       "      <td>1.0</td>\n",
       "    </tr>\n",
       "    <tr>\n",
       "      <th>7</th>\n",
       "      <td>0.903</td>\n",
       "      <td>0.017</td>\n",
       "      <td>0.935</td>\n",
       "      <td>0.885</td>\n",
       "      <td>4.0</td>\n",
       "      <td>37.0</td>\n",
       "      <td>2.0</td>\n",
       "    </tr>\n",
       "    <tr>\n",
       "      <th>10</th>\n",
       "      <td>0.900</td>\n",
       "      <td>0.014</td>\n",
       "      <td>0.924</td>\n",
       "      <td>0.884</td>\n",
       "      <td>4.0</td>\n",
       "      <td>40.0</td>\n",
       "      <td>2.0</td>\n",
       "    </tr>\n",
       "  </tbody>\n",
       "</table>\n",
       "</div>"
      ],
      "text/plain": [
       "    mean_score  std_score  max_score  min_score  fselector__n_features_  \\\n",
       "3        0.913      0.011      0.924      0.896                     4.0   \n",
       "6        0.910      0.007      0.920      0.900                     4.0   \n",
       "9        0.903      0.017      0.920      0.875                     4.0   \n",
       "7        0.903      0.017      0.935      0.885                     4.0   \n",
       "10       0.900      0.014      0.924      0.884                     4.0   \n",
       "\n",
       "    knn__n_neighbors  knn__p  \n",
       "3               35.0     1.0  \n",
       "6               37.0     1.0  \n",
       "9               40.0     1.0  \n",
       "7               37.0     2.0  \n",
       "10              40.0     2.0  "
      ]
     },
     "execution_count": 55,
     "metadata": {},
     "output_type": "execute_result"
    }
   ],
   "source": [
    "results_KNN = get_search_results(gs_pipe_KNN)\n",
    "results_KNN.head().round(3)"
   ]
  },
  {
   "cell_type": "markdown",
   "metadata": {},
   "source": [
    "From the above output we can infer that the difference in mean_score is not significant between the hyperparameter combinations. Comparing the remaining combination a visualization of the results of the grid search corresponding to 4 features."
   ]
  },
  {
   "cell_type": "markdown",
   "metadata": {},
   "source": [
    "**Visualizing the results of the grid search corresponding to 4 selected features for KNN Model**"
   ]
  },
  {
   "cell_type": "code",
   "execution_count": 56,
   "metadata": {},
   "outputs": [
    {
     "data": {
      "text/html": [
       "\n",
       "<div id=\"altair-viz-01e8d9ee88044eb3a634c55a384d3022\"></div>\n",
       "<script type=\"text/javascript\">\n",
       "  (function(spec, embedOpt){\n",
       "    let outputDiv = document.currentScript.previousElementSibling;\n",
       "    if (outputDiv.id !== \"altair-viz-01e8d9ee88044eb3a634c55a384d3022\") {\n",
       "      outputDiv = document.getElementById(\"altair-viz-01e8d9ee88044eb3a634c55a384d3022\");\n",
       "    }\n",
       "    const paths = {\n",
       "      \"vega\": \"https://cdn.jsdelivr.net/npm//vega@5?noext\",\n",
       "      \"vega-lib\": \"https://cdn.jsdelivr.net/npm//vega-lib?noext\",\n",
       "      \"vega-lite\": \"https://cdn.jsdelivr.net/npm//vega-lite@4.8.1?noext\",\n",
       "      \"vega-embed\": \"https://cdn.jsdelivr.net/npm//vega-embed@6?noext\",\n",
       "    };\n",
       "\n",
       "    function loadScript(lib) {\n",
       "      return new Promise(function(resolve, reject) {\n",
       "        var s = document.createElement('script');\n",
       "        s.src = paths[lib];\n",
       "        s.async = true;\n",
       "        s.onload = () => resolve(paths[lib]);\n",
       "        s.onerror = () => reject(`Error loading script: ${paths[lib]}`);\n",
       "        document.getElementsByTagName(\"head\")[0].appendChild(s);\n",
       "      });\n",
       "    }\n",
       "\n",
       "    function showError(err) {\n",
       "      outputDiv.innerHTML = `<div class=\"error\" style=\"color:red;\">${err}</div>`;\n",
       "      throw err;\n",
       "    }\n",
       "\n",
       "    function displayChart(vegaEmbed) {\n",
       "      vegaEmbed(outputDiv, spec, embedOpt)\n",
       "        .catch(err => showError(`Javascript Error: ${err.message}<br>This usually means there's a typo in your chart specification. See the javascript console for the full traceback.`));\n",
       "    }\n",
       "\n",
       "    if(typeof define === \"function\" && define.amd) {\n",
       "      requirejs.config({paths});\n",
       "      require([\"vega-embed\"], displayChart, err => showError(`Error loading script: ${err.message}`));\n",
       "    } else if (typeof vegaEmbed === \"function\") {\n",
       "      displayChart(vegaEmbed);\n",
       "    } else {\n",
       "      loadScript(\"vega\")\n",
       "        .then(() => loadScript(\"vega-lite\"))\n",
       "        .then(() => loadScript(\"vega-embed\"))\n",
       "        .catch(showError)\n",
       "        .then(() => displayChart(vegaEmbed));\n",
       "    }\n",
       "  })({\"config\": {\"view\": {\"continuousWidth\": 400, \"continuousHeight\": 300}}, \"data\": {\"name\": \"data-1f51fbb2e13d3a7e89f910460c69ff14\"}, \"mark\": {\"type\": \"line\", \"point\": true}, \"encoding\": {\"color\": {\"type\": \"nominal\", \"field\": \"knn__p\", \"title\": \"p\"}, \"x\": {\"type\": \"quantitative\", \"field\": \"knn__n_neighbors\", \"title\": \"Number of Neighbors\"}, \"y\": {\"type\": \"quantitative\", \"field\": \"mean_score\", \"scale\": {\"zero\": false}, \"title\": \"Accuracy\"}}, \"title\": \"KNN Performance Comparison with 10 Features\", \"$schema\": \"https://vega.github.io/schema/vega-lite/v4.8.1.json\", \"datasets\": {\"data-1f51fbb2e13d3a7e89f910460c69ff14\": [{\"mean_score\": 0.9134381593284596, \"std_score\": 0.01050959752820166, \"max_score\": 0.9244604316546763, \"min_score\": 0.8960573476702509, \"fselector__n_features_\": 4.0, \"knn__n_neighbors\": 35.0, \"knn__p\": 1.0}, {\"mean_score\": 0.9098332452232782, \"std_score\": 0.006924657144502781, \"max_score\": 0.9202898550724637, \"min_score\": 0.899641577060932, \"fselector__n_features_\": 4.0, \"knn__n_neighbors\": 37.0, \"knn__p\": 1.0}, {\"mean_score\": 0.9033764751554616, \"std_score\": 0.016743212828961344, \"max_score\": 0.9202898550724637, \"min_score\": 0.8745519713261649, \"fselector__n_features_\": 4.0, \"knn__n_neighbors\": 40.0, \"knn__p\": 1.0}, {\"mean_score\": 0.9033503509572809, \"std_score\": 0.017139810735766245, \"max_score\": 0.9347826086956522, \"min_score\": 0.8853046594982079, \"fselector__n_features_\": 4.0, \"knn__n_neighbors\": 37.0, \"knn__p\": 2.0}, {\"mean_score\": 0.8997141567123708, \"std_score\": 0.014346845177184316, \"max_score\": 0.9239130434782609, \"min_score\": 0.8836363636363637, \"fselector__n_features_\": 4.0, \"knn__n_neighbors\": 40.0, \"knn__p\": 2.0}, {\"mean_score\": 0.8989894061035756, \"std_score\": 0.01699453299594654, \"max_score\": 0.927536231884058, \"min_score\": 0.8763636363636363, \"fselector__n_features_\": 4.0, \"knn__n_neighbors\": 35.0, \"knn__p\": 2.0}, {\"mean_score\": 0.8874367391717126, \"std_score\": 0.019797211717319636, \"max_score\": 0.9166666666666666, \"min_score\": 0.8618181818181818, \"fselector__n_features_\": 4.0, \"knn__n_neighbors\": 35.0, \"knn__p\": 5.0}, {\"mean_score\": 0.8823822669774419, \"std_score\": 0.029476212733087072, \"max_score\": 0.9311594202898551, \"min_score\": 0.84, \"fselector__n_features_\": 4.0, \"knn__n_neighbors\": 37.0, \"knn__p\": 5.0}, {\"mean_score\": 0.8773725341032795, \"std_score\": 0.012366929624007659, \"max_score\": 0.8920863309352518, \"min_score\": 0.8566308243727598, \"fselector__n_features_\": 4.0, \"knn__n_neighbors\": 5.0, \"knn__p\": 1.0}, {\"mean_score\": 0.8773333476021682, \"std_score\": 0.023301264667011004, \"max_score\": 0.9130434782608695, \"min_score\": 0.8472727272727273, \"fselector__n_features_\": 4.0, \"knn__n_neighbors\": 40.0, \"knn__p\": 5.0}, {\"mean_score\": 0.873037825560029, \"std_score\": 0.00569180599763531, \"max_score\": 0.88, \"min_score\": 0.8637992831541219, \"fselector__n_features_\": 4.0, \"knn__n_neighbors\": 5.0, \"knn__p\": 2.0}, {\"mean_score\": 0.8694094795819598, \"std_score\": 0.006944451826780873, \"max_score\": 0.8763636363636363, \"min_score\": 0.8597122302158273, \"fselector__n_features_\": 4.0, \"knn__n_neighbors\": 5.0, \"knn__p\": 5.0}]}}, {\"mode\": \"vega-lite\"});\n",
       "</script>"
      ],
      "text/plain": [
       "alt.Chart(...)"
      ]
     },
     "execution_count": 56,
     "metadata": {},
     "output_type": "execute_result"
    }
   ],
   "source": [
    "results_KNN_F4 = results_KNN[results_KNN['fselector__n_features_'] == 4.0]\n",
    "alt.Chart(results_KNN_F4,title='KNN Performance Comparison with 10 Features').mark_line(point=True).encode(\n",
    "    alt.X('knn__n_neighbors', title='Number of Neighbors'),\n",
    "    alt.Y('mean_score', title='Accuracy', scale=alt.Scale(zero=False)),\n",
    "    alt.Color('knn__p:N', title='p'))"
   ]
  },
  {
   "cell_type": "markdown",
   "metadata": {},
   "source": [
    "# <span style=\"color:#0099cc\"> Model 2 : Decision Tree <a class=\"anchor\" id=\"19\"></a>"
   ]
  },
  {
   "cell_type": "markdown",
   "metadata": {},
   "source": [
    "* The decision tree model is fit and its hyperparameters are optimised using the grid search.   \n",
    "\n",
    "\n",
    "* A grid search is performed for *number of features* - <code>4,5,10,15</code> and <code>20</code> over the following Decision Tree hyperparameters: \n",
    "    * **split criterion** - <code>Entropy , Gini</code>\n",
    "    * **maximum depth** - <code>1, 2, 3, 4, 5, 10, 15</code>\n",
    "    * **minimum samples split** - <code>2, 3, 5, 10</code>  \n",
    "    \n",
    "    \n",
    "* Determining the optimal combination of Number of Features , split criterion(criterion) maximum depth (max_depth) and minimum samples split (min_samples_split).\n",
    "\n"
   ]
  },
  {
   "cell_type": "code",
   "execution_count": 57,
   "metadata": {},
   "outputs": [],
   "source": [
    "from sklearn.tree import DecisionTreeClassifier\n",
    "pipe_DT = Pipeline(steps=[('rfi_fs', RFIFeatureSelector()),\n",
    "                          ('dt', DecisionTreeClassifier())])\n",
    "params_pipe_DT = {'rfi_fs__n_features_': [4,5,10,15,D_train.shape[1]],\n",
    "                  'dt__criterion': ['entropy','gini'],\n",
    "                  'dt__max_depth': [1, 2, 3, 4, 5 , 10 ,15],\n",
    "                  'dt__min_samples_split': [2,3,5,10]}\n",
    "gs_pipe_DT = GridSearchCV(estimator=pipe_DT,param_grid=params_pipe_DT,cv=cv_method,n_jobs=-1,refit = True,\n",
    "                          scoring='accuracy',verbose=1)"
   ]
  },
  {
   "cell_type": "code",
   "execution_count": 58,
   "metadata": {
    "scrolled": true
   },
   "outputs": [
    {
     "name": "stdout",
     "output_type": "stream",
     "text": [
      "Fitting 5 folds for each of 280 candidates, totalling 1400 fits\n"
     ]
    },
    {
     "name": "stderr",
     "output_type": "stream",
     "text": [
      "[Parallel(n_jobs=-1)]: Using backend LokyBackend with 8 concurrent workers.\n",
      "[Parallel(n_jobs=-1)]: Done  34 tasks      | elapsed:    2.0s\n",
      "[Parallel(n_jobs=-1)]: Done 184 tasks      | elapsed:    9.2s\n",
      "[Parallel(n_jobs=-1)]: Done 434 tasks      | elapsed:   22.6s\n",
      "[Parallel(n_jobs=-1)]: Done 784 tasks      | elapsed:   41.1s\n",
      "[Parallel(n_jobs=-1)]: Done 1234 tasks      | elapsed:  1.1min\n",
      "[Parallel(n_jobs=-1)]: Done 1400 out of 1400 | elapsed:  1.2min finished\n"
     ]
    }
   ],
   "source": [
    "gs_pipe_DT.fit(D_train, t_train);"
   ]
  },
  {
   "cell_type": "code",
   "execution_count": 59,
   "metadata": {
    "scrolled": false
   },
   "outputs": [
    {
     "data": {
      "text/plain": [
       "{'dt__criterion': 'entropy',\n",
       " 'dt__max_depth': 10,\n",
       " 'dt__min_samples_split': 2,\n",
       " 'rfi_fs__n_features_': 4}"
      ]
     },
     "execution_count": 59,
     "metadata": {},
     "output_type": "execute_result"
    }
   ],
   "source": [
    "gs_pipe_DT.best_params_"
   ]
  },
  {
   "cell_type": "markdown",
   "metadata": {},
   "source": [
    "* The best performing parameter combination are as follows:\n",
    "    * **split criterion** - <code>Entropy</code> \n",
    "    * **maximum depth** - <code>10</code>\n",
    "    * **minimum samples split** - <code>2</code>\n",
    "    * **Number of features** - <code>4</code>"
   ]
  },
  {
   "cell_type": "markdown",
   "metadata": {},
   "source": [
    "The best score for the Decision Tree with best performing parameters combination is obtained from `best_score_` attribute"
   ]
  },
  {
   "cell_type": "code",
   "execution_count": 60,
   "metadata": {},
   "outputs": [
    {
     "data": {
      "text/plain": [
       "0.8679653679653679"
      ]
     },
     "execution_count": 60,
     "metadata": {},
     "output_type": "execute_result"
    }
   ],
   "source": [
    "gs_pipe_DT.best_score_"
   ]
  },
  {
   "cell_type": "markdown",
   "metadata": {},
   "source": [
    "Having a look at the other combinations to see if the difference with respect to best values is rather significant or not.It can be seen that the difference between the hyperparameter combinations is not really much. "
   ]
  },
  {
   "cell_type": "code",
   "execution_count": 61,
   "metadata": {},
   "outputs": [
    {
     "data": {
      "text/html": [
       "<div>\n",
       "<style scoped>\n",
       "    .dataframe tbody tr th:only-of-type {\n",
       "        vertical-align: middle;\n",
       "    }\n",
       "\n",
       "    .dataframe tbody tr th {\n",
       "        vertical-align: top;\n",
       "    }\n",
       "\n",
       "    .dataframe thead th {\n",
       "        text-align: right;\n",
       "    }\n",
       "</style>\n",
       "<table border=\"1\" class=\"dataframe\">\n",
       "  <thead>\n",
       "    <tr style=\"text-align: right;\">\n",
       "      <th></th>\n",
       "      <th>mean_score</th>\n",
       "      <th>std_score</th>\n",
       "      <th>max_score</th>\n",
       "      <th>min_score</th>\n",
       "      <th>dt__criterion</th>\n",
       "      <th>dt__max_depth</th>\n",
       "      <th>dt__min_samples_split</th>\n",
       "      <th>rfi_fs__n_features_</th>\n",
       "    </tr>\n",
       "  </thead>\n",
       "  <tbody>\n",
       "    <tr>\n",
       "      <th>100</th>\n",
       "      <td>0.867957</td>\n",
       "      <td>0.0268057</td>\n",
       "      <td>0.895683</td>\n",
       "      <td>0.827957</td>\n",
       "      <td>entropy</td>\n",
       "      <td>10</td>\n",
       "      <td>2</td>\n",
       "      <td>4</td>\n",
       "    </tr>\n",
       "    <tr>\n",
       "      <th>105</th>\n",
       "      <td>0.865812</td>\n",
       "      <td>0.0230408</td>\n",
       "      <td>0.888489</td>\n",
       "      <td>0.827957</td>\n",
       "      <td>entropy</td>\n",
       "      <td>10</td>\n",
       "      <td>3</td>\n",
       "      <td>4</td>\n",
       "    </tr>\n",
       "    <tr>\n",
       "      <th>120</th>\n",
       "      <td>0.865809</td>\n",
       "      <td>0.0278998</td>\n",
       "      <td>0.902878</td>\n",
       "      <td>0.820789</td>\n",
       "      <td>entropy</td>\n",
       "      <td>15</td>\n",
       "      <td>2</td>\n",
       "      <td>4</td>\n",
       "    </tr>\n",
       "    <tr>\n",
       "      <th>125</th>\n",
       "      <td>0.860737</td>\n",
       "      <td>0.0307707</td>\n",
       "      <td>0.906475</td>\n",
       "      <td>0.817204</td>\n",
       "      <td>entropy</td>\n",
       "      <td>15</td>\n",
       "      <td>3</td>\n",
       "      <td>4</td>\n",
       "    </tr>\n",
       "    <tr>\n",
       "      <th>130</th>\n",
       "      <td>0.860051</td>\n",
       "      <td>0.0280351</td>\n",
       "      <td>0.892086</td>\n",
       "      <td>0.81362</td>\n",
       "      <td>entropy</td>\n",
       "      <td>15</td>\n",
       "      <td>5</td>\n",
       "      <td>4</td>\n",
       "    </tr>\n",
       "  </tbody>\n",
       "</table>\n",
       "</div>"
      ],
      "text/plain": [
       "    mean_score  std_score max_score min_score dt__criterion dt__max_depth  \\\n",
       "100   0.867957  0.0268057  0.895683  0.827957       entropy            10   \n",
       "105   0.865812  0.0230408  0.888489  0.827957       entropy            10   \n",
       "120   0.865809  0.0278998  0.902878  0.820789       entropy            15   \n",
       "125   0.860737  0.0307707  0.906475  0.817204       entropy            15   \n",
       "130   0.860051  0.0280351  0.892086   0.81362       entropy            15   \n",
       "\n",
       "    dt__min_samples_split rfi_fs__n_features_  \n",
       "100                     2                   4  \n",
       "105                     3                   4  \n",
       "120                     2                   4  \n",
       "125                     3                   4  \n",
       "130                     5                   4  "
      ]
     },
     "execution_count": 61,
     "metadata": {},
     "output_type": "execute_result"
    }
   ],
   "source": [
    "results_DT = get_search_results(gs_pipe_DT)\n",
    "results_DT.head().round(3)"
   ]
  },
  {
   "cell_type": "markdown",
   "metadata": {},
   "source": [
    "**Visualizing the results of the grid search corresponding to 4 selected features and for split criterion Entropy**"
   ]
  },
  {
   "cell_type": "code",
   "execution_count": 62,
   "metadata": {},
   "outputs": [
    {
     "data": {
      "text/html": [
       "\n",
       "<div id=\"altair-viz-84bda7faaad94e359bec72e0fb03859e\"></div>\n",
       "<script type=\"text/javascript\">\n",
       "  (function(spec, embedOpt){\n",
       "    let outputDiv = document.currentScript.previousElementSibling;\n",
       "    if (outputDiv.id !== \"altair-viz-84bda7faaad94e359bec72e0fb03859e\") {\n",
       "      outputDiv = document.getElementById(\"altair-viz-84bda7faaad94e359bec72e0fb03859e\");\n",
       "    }\n",
       "    const paths = {\n",
       "      \"vega\": \"https://cdn.jsdelivr.net/npm//vega@5?noext\",\n",
       "      \"vega-lib\": \"https://cdn.jsdelivr.net/npm//vega-lib?noext\",\n",
       "      \"vega-lite\": \"https://cdn.jsdelivr.net/npm//vega-lite@4.8.1?noext\",\n",
       "      \"vega-embed\": \"https://cdn.jsdelivr.net/npm//vega-embed@6?noext\",\n",
       "    };\n",
       "\n",
       "    function loadScript(lib) {\n",
       "      return new Promise(function(resolve, reject) {\n",
       "        var s = document.createElement('script');\n",
       "        s.src = paths[lib];\n",
       "        s.async = true;\n",
       "        s.onload = () => resolve(paths[lib]);\n",
       "        s.onerror = () => reject(`Error loading script: ${paths[lib]}`);\n",
       "        document.getElementsByTagName(\"head\")[0].appendChild(s);\n",
       "      });\n",
       "    }\n",
       "\n",
       "    function showError(err) {\n",
       "      outputDiv.innerHTML = `<div class=\"error\" style=\"color:red;\">${err}</div>`;\n",
       "      throw err;\n",
       "    }\n",
       "\n",
       "    function displayChart(vegaEmbed) {\n",
       "      vegaEmbed(outputDiv, spec, embedOpt)\n",
       "        .catch(err => showError(`Javascript Error: ${err.message}<br>This usually means there's a typo in your chart specification. See the javascript console for the full traceback.`));\n",
       "    }\n",
       "\n",
       "    if(typeof define === \"function\" && define.amd) {\n",
       "      requirejs.config({paths});\n",
       "      require([\"vega-embed\"], displayChart, err => showError(`Error loading script: ${err.message}`));\n",
       "    } else if (typeof vegaEmbed === \"function\") {\n",
       "      displayChart(vegaEmbed);\n",
       "    } else {\n",
       "      loadScript(\"vega\")\n",
       "        .then(() => loadScript(\"vega-lite\"))\n",
       "        .then(() => loadScript(\"vega-embed\"))\n",
       "        .catch(showError)\n",
       "        .then(() => displayChart(vegaEmbed));\n",
       "    }\n",
       "  })({\"config\": {\"view\": {\"continuousWidth\": 400, \"continuousHeight\": 300}}, \"data\": {\"name\": \"data-39011bb20e2ed19773329bb15c364836\"}, \"mark\": {\"type\": \"line\", \"point\": true}, \"encoding\": {\"color\": {\"type\": \"nominal\", \"field\": \"dt__max_depth\", \"title\": \"Max Depth\"}, \"x\": {\"type\": \"quantitative\", \"field\": \"dt__min_samples_split\", \"title\": \"Min Samples for Split\"}, \"y\": {\"type\": \"quantitative\", \"field\": \"mean_score\", \"scale\": {\"zero\": false}, \"title\": \"Accuracy\"}}, \"title\": \"DT Performance Comparison with 4 Features and Split Criterion Entropy\", \"$schema\": \"https://vega.github.io/schema/vega-lite/v4.8.1.json\", \"datasets\": {\"data-39011bb20e2ed19773329bb15c364836\": [{\"mean_score\": 0.8679570057583922, \"std_score\": 0.026805671128840317, \"max_score\": 0.89568345323741, \"min_score\": 0.8279569892473119, \"dt__criterion\": \"entropy\", \"dt__max_depth\": 10, \"dt__min_samples_split\": 2, \"rfi_fs__n_features_\": 4}, {\"mean_score\": 0.865811793864666, \"std_score\": 0.023040812037160546, \"max_score\": 0.8884892086330936, \"min_score\": 0.8279569892473119, \"dt__criterion\": \"entropy\", \"dt__max_depth\": 10, \"dt__min_samples_split\": 3, \"rfi_fs__n_features_\": 4}, {\"mean_score\": 0.8658091596339148, \"std_score\": 0.027899750441363044, \"max_score\": 0.9028776978417267, \"min_score\": 0.8207885304659498, \"dt__criterion\": \"entropy\", \"dt__max_depth\": 15, \"dt__min_samples_split\": 2, \"rfi_fs__n_features_\": 4}, {\"mean_score\": 0.8607365825304821, \"std_score\": 0.030770741577304844, \"max_score\": 0.9064748201438849, \"min_score\": 0.8172043010752689, \"dt__criterion\": \"entropy\", \"dt__max_depth\": 15, \"dt__min_samples_split\": 3, \"rfi_fs__n_features_\": 4}, {\"mean_score\": 0.8600510159767124, \"std_score\": 0.028035142065812615, \"max_score\": 0.8920863309352518, \"min_score\": 0.8136200716845878, \"dt__criterion\": \"entropy\", \"dt__max_depth\": 15, \"dt__min_samples_split\": 5, \"rfi_fs__n_features_\": 4}, {\"mean_score\": 0.8593133732718019, \"std_score\": 0.02596698978494141, \"max_score\": 0.8848920863309353, \"min_score\": 0.8172043010752689, \"dt__criterion\": \"entropy\", \"dt__max_depth\": 10, \"dt__min_samples_split\": 5, \"rfi_fs__n_features_\": 4}, {\"mean_score\": 0.8492180001759143, \"std_score\": 0.02255836724672212, \"max_score\": 0.8776978417266187, \"min_score\": 0.8136200716845878, \"dt__criterion\": \"entropy\", \"dt__max_depth\": 15, \"dt__min_samples_split\": 10, \"rfi_fs__n_features_\": 4}, {\"mean_score\": 0.8484985757154826, \"std_score\": 0.022034045847312892, \"max_score\": 0.8776978417266187, \"min_score\": 0.8136200716845878, \"dt__criterion\": \"entropy\", \"dt__max_depth\": 10, \"dt__min_samples_split\": 10, \"rfi_fs__n_features_\": 4}, {\"mean_score\": 0.8341070566216923, \"std_score\": 0.028886792619000984, \"max_score\": 0.8669064748201439, \"min_score\": 0.7849462365591398, \"dt__criterion\": \"entropy\", \"dt__max_depth\": 5, \"dt__min_samples_split\": 5, \"rfi_fs__n_features_\": 4}, {\"mean_score\": 0.8333824189405329, \"std_score\": 0.02830038058332675, \"max_score\": 0.8669064748201439, \"min_score\": 0.7849462365591398, \"dt__criterion\": \"entropy\", \"dt__max_depth\": 5, \"dt__min_samples_split\": 3, \"rfi_fs__n_features_\": 4}, {\"mean_score\": 0.8333824189405329, \"std_score\": 0.02830038058332675, \"max_score\": 0.8669064748201439, \"min_score\": 0.7849462365591398, \"dt__criterion\": \"entropy\", \"dt__max_depth\": 5, \"dt__min_samples_split\": 2, \"rfi_fs__n_features_\": 4}, {\"mean_score\": 0.8333824189405329, \"std_score\": 0.02830038058332675, \"max_score\": 0.8669064748201439, \"min_score\": 0.7849462365591398, \"dt__criterion\": \"entropy\", \"dt__max_depth\": 5, \"dt__min_samples_split\": 10, \"rfi_fs__n_features_\": 4}, {\"mean_score\": 0.792210357074534, \"std_score\": 0.023603728382849628, \"max_score\": 0.8152173913043478, \"min_score\": 0.7598566308243727, \"dt__criterion\": \"entropy\", \"dt__max_depth\": 4, \"dt__min_samples_split\": 3, \"rfi_fs__n_features_\": 4}, {\"mean_score\": 0.792210357074534, \"std_score\": 0.023603728382849628, \"max_score\": 0.8152173913043478, \"min_score\": 0.7598566308243727, \"dt__criterion\": \"entropy\", \"dt__max_depth\": 4, \"dt__min_samples_split\": 10, \"rfi_fs__n_features_\": 4}, {\"mean_score\": 0.792210357074534, \"std_score\": 0.023603728382849628, \"max_score\": 0.8152173913043478, \"min_score\": 0.7598566308243727, \"dt__criterion\": \"entropy\", \"dt__max_depth\": 4, \"dt__min_samples_split\": 5, \"rfi_fs__n_features_\": 4}, {\"mean_score\": 0.7914857193933746, \"std_score\": 0.02293235410458052, \"max_score\": 0.8115942028985508, \"min_score\": 0.7598566308243727, \"dt__criterion\": \"entropy\", \"dt__max_depth\": 4, \"dt__min_samples_split\": 2, \"rfi_fs__n_features_\": 4}, {\"mean_score\": 0.7525423406780123, \"std_score\": 0.02597342402150255, \"max_score\": 0.7841726618705036, \"min_score\": 0.7096774193548387, \"dt__criterion\": \"entropy\", \"dt__max_depth\": 3, \"dt__min_samples_split\": 5, \"rfi_fs__n_features_\": 4}, {\"mean_score\": 0.7525423406780123, \"std_score\": 0.02597342402150255, \"max_score\": 0.7841726618705036, \"min_score\": 0.7096774193548387, \"dt__criterion\": \"entropy\", \"dt__max_depth\": 3, \"dt__min_samples_split\": 2, \"rfi_fs__n_features_\": 4}, {\"mean_score\": 0.7525423406780123, \"std_score\": 0.02597342402150255, \"max_score\": 0.7841726618705036, \"min_score\": 0.7096774193548387, \"dt__criterion\": \"entropy\", \"dt__max_depth\": 3, \"dt__min_samples_split\": 3, \"rfi_fs__n_features_\": 4}, {\"mean_score\": 0.7525423406780123, \"std_score\": 0.02597342402150255, \"max_score\": 0.7841726618705036, \"min_score\": 0.7096774193548387, \"dt__criterion\": \"entropy\", \"dt__max_depth\": 3, \"dt__min_samples_split\": 10, \"rfi_fs__n_features_\": 4}, {\"mean_score\": 0.7510904302695801, \"std_score\": 0.02610267097791649, \"max_score\": 0.7841726618705036, \"min_score\": 0.7096774193548387, \"dt__criterion\": \"entropy\", \"dt__max_depth\": 2, \"dt__min_samples_split\": 3, \"rfi_fs__n_features_\": 4}, {\"mean_score\": 0.7510904302695801, \"std_score\": 0.02610267097791649, \"max_score\": 0.7841726618705036, \"min_score\": 0.7096774193548387, \"dt__criterion\": \"entropy\", \"dt__max_depth\": 2, \"dt__min_samples_split\": 5, \"rfi_fs__n_features_\": 4}, {\"mean_score\": 0.7510904302695801, \"std_score\": 0.02610267097791649, \"max_score\": 0.7841726618705036, \"min_score\": 0.7096774193548387, \"dt__criterion\": \"entropy\", \"dt__max_depth\": 2, \"dt__min_samples_split\": 10, \"rfi_fs__n_features_\": 4}, {\"mean_score\": 0.7510904302695801, \"std_score\": 0.02610267097791649, \"max_score\": 0.7841726618705036, \"min_score\": 0.7096774193548387, \"dt__criterion\": \"entropy\", \"dt__max_depth\": 2, \"dt__min_samples_split\": 2, \"rfi_fs__n_features_\": 4}, {\"mean_score\": 0.49927794069729553, \"std_score\": 0.0008843768452545667, \"max_score\": 0.5, \"min_score\": 0.49818181818181817, \"dt__criterion\": \"entropy\", \"dt__max_depth\": 1, \"dt__min_samples_split\": 2, \"rfi_fs__n_features_\": 4}, {\"mean_score\": 0.49927794069729553, \"std_score\": 0.0008843768452545667, \"max_score\": 0.5, \"min_score\": 0.49818181818181817, \"dt__criterion\": \"entropy\", \"dt__max_depth\": 1, \"dt__min_samples_split\": 5, \"rfi_fs__n_features_\": 4}, {\"mean_score\": 0.49927794069729553, \"std_score\": 0.0008843768452545667, \"max_score\": 0.5, \"min_score\": 0.49818181818181817, \"dt__criterion\": \"entropy\", \"dt__max_depth\": 1, \"dt__min_samples_split\": 10, \"rfi_fs__n_features_\": 4}, {\"mean_score\": 0.49927794069729553, \"std_score\": 0.0008843768452545667, \"max_score\": 0.5, \"min_score\": 0.49818181818181817, \"dt__criterion\": \"entropy\", \"dt__max_depth\": 1, \"dt__min_samples_split\": 3, \"rfi_fs__n_features_\": 4}]}}, {\"mode\": \"vega-lite\"});\n",
       "</script>"
      ],
      "text/plain": [
       "alt.Chart(...)"
      ]
     },
     "execution_count": 62,
     "metadata": {},
     "output_type": "execute_result"
    }
   ],
   "source": [
    "results_DT_entropy = results_DT[(results_DT['rfi_fs__n_features_'] == 4) & (results_DT['dt__criterion'] =='entropy') ]\n",
    "alt.Chart(results_DT_entropy,title='DT Performance Comparison with 4 Features and Split Criterion Entropy').mark_line(point=True).encode(\n",
    "    alt.X('dt__min_samples_split', title='Min Samples for Split'),\n",
    "    alt.Y('mean_score', title='Accuracy', scale=alt.Scale(zero=False)),\n",
    "    alt.Color('dt__max_depth:N', title='Max Depth'))"
   ]
  },
  {
   "cell_type": "markdown",
   "metadata": {},
   "source": [
    "**Visualizing the results of the grid search corresponding to 4 selected features and for split criterion Gini**"
   ]
  },
  {
   "cell_type": "code",
   "execution_count": 63,
   "metadata": {},
   "outputs": [
    {
     "data": {
      "text/html": [
       "\n",
       "<div id=\"altair-viz-8a7449c0fbf8443593c18585a8b2450d\"></div>\n",
       "<script type=\"text/javascript\">\n",
       "  (function(spec, embedOpt){\n",
       "    let outputDiv = document.currentScript.previousElementSibling;\n",
       "    if (outputDiv.id !== \"altair-viz-8a7449c0fbf8443593c18585a8b2450d\") {\n",
       "      outputDiv = document.getElementById(\"altair-viz-8a7449c0fbf8443593c18585a8b2450d\");\n",
       "    }\n",
       "    const paths = {\n",
       "      \"vega\": \"https://cdn.jsdelivr.net/npm//vega@5?noext\",\n",
       "      \"vega-lib\": \"https://cdn.jsdelivr.net/npm//vega-lib?noext\",\n",
       "      \"vega-lite\": \"https://cdn.jsdelivr.net/npm//vega-lite@4.8.1?noext\",\n",
       "      \"vega-embed\": \"https://cdn.jsdelivr.net/npm//vega-embed@6?noext\",\n",
       "    };\n",
       "\n",
       "    function loadScript(lib) {\n",
       "      return new Promise(function(resolve, reject) {\n",
       "        var s = document.createElement('script');\n",
       "        s.src = paths[lib];\n",
       "        s.async = true;\n",
       "        s.onload = () => resolve(paths[lib]);\n",
       "        s.onerror = () => reject(`Error loading script: ${paths[lib]}`);\n",
       "        document.getElementsByTagName(\"head\")[0].appendChild(s);\n",
       "      });\n",
       "    }\n",
       "\n",
       "    function showError(err) {\n",
       "      outputDiv.innerHTML = `<div class=\"error\" style=\"color:red;\">${err}</div>`;\n",
       "      throw err;\n",
       "    }\n",
       "\n",
       "    function displayChart(vegaEmbed) {\n",
       "      vegaEmbed(outputDiv, spec, embedOpt)\n",
       "        .catch(err => showError(`Javascript Error: ${err.message}<br>This usually means there's a typo in your chart specification. See the javascript console for the full traceback.`));\n",
       "    }\n",
       "\n",
       "    if(typeof define === \"function\" && define.amd) {\n",
       "      requirejs.config({paths});\n",
       "      require([\"vega-embed\"], displayChart, err => showError(`Error loading script: ${err.message}`));\n",
       "    } else if (typeof vegaEmbed === \"function\") {\n",
       "      displayChart(vegaEmbed);\n",
       "    } else {\n",
       "      loadScript(\"vega\")\n",
       "        .then(() => loadScript(\"vega-lite\"))\n",
       "        .then(() => loadScript(\"vega-embed\"))\n",
       "        .catch(showError)\n",
       "        .then(() => displayChart(vegaEmbed));\n",
       "    }\n",
       "  })({\"config\": {\"view\": {\"continuousWidth\": 400, \"continuousHeight\": 300}}, \"data\": {\"name\": \"data-43b867fa7988214a9770899cf4bd716a\"}, \"mark\": {\"type\": \"line\", \"point\": true}, \"encoding\": {\"color\": {\"type\": \"nominal\", \"field\": \"dt__max_depth\", \"title\": \"Max Depth\"}, \"x\": {\"type\": \"quantitative\", \"field\": \"dt__min_samples_split\", \"title\": \"Min Samples for Split\"}, \"y\": {\"type\": \"quantitative\", \"field\": \"mean_score\", \"scale\": {\"zero\": false}, \"title\": \"Accuracy\"}}, \"title\": \"DT Performance Comparison with 4 Features and Split Criterion Gini Index\", \"$schema\": \"https://vega.github.io/schema/vega-lite/v4.8.1.json\", \"datasets\": {\"data-43b867fa7988214a9770899cf4bd716a\": [{\"mean_score\": 0.8570975830326433, \"std_score\": 0.032912163081856814, \"max_score\": 0.9028776978417267, \"min_score\": 0.8145454545454546, \"dt__criterion\": \"gini\", \"dt__max_depth\": 15, \"dt__min_samples_split\": 2, \"rfi_fs__n_features_\": 4}, {\"mean_score\": 0.8535161012080301, \"std_score\": 0.029849195638009255, \"max_score\": 0.89568345323741, \"min_score\": 0.8172043010752689, \"dt__criterion\": \"gini\", \"dt__max_depth\": 10, \"dt__min_samples_split\": 5, \"rfi_fs__n_features_\": 4}, {\"mean_score\": 0.8528045250144396, \"std_score\": 0.027129563878692597, \"max_score\": 0.8884892086330936, \"min_score\": 0.8172043010752689, \"dt__criterion\": \"gini\", \"dt__max_depth\": 10, \"dt__min_samples_split\": 2, \"rfi_fs__n_features_\": 4}, {\"mean_score\": 0.852794098165303, \"std_score\": 0.02701794101260814, \"max_score\": 0.8884892086330936, \"min_score\": 0.8207885304659498, \"dt__criterion\": \"gini\", \"dt__max_depth\": 15, \"dt__min_samples_split\": 5, \"rfi_fs__n_features_\": 4}, {\"mean_score\": 0.8520302752060751, \"std_score\": 0.03244005397206439, \"max_score\": 0.89568345323741, \"min_score\": 0.8036363636363636, \"dt__criterion\": \"gini\", \"dt__max_depth\": 15, \"dt__min_samples_split\": 3, \"rfi_fs__n_features_\": 4}, {\"mean_score\": 0.8470126355628491, \"std_score\": 0.02253721633885104, \"max_score\": 0.8741007194244604, \"min_score\": 0.8145454545454546, \"dt__criterion\": \"gini\", \"dt__max_depth\": 15, \"dt__min_samples_split\": 10, \"rfi_fs__n_features_\": 4}, {\"mean_score\": 0.8441322470265533, \"std_score\": 0.025363689451072743, \"max_score\": 0.8812949640287769, \"min_score\": 0.8145454545454546, \"dt__criterion\": \"gini\", \"dt__max_depth\": 10, \"dt__min_samples_split\": 3, \"rfi_fs__n_features_\": 4}, {\"mean_score\": 0.8441296680365766, \"std_score\": 0.023187328191239365, \"max_score\": 0.8705035971223022, \"min_score\": 0.8109090909090909, \"dt__criterion\": \"gini\", \"dt__max_depth\": 10, \"dt__min_samples_split\": 10, \"rfi_fs__n_features_\": 4}, {\"mean_score\": 0.8304681716822131, \"std_score\": 0.027495260808751625, \"max_score\": 0.8669064748201439, \"min_score\": 0.7849462365591398, \"dt__criterion\": \"gini\", \"dt__max_depth\": 5, \"dt__min_samples_split\": 2, \"rfi_fs__n_features_\": 4}, {\"mean_score\": 0.829759174070918, \"std_score\": 0.02818656904259826, \"max_score\": 0.8669064748201439, \"min_score\": 0.7813620071684588, \"dt__criterion\": \"gini\", \"dt__max_depth\": 5, \"dt__min_samples_split\": 10, \"rfi_fs__n_features_\": 4}, {\"mean_score\": 0.8297513822678948, \"std_score\": 0.026732169703123823, \"max_score\": 0.8669064748201439, \"min_score\": 0.7849462365591398, \"dt__criterion\": \"gini\", \"dt__max_depth\": 5, \"dt__min_samples_split\": 3, \"rfi_fs__n_features_\": 4}, {\"mean_score\": 0.8290319013436452, \"std_score\": 0.028427960022806682, \"max_score\": 0.8669064748201439, \"min_score\": 0.7813620071684588, \"dt__criterion\": \"gini\", \"dt__max_depth\": 5, \"dt__min_samples_split\": 5, \"rfi_fs__n_features_\": 4}, {\"mean_score\": 0.8167547096582585, \"std_score\": 0.02272295719152556, \"max_score\": 0.8525179856115108, \"min_score\": 0.7813620071684588, \"dt__criterion\": \"gini\", \"dt__max_depth\": 4, \"dt__min_samples_split\": 2, \"rfi_fs__n_features_\": 4}, {\"mean_score\": 0.8167547096582585, \"std_score\": 0.02272295719152556, \"max_score\": 0.8525179856115108, \"min_score\": 0.7813620071684588, \"dt__criterion\": \"gini\", \"dt__max_depth\": 4, \"dt__min_samples_split\": 5, \"rfi_fs__n_features_\": 4}, {\"mean_score\": 0.8167547096582585, \"std_score\": 0.02272295719152556, \"max_score\": 0.8525179856115108, \"min_score\": 0.7813620071684588, \"dt__criterion\": \"gini\", \"dt__max_depth\": 4, \"dt__min_samples_split\": 10, \"rfi_fs__n_features_\": 4}, {\"mean_score\": 0.8160352851978268, \"std_score\": 0.022661124389958293, \"max_score\": 0.8525179856115108, \"min_score\": 0.7813620071684588, \"dt__criterion\": \"gini\", \"dt__max_depth\": 4, \"dt__min_samples_split\": 3, \"rfi_fs__n_features_\": 4}, {\"mean_score\": 0.7474724550845107, \"std_score\": 0.024669101248567138, \"max_score\": 0.7805755395683454, \"min_score\": 0.7096774193548387, \"dt__criterion\": \"gini\", \"dt__max_depth\": 2, \"dt__min_samples_split\": 10, \"rfi_fs__n_features_\": 4}, {\"mean_score\": 0.7474724550845107, \"std_score\": 0.024669101248567138, \"max_score\": 0.7805755395683454, \"min_score\": 0.7096774193548387, \"dt__criterion\": \"gini\", \"dt__max_depth\": 2, \"dt__min_samples_split\": 5, \"rfi_fs__n_features_\": 4}, {\"mean_score\": 0.7474724550845107, \"std_score\": 0.024669101248567138, \"max_score\": 0.7805755395683454, \"min_score\": 0.7096774193548387, \"dt__criterion\": \"gini\", \"dt__max_depth\": 2, \"dt__min_samples_split\": 3, \"rfi_fs__n_features_\": 4}, {\"mean_score\": 0.7474724550845107, \"std_score\": 0.024669101248567138, \"max_score\": 0.7805755395683454, \"min_score\": 0.7096774193548387, \"dt__criterion\": \"gini\", \"dt__max_depth\": 2, \"dt__min_samples_split\": 2, \"rfi_fs__n_features_\": 4}, {\"mean_score\": 0.743129840995239, \"std_score\": 0.02044687182699777, \"max_score\": 0.7769784172661871, \"min_score\": 0.7204301075268817, \"dt__criterion\": \"gini\", \"dt__max_depth\": 3, \"dt__min_samples_split\": 5, \"rfi_fs__n_features_\": 4}, {\"mean_score\": 0.743129840995239, \"std_score\": 0.02044687182699777, \"max_score\": 0.7769784172661871, \"min_score\": 0.7204301075268817, \"dt__criterion\": \"gini\", \"dt__max_depth\": 3, \"dt__min_samples_split\": 10, \"rfi_fs__n_features_\": 4}, {\"mean_score\": 0.743129840995239, \"std_score\": 0.02044687182699777, \"max_score\": 0.7769784172661871, \"min_score\": 0.7204301075268817, \"dt__criterion\": \"gini\", \"dt__max_depth\": 3, \"dt__min_samples_split\": 3, \"rfi_fs__n_features_\": 4}, {\"mean_score\": 0.743129840995239, \"std_score\": 0.02044687182699777, \"max_score\": 0.7769784172661871, \"min_score\": 0.7204301075268817, \"dt__criterion\": \"gini\", \"dt__max_depth\": 3, \"dt__min_samples_split\": 2, \"rfi_fs__n_features_\": 4}, {\"mean_score\": 0.49927794069729553, \"std_score\": 0.0008843768452545667, \"max_score\": 0.5, \"min_score\": 0.49818181818181817, \"dt__criterion\": \"gini\", \"dt__max_depth\": 1, \"dt__min_samples_split\": 5, \"rfi_fs__n_features_\": 4}, {\"mean_score\": 0.49927794069729553, \"std_score\": 0.0008843768452545667, \"max_score\": 0.5, \"min_score\": 0.49818181818181817, \"dt__criterion\": \"gini\", \"dt__max_depth\": 1, \"dt__min_samples_split\": 10, \"rfi_fs__n_features_\": 4}, {\"mean_score\": 0.49927794069729553, \"std_score\": 0.0008843768452545667, \"max_score\": 0.5, \"min_score\": 0.49818181818181817, \"dt__criterion\": \"gini\", \"dt__max_depth\": 1, \"dt__min_samples_split\": 3, \"rfi_fs__n_features_\": 4}, {\"mean_score\": 0.49927794069729553, \"std_score\": 0.0008843768452545667, \"max_score\": 0.5, \"min_score\": 0.49818181818181817, \"dt__criterion\": \"gini\", \"dt__max_depth\": 1, \"dt__min_samples_split\": 2, \"rfi_fs__n_features_\": 4}]}}, {\"mode\": \"vega-lite\"});\n",
       "</script>"
      ],
      "text/plain": [
       "alt.Chart(...)"
      ]
     },
     "execution_count": 63,
     "metadata": {},
     "output_type": "execute_result"
    }
   ],
   "source": [
    "results_DT_entropy = results_DT[(results_DT['rfi_fs__n_features_'] == 4) & (results_DT['dt__criterion'] =='gini') ]\n",
    "alt.Chart(results_DT_entropy,title='DT Performance Comparison with 4 Features and Split Criterion Gini Index').mark_line(point=True).encode(\n",
    "    alt.X('dt__min_samples_split', title='Min Samples for Split'),\n",
    "    alt.Y('mean_score', title='Accuracy', scale=alt.Scale(zero=False)),\n",
    "    alt.Color('dt__max_depth:N', title='Max Depth'))"
   ]
  },
  {
   "cell_type": "markdown",
   "metadata": {},
   "source": [
    "#  <span style=\"color:#0099cc\"> Model 3 : Random Forest Classifier <a class=\"anchor\" id=\"20\"></a>"
   ]
  },
  {
   "cell_type": "markdown",
   "metadata": {},
   "source": [
    "* The Random Forest is fit and its hyperparameters are optimised using the grid search.   \n",
    "\n",
    "\n",
    "* A grid search is performed for *number of features* - <code>4,5,10,15</code> and <code>20</code> over the following Random Forest hyperparameters: \n",
    "    * **number of trees in the forest** - <code>100 , 150 , 200</code>\n",
    "    * **split criterion** - <code>Gini, Entropy</code>\n",
    "    * **maximum depth** - <code>1,3,5,7,10</code>\n",
    "    * **minimum samples split** - <code>2,3,5</code>  \n",
    "    \n",
    "    \n",
    "* Determine the optimal combination of Number of Features , Number of trees in the forest(n_estimators) ,split criterion(criterion) maximum depth (max_depth) and minimum sample split (min_samples_split).\n",
    "\n"
   ]
  },
  {
   "cell_type": "code",
   "execution_count": 64,
   "metadata": {},
   "outputs": [],
   "source": [
    "from sklearn.ensemble import RandomForestClassifier\n",
    "pipe_RF = Pipeline(steps=[('rfi_fs', RFIFeatureSelector()),\n",
    "                          ('rf', RandomForestClassifier())])\n",
    "param_grid_RF = [\n",
    "    {'rfi_fs__n_features_': [4,5,10,15,D_train.shape[1]],\n",
    "     'rf__n_estimators': [100,150,200],\n",
    "     'rf__criterion': ['gini','entropy'],\n",
    "     'rf__max_depth': [1,3,5,7,10],\n",
    "     'rf__min_samples_split': [2,3,5]\n",
    "    },\n",
    "]\n",
    "gs_pipe_RF = GridSearchCV(estimator=pipe_RF,param_grid=param_grid_RF,cv=cv_method,n_jobs=-1,\n",
    "                          scoring='accuracy',refit = True,verbose=1)"
   ]
  },
  {
   "cell_type": "code",
   "execution_count": 65,
   "metadata": {},
   "outputs": [
    {
     "name": "stdout",
     "output_type": "stream",
     "text": [
      "Fitting 5 folds for each of 450 candidates, totalling 2250 fits\n"
     ]
    },
    {
     "name": "stderr",
     "output_type": "stream",
     "text": [
      "[Parallel(n_jobs=-1)]: Using backend LokyBackend with 8 concurrent workers.\n",
      "[Parallel(n_jobs=-1)]: Done  34 tasks      | elapsed:    3.2s\n",
      "[Parallel(n_jobs=-1)]: Done 184 tasks      | elapsed:   17.3s\n",
      "[Parallel(n_jobs=-1)]: Done 434 tasks      | elapsed:   43.7s\n",
      "[Parallel(n_jobs=-1)]: Done 784 tasks      | elapsed:  1.4min\n",
      "[Parallel(n_jobs=-1)]: Done 1234 tasks      | elapsed:  2.3min\n",
      "[Parallel(n_jobs=-1)]: Done 1784 tasks      | elapsed:  3.3min\n",
      "[Parallel(n_jobs=-1)]: Done 2250 out of 2250 | elapsed:  4.3min finished\n",
      "/opt/anaconda3/lib/python3.7/site-packages/sklearn/model_selection/_search.py:814: DeprecationWarning: The default of the `iid` parameter will change from True to False in version 0.22 and will be removed in 0.24. This will change numeric results when test-set sizes are unequal.\n",
      "  DeprecationWarning)\n"
     ]
    },
    {
     "data": {
      "text/plain": [
       "GridSearchCV(cv=StratifiedKFold(n_splits=5, random_state=999, shuffle=False),\n",
       "             error_score='raise-deprecating',\n",
       "             estimator=Pipeline(memory=None,\n",
       "                                steps=[('rfi_fs',\n",
       "                                        RFIFeatureSelector(n_features_=10)),\n",
       "                                       ('rf',\n",
       "                                        RandomForestClassifier(bootstrap=True,\n",
       "                                                               class_weight=None,\n",
       "                                                               criterion='gini',\n",
       "                                                               max_depth=None,\n",
       "                                                               max_features='auto',\n",
       "                                                               max_leaf_nodes=None,\n",
       "                                                               min_impurity_decrease=0.0...\n",
       "                                                               random_state=None,\n",
       "                                                               verbose=0,\n",
       "                                                               warm_start=False))],\n",
       "                                verbose=False),\n",
       "             iid='warn', n_jobs=-1,\n",
       "             param_grid=[{'rf__criterion': ['gini', 'entropy'],\n",
       "                          'rf__max_depth': [1, 3, 5, 7, 10],\n",
       "                          'rf__min_samples_split': [2, 3, 5],\n",
       "                          'rf__n_estimators': [100, 150, 200],\n",
       "                          'rfi_fs__n_features_': [4, 5, 10, 15, 20]}],\n",
       "             pre_dispatch='2*n_jobs', refit=True, return_train_score=False,\n",
       "             scoring='accuracy', verbose=1)"
      ]
     },
     "execution_count": 65,
     "metadata": {},
     "output_type": "execute_result"
    }
   ],
   "source": [
    "gs_pipe_RF.fit(D_train,t_train)"
   ]
  },
  {
   "cell_type": "code",
   "execution_count": 66,
   "metadata": {},
   "outputs": [
    {
     "data": {
      "text/plain": [
       "{'rf__criterion': 'gini',\n",
       " 'rf__max_depth': 10,\n",
       " 'rf__min_samples_split': 2,\n",
       " 'rf__n_estimators': 200,\n",
       " 'rfi_fs__n_features_': 4}"
      ]
     },
     "execution_count": 66,
     "metadata": {},
     "output_type": "execute_result"
    }
   ],
   "source": [
    "gs_pipe_RF.best_params_"
   ]
  },
  {
   "cell_type": "markdown",
   "metadata": {},
   "source": [
    "* The best performing parameter combination are as follows:\n",
    "    * **number of trees in the forest** - <code>200</code>\n",
    "    * **split criterion** - <code>gini</code> \n",
    "    * **maximum depth** - <code>10</code>\n",
    "    * **minimum samples split** - <code>2</code>\n",
    "    * **Number of features** - <code>4</code>"
   ]
  },
  {
   "cell_type": "markdown",
   "metadata": {},
   "source": [
    "The best score for the Random Forest with best performing parameters combination is obtained `best_score_` attribute"
   ]
  },
  {
   "cell_type": "code",
   "execution_count": 67,
   "metadata": {},
   "outputs": [
    {
     "data": {
      "text/plain": [
       "0.9184704184704184"
      ]
     },
     "execution_count": 67,
     "metadata": {},
     "output_type": "execute_result"
    }
   ],
   "source": [
    "gs_pipe_RF.best_score_"
   ]
  },
  {
   "cell_type": "markdown",
   "metadata": {},
   "source": [
    "Having a look at the other combinations to see if the difference with respect to best values is rather significant or not. It can be seen that the difference between the hyperparameter combinations is not really much."
   ]
  },
  {
   "cell_type": "code",
   "execution_count": 68,
   "metadata": {},
   "outputs": [
    {
     "data": {
      "text/html": [
       "<div>\n",
       "<style scoped>\n",
       "    .dataframe tbody tr th:only-of-type {\n",
       "        vertical-align: middle;\n",
       "    }\n",
       "\n",
       "    .dataframe tbody tr th {\n",
       "        vertical-align: top;\n",
       "    }\n",
       "\n",
       "    .dataframe thead th {\n",
       "        text-align: right;\n",
       "    }\n",
       "</style>\n",
       "<table border=\"1\" class=\"dataframe\">\n",
       "  <thead>\n",
       "    <tr style=\"text-align: right;\">\n",
       "      <th></th>\n",
       "      <th>mean_score</th>\n",
       "      <th>std_score</th>\n",
       "      <th>max_score</th>\n",
       "      <th>min_score</th>\n",
       "      <th>rf__criterion</th>\n",
       "      <th>rf__max_depth</th>\n",
       "      <th>rf__min_samples_split</th>\n",
       "      <th>rf__n_estimators</th>\n",
       "      <th>rfi_fs__n_features_</th>\n",
       "    </tr>\n",
       "  </thead>\n",
       "  <tbody>\n",
       "    <tr>\n",
       "      <th>190</th>\n",
       "      <td>0.918477</td>\n",
       "      <td>0.0178481</td>\n",
       "      <td>0.935252</td>\n",
       "      <td>0.892473</td>\n",
       "      <td>gini</td>\n",
       "      <td>10</td>\n",
       "      <td>2</td>\n",
       "      <td>200</td>\n",
       "      <td>4</td>\n",
       "    </tr>\n",
       "    <tr>\n",
       "      <th>416</th>\n",
       "      <td>0.917046</td>\n",
       "      <td>0.0188037</td>\n",
       "      <td>0.931655</td>\n",
       "      <td>0.885305</td>\n",
       "      <td>entropy</td>\n",
       "      <td>10</td>\n",
       "      <td>2</td>\n",
       "      <td>200</td>\n",
       "      <td>5</td>\n",
       "    </tr>\n",
       "    <tr>\n",
       "      <th>431</th>\n",
       "      <td>0.914846</td>\n",
       "      <td>0.0170862</td>\n",
       "      <td>0.938849</td>\n",
       "      <td>0.894545</td>\n",
       "      <td>entropy</td>\n",
       "      <td>10</td>\n",
       "      <td>3</td>\n",
       "      <td>200</td>\n",
       "      <td>5</td>\n",
       "    </tr>\n",
       "    <tr>\n",
       "      <th>421</th>\n",
       "      <td>0.914171</td>\n",
       "      <td>0.0164497</td>\n",
       "      <td>0.931655</td>\n",
       "      <td>0.885305</td>\n",
       "      <td>entropy</td>\n",
       "      <td>10</td>\n",
       "      <td>3</td>\n",
       "      <td>100</td>\n",
       "      <td>5</td>\n",
       "    </tr>\n",
       "    <tr>\n",
       "      <th>420</th>\n",
       "      <td>0.914147</td>\n",
       "      <td>0.0234081</td>\n",
       "      <td>0.94964</td>\n",
       "      <td>0.878136</td>\n",
       "      <td>entropy</td>\n",
       "      <td>10</td>\n",
       "      <td>3</td>\n",
       "      <td>100</td>\n",
       "      <td>4</td>\n",
       "    </tr>\n",
       "  </tbody>\n",
       "</table>\n",
       "</div>"
      ],
      "text/plain": [
       "    mean_score  std_score max_score min_score rf__criterion rf__max_depth  \\\n",
       "190   0.918477  0.0178481  0.935252  0.892473          gini            10   \n",
       "416   0.917046  0.0188037  0.931655  0.885305       entropy            10   \n",
       "431   0.914846  0.0170862  0.938849  0.894545       entropy            10   \n",
       "421   0.914171  0.0164497  0.931655  0.885305       entropy            10   \n",
       "420   0.914147  0.0234081   0.94964  0.878136       entropy            10   \n",
       "\n",
       "    rf__min_samples_split rf__n_estimators rfi_fs__n_features_  \n",
       "190                     2              200                   4  \n",
       "416                     2              200                   5  \n",
       "431                     3              200                   5  \n",
       "421                     3              100                   5  \n",
       "420                     3              100                   4  "
      ]
     },
     "execution_count": 68,
     "metadata": {},
     "output_type": "execute_result"
    }
   ],
   "source": [
    "results_RF = get_search_results(gs_pipe_RF)\n",
    "results_RF.head().round(3)"
   ]
  },
  {
   "cell_type": "markdown",
   "metadata": {},
   "source": [
    "**Visualizing the results of the grid search corresponding to 4 selected features for Split Criterion Entropy**"
   ]
  },
  {
   "cell_type": "code",
   "execution_count": 69,
   "metadata": {
    "scrolled": true
   },
   "outputs": [
    {
     "data": {
      "text/html": [
       "\n",
       "<div id=\"altair-viz-7441a114816641bbbe8ed6913f7f1a16\"></div>\n",
       "<script type=\"text/javascript\">\n",
       "  (function(spec, embedOpt){\n",
       "    let outputDiv = document.currentScript.previousElementSibling;\n",
       "    if (outputDiv.id !== \"altair-viz-7441a114816641bbbe8ed6913f7f1a16\") {\n",
       "      outputDiv = document.getElementById(\"altair-viz-7441a114816641bbbe8ed6913f7f1a16\");\n",
       "    }\n",
       "    const paths = {\n",
       "      \"vega\": \"https://cdn.jsdelivr.net/npm//vega@5?noext\",\n",
       "      \"vega-lib\": \"https://cdn.jsdelivr.net/npm//vega-lib?noext\",\n",
       "      \"vega-lite\": \"https://cdn.jsdelivr.net/npm//vega-lite@4.8.1?noext\",\n",
       "      \"vega-embed\": \"https://cdn.jsdelivr.net/npm//vega-embed@6?noext\",\n",
       "    };\n",
       "\n",
       "    function loadScript(lib) {\n",
       "      return new Promise(function(resolve, reject) {\n",
       "        var s = document.createElement('script');\n",
       "        s.src = paths[lib];\n",
       "        s.async = true;\n",
       "        s.onload = () => resolve(paths[lib]);\n",
       "        s.onerror = () => reject(`Error loading script: ${paths[lib]}`);\n",
       "        document.getElementsByTagName(\"head\")[0].appendChild(s);\n",
       "      });\n",
       "    }\n",
       "\n",
       "    function showError(err) {\n",
       "      outputDiv.innerHTML = `<div class=\"error\" style=\"color:red;\">${err}</div>`;\n",
       "      throw err;\n",
       "    }\n",
       "\n",
       "    function displayChart(vegaEmbed) {\n",
       "      vegaEmbed(outputDiv, spec, embedOpt)\n",
       "        .catch(err => showError(`Javascript Error: ${err.message}<br>This usually means there's a typo in your chart specification. See the javascript console for the full traceback.`));\n",
       "    }\n",
       "\n",
       "    if(typeof define === \"function\" && define.amd) {\n",
       "      requirejs.config({paths});\n",
       "      require([\"vega-embed\"], displayChart, err => showError(`Error loading script: ${err.message}`));\n",
       "    } else if (typeof vegaEmbed === \"function\") {\n",
       "      displayChart(vegaEmbed);\n",
       "    } else {\n",
       "      loadScript(\"vega\")\n",
       "        .then(() => loadScript(\"vega-lite\"))\n",
       "        .then(() => loadScript(\"vega-embed\"))\n",
       "        .catch(showError)\n",
       "        .then(() => displayChart(vegaEmbed));\n",
       "    }\n",
       "  })({\"config\": {\"view\": {\"continuousWidth\": 400, \"continuousHeight\": 300}}, \"data\": {\"name\": \"data-6a6bd25c12685a79f3d954fae2c927df\"}, \"mark\": {\"type\": \"line\", \"point\": true}, \"encoding\": {\"color\": {\"type\": \"nominal\", \"field\": \"rf__max_depth\", \"title\": \"Max Depth\"}, \"x\": {\"type\": \"quantitative\", \"field\": \"rf__min_samples_split\", \"title\": \"Min Samples Split\"}, \"y\": {\"type\": \"quantitative\", \"field\": \"mean_score\", \"scale\": {\"zero\": false}, \"title\": \"Accuracy\"}}, \"title\": \"RF Performance Comparison with 5 Features and Number of estimators = 200 and split criterion Entropy \", \"$schema\": \"https://vega.github.io/schema/vega-lite/v4.8.1.json\", \"datasets\": {\"data-6a6bd25c12685a79f3d954fae2c927df\": [{\"mean_score\": 0.9134484176015046, \"std_score\": 0.021295731808319895, \"max_score\": 0.935251798561151, \"min_score\": 0.8745519713261649, \"rf__criterion\": \"entropy\", \"rf__max_depth\": 10, \"rf__min_samples_split\": 2, \"rf__n_estimators\": 200, \"rfi_fs__n_features_\": 4}, {\"mean_score\": 0.9105055240265265, \"std_score\": 0.01743007567400226, \"max_score\": 0.9280575539568345, \"min_score\": 0.8872727272727273, \"rf__criterion\": \"entropy\", \"rf__max_depth\": 7, \"rf__min_samples_split\": 3, \"rf__n_estimators\": 200, \"rfi_fs__n_features_\": 4}, {\"mean_score\": 0.9091056909922782, \"std_score\": 0.02131626628591158, \"max_score\": 0.9316546762589928, \"min_score\": 0.8745519713261649, \"rf__criterion\": \"entropy\", \"rf__max_depth\": 10, \"rf__min_samples_split\": 3, \"rf__n_estimators\": 200, \"rfi_fs__n_features_\": 4}, {\"mean_score\": 0.9062175106529592, \"std_score\": 0.023445252954528102, \"max_score\": 0.935251798561151, \"min_score\": 0.8673835125448028, \"rf__criterion\": \"entropy\", \"rf__max_depth\": 7, \"rf__min_samples_split\": 2, \"rf__n_estimators\": 200, \"rfi_fs__n_features_\": 4}, {\"mean_score\": 0.9054876024718922, \"std_score\": 0.025070253386001797, \"max_score\": 0.9388489208633094, \"min_score\": 0.8709677419354839, \"rf__criterion\": \"entropy\", \"rf__max_depth\": 10, \"rf__min_samples_split\": 5, \"rf__n_estimators\": 200, \"rfi_fs__n_features_\": 4}, {\"mean_score\": 0.901142411431049, \"std_score\": 0.021085228811969083, \"max_score\": 0.9280575539568345, \"min_score\": 0.8709677419354839, \"rf__criterion\": \"entropy\", \"rf__max_depth\": 7, \"rf__min_samples_split\": 5, \"rf__n_estimators\": 200, \"rfi_fs__n_features_\": 4}, {\"mean_score\": 0.890327500131732, \"std_score\": 0.015202038968031878, \"max_score\": 0.9064748201438849, \"min_score\": 0.8673835125448028, \"rf__criterion\": \"entropy\", \"rf__max_depth\": 5, \"rf__min_samples_split\": 2, \"rf__n_estimators\": 200, \"rfi_fs__n_features_\": 4}, {\"mean_score\": 0.8831017507554584, \"std_score\": 0.02418997634694191, \"max_score\": 0.9172661870503597, \"min_score\": 0.8494623655913979, \"rf__criterion\": \"entropy\", \"rf__max_depth\": 5, \"rf__min_samples_split\": 5, \"rf__n_estimators\": 200, \"rfi_fs__n_features_\": 4}, {\"mean_score\": 0.8823954442464134, \"std_score\": 0.01934671432736186, \"max_score\": 0.9100719424460432, \"min_score\": 0.8530465949820788, \"rf__criterion\": \"entropy\", \"rf__max_depth\": 5, \"rf__min_samples_split\": 3, \"rf__n_estimators\": 200, \"rfi_fs__n_features_\": 4}, {\"mean_score\": 0.8088069007754399, \"std_score\": 0.03026616871267631, \"max_score\": 0.8561151079136691, \"min_score\": 0.7634408602150538, \"rf__criterion\": \"entropy\", \"rf__max_depth\": 3, \"rf__min_samples_split\": 3, \"rf__n_estimators\": 200, \"rfi_fs__n_features_\": 4}, {\"mean_score\": 0.8073340241487799, \"std_score\": 0.035909553275929346, \"max_score\": 0.8633093525179856, \"min_score\": 0.7598566308243727, \"rf__criterion\": \"entropy\", \"rf__max_depth\": 3, \"rf__min_samples_split\": 5, \"rf__n_estimators\": 200, \"rfi_fs__n_features_\": 4}, {\"mean_score\": 0.806635565906576, \"std_score\": 0.03137341805385302, \"max_score\": 0.8597122302158273, \"min_score\": 0.7634408602150538, \"rf__criterion\": \"entropy\", \"rf__max_depth\": 3, \"rf__min_samples_split\": 2, \"rf__n_estimators\": 200, \"rfi_fs__n_features_\": 4}, {\"mean_score\": 0.5303049056356088, \"std_score\": 0.02199585474819434, \"max_score\": 0.5611510791366906, \"min_score\": 0.5, \"rf__criterion\": \"entropy\", \"rf__max_depth\": 1, \"rf__min_samples_split\": 2, \"rf__n_estimators\": 200, \"rfi_fs__n_features_\": 4}, {\"mean_score\": 0.5216506179985249, \"std_score\": 0.018631191451409276, \"max_score\": 0.5507246376811594, \"min_score\": 0.5018181818181818, \"rf__criterion\": \"entropy\", \"rf__max_depth\": 1, \"rf__min_samples_split\": 3, \"rf__n_estimators\": 200, \"rfi_fs__n_features_\": 4}, {\"mean_score\": 0.5208791746661322, \"std_score\": 0.017997688021278855, \"max_score\": 0.5539568345323741, \"min_score\": 0.5, \"rf__criterion\": \"entropy\", \"rf__max_depth\": 1, \"rf__min_samples_split\": 5, \"rf__n_estimators\": 200, \"rfi_fs__n_features_\": 4}]}}, {\"mode\": \"vega-lite\"});\n",
       "</script>"
      ],
      "text/plain": [
       "alt.Chart(...)"
      ]
     },
     "execution_count": 69,
     "metadata": {},
     "output_type": "execute_result"
    }
   ],
   "source": [
    "results_RF_entropy = results_RF[(results_RF['rfi_fs__n_features_'] == 4) \n",
    "                        & (results_RF['rf__n_estimators'] == 200) & (results_RF['rf__criterion'] == 'entropy')]\n",
    "alt.Chart(results_RF_entropy, \n",
    "          title='RF Performance Comparison with 5 Features and Number of estimators = 200 and split criterion Entropy '\n",
    "         ).mark_line(point=True).encode(\n",
    "    alt.X('rf__min_samples_split', title='Min Samples Split'),\n",
    "    alt.Y('mean_score', title='Accuracy', scale=alt.Scale(zero=False)),\n",
    "    alt.Color('rf__max_depth:N', title='Max Depth'))"
   ]
  },
  {
   "cell_type": "markdown",
   "metadata": {},
   "source": [
    "**Visualizing the results of the grid search corresponding to 4 selected features for Split Criterion Gini Index**"
   ]
  },
  {
   "cell_type": "code",
   "execution_count": 70,
   "metadata": {},
   "outputs": [
    {
     "data": {
      "text/html": [
       "\n",
       "<div id=\"altair-viz-dc219a623e674afb98cfda22b3448f9b\"></div>\n",
       "<script type=\"text/javascript\">\n",
       "  (function(spec, embedOpt){\n",
       "    let outputDiv = document.currentScript.previousElementSibling;\n",
       "    if (outputDiv.id !== \"altair-viz-dc219a623e674afb98cfda22b3448f9b\") {\n",
       "      outputDiv = document.getElementById(\"altair-viz-dc219a623e674afb98cfda22b3448f9b\");\n",
       "    }\n",
       "    const paths = {\n",
       "      \"vega\": \"https://cdn.jsdelivr.net/npm//vega@5?noext\",\n",
       "      \"vega-lib\": \"https://cdn.jsdelivr.net/npm//vega-lib?noext\",\n",
       "      \"vega-lite\": \"https://cdn.jsdelivr.net/npm//vega-lite@4.8.1?noext\",\n",
       "      \"vega-embed\": \"https://cdn.jsdelivr.net/npm//vega-embed@6?noext\",\n",
       "    };\n",
       "\n",
       "    function loadScript(lib) {\n",
       "      return new Promise(function(resolve, reject) {\n",
       "        var s = document.createElement('script');\n",
       "        s.src = paths[lib];\n",
       "        s.async = true;\n",
       "        s.onload = () => resolve(paths[lib]);\n",
       "        s.onerror = () => reject(`Error loading script: ${paths[lib]}`);\n",
       "        document.getElementsByTagName(\"head\")[0].appendChild(s);\n",
       "      });\n",
       "    }\n",
       "\n",
       "    function showError(err) {\n",
       "      outputDiv.innerHTML = `<div class=\"error\" style=\"color:red;\">${err}</div>`;\n",
       "      throw err;\n",
       "    }\n",
       "\n",
       "    function displayChart(vegaEmbed) {\n",
       "      vegaEmbed(outputDiv, spec, embedOpt)\n",
       "        .catch(err => showError(`Javascript Error: ${err.message}<br>This usually means there's a typo in your chart specification. See the javascript console for the full traceback.`));\n",
       "    }\n",
       "\n",
       "    if(typeof define === \"function\" && define.amd) {\n",
       "      requirejs.config({paths});\n",
       "      require([\"vega-embed\"], displayChart, err => showError(`Error loading script: ${err.message}`));\n",
       "    } else if (typeof vegaEmbed === \"function\") {\n",
       "      displayChart(vegaEmbed);\n",
       "    } else {\n",
       "      loadScript(\"vega\")\n",
       "        .then(() => loadScript(\"vega-lite\"))\n",
       "        .then(() => loadScript(\"vega-embed\"))\n",
       "        .catch(showError)\n",
       "        .then(() => displayChart(vegaEmbed));\n",
       "    }\n",
       "  })({\"config\": {\"view\": {\"continuousWidth\": 400, \"continuousHeight\": 300}}, \"data\": {\"name\": \"data-2d033211ce9bbb99269a1c4addd3c593\"}, \"mark\": {\"type\": \"line\", \"point\": true}, \"encoding\": {\"color\": {\"type\": \"nominal\", \"field\": \"rf__max_depth\", \"title\": \"Max Depth\"}, \"x\": {\"type\": \"quantitative\", \"field\": \"rf__min_samples_split\", \"title\": \"Min Samples Split\"}, \"y\": {\"type\": \"quantitative\", \"field\": \"mean_score\", \"scale\": {\"zero\": false}, \"title\": \"Accuracy\"}}, \"title\": \"RF Performance Comparison with 5 Features and Number of estimators = 200 and split criterion Gini\", \"$schema\": \"https://vega.github.io/schema/vega-lite/v4.8.1.json\", \"datasets\": {\"data-2d033211ce9bbb99269a1c4addd3c593\": [{\"mean_score\": 0.918476652262278, \"std_score\": 0.017848091455184383, \"max_score\": 0.935251798561151, \"min_score\": 0.8924731182795699, \"rf__criterion\": \"gini\", \"rf__max_depth\": 10, \"rf__min_samples_split\": 2, \"rf__n_estimators\": 200, \"rfi_fs__n_features_\": 4}, {\"mean_score\": 0.9119991418315049, \"std_score\": 0.01897308739453453, \"max_score\": 0.9316546762589928, \"min_score\": 0.8781362007168458, \"rf__criterion\": \"gini\", \"rf__max_depth\": 10, \"rf__min_samples_split\": 3, \"rf__n_estimators\": 200, \"rfi_fs__n_features_\": 4}, {\"mean_score\": 0.9047786617320959, \"std_score\": 0.0217809348587386, \"max_score\": 0.9280575539568345, \"min_score\": 0.8673835125448028, \"rf__criterion\": \"gini\", \"rf__max_depth\": 10, \"rf__min_samples_split\": 5, \"rf__n_estimators\": 200, \"rfi_fs__n_features_\": 4}, {\"mean_score\": 0.904760499543754, \"std_score\": 0.017097735433468906, \"max_score\": 0.9244604316546763, \"min_score\": 0.8781362007168458, \"rf__criterion\": \"gini\", \"rf__max_depth\": 7, \"rf__min_samples_split\": 3, \"rf__n_estimators\": 200, \"rfi_fs__n_features_\": 4}, {\"mean_score\": 0.9040436536656177, \"std_score\": 0.01851784268846992, \"max_score\": 0.9280575539568345, \"min_score\": 0.8745519713261649, \"rf__criterion\": \"gini\", \"rf__max_depth\": 7, \"rf__min_samples_split\": 2, \"rf__n_estimators\": 200, \"rfi_fs__n_features_\": 4}, {\"mean_score\": 0.9018696833429598, \"std_score\": 0.01728982643509449, \"max_score\": 0.9172661870503597, \"min_score\": 0.8781362007168458, \"rf__criterion\": \"gini\", \"rf__max_depth\": 7, \"rf__min_samples_split\": 5, \"rf__n_estimators\": 200, \"rfi_fs__n_features_\": 4}, {\"mean_score\": 0.8845145323496398, \"std_score\": 0.023897472580150923, \"max_score\": 0.9172661870503597, \"min_score\": 0.8581818181818182, \"rf__criterion\": \"gini\", \"rf__max_depth\": 5, \"rf__min_samples_split\": 3, \"rf__n_estimators\": 200, \"rfi_fs__n_features_\": 4}, {\"mean_score\": 0.8773202881530043, \"std_score\": 0.017644596190208355, \"max_score\": 0.9028776978417267, \"min_score\": 0.8566308243727598, \"rf__criterion\": \"gini\", \"rf__max_depth\": 5, \"rf__min_samples_split\": 2, \"rf__n_estimators\": 200, \"rfi_fs__n_features_\": 4}, {\"mean_score\": 0.872263295063299, \"std_score\": 0.02440554601593652, \"max_score\": 0.9028776978417267, \"min_score\": 0.8422939068100358, \"rf__criterion\": \"gini\", \"rf__max_depth\": 5, \"rf__min_samples_split\": 5, \"rf__n_estimators\": 200, \"rfi_fs__n_features_\": 4}, {\"mean_score\": 0.81742962350762, \"std_score\": 0.032853151400534575, \"max_score\": 0.8633093525179856, \"min_score\": 0.7741935483870968, \"rf__criterion\": \"gini\", \"rf__max_depth\": 3, \"rf__min_samples_split\": 3, \"rf__n_estimators\": 200, \"rfi_fs__n_features_\": 4}, {\"mean_score\": 0.8116585316981656, \"std_score\": 0.03105275092631998, \"max_score\": 0.8525179856115108, \"min_score\": 0.7706093189964157, \"rf__criterion\": \"gini\", \"rf__max_depth\": 3, \"rf__min_samples_split\": 5, \"rf__n_estimators\": 200, \"rfi_fs__n_features_\": 4}, {\"mean_score\": 0.8116558970597334, \"std_score\": 0.03370153728846594, \"max_score\": 0.8525179856115108, \"min_score\": 0.7670250896057348, \"rf__criterion\": \"gini\", \"rf__max_depth\": 3, \"rf__min_samples_split\": 2, \"rf__n_estimators\": 200, \"rfi_fs__n_features_\": 4}, {\"mean_score\": 0.5748031026154468, \"std_score\": 0.05017956988245025, \"max_score\": 0.6559139784946236, \"min_score\": 0.49818181818181817, \"rf__criterion\": \"gini\", \"rf__max_depth\": 1, \"rf__min_samples_split\": 3, \"rf__n_estimators\": 200, \"rfi_fs__n_features_\": 4}, {\"mean_score\": 0.570491995336537, \"std_score\": 0.05419981223275174, \"max_score\": 0.6666666666666666, \"min_score\": 0.5163636363636364, \"rf__criterion\": \"gini\", \"rf__max_depth\": 1, \"rf__min_samples_split\": 2, \"rf__n_estimators\": 200, \"rfi_fs__n_features_\": 4}, {\"mean_score\": 0.5690502298658332, \"std_score\": 0.05224228850655084, \"max_score\": 0.6415770609318996, \"min_score\": 0.5018181818181818, \"rf__criterion\": \"gini\", \"rf__max_depth\": 1, \"rf__min_samples_split\": 5, \"rf__n_estimators\": 200, \"rfi_fs__n_features_\": 4}]}}, {\"mode\": \"vega-lite\"});\n",
       "</script>"
      ],
      "text/plain": [
       "alt.Chart(...)"
      ]
     },
     "execution_count": 70,
     "metadata": {},
     "output_type": "execute_result"
    }
   ],
   "source": [
    "results_RF_gini = results_RF[(results_RF['rfi_fs__n_features_'] == 4) \n",
    "                        & (results_RF['rf__n_estimators'] == 200) & (results_RF['rf__criterion'] == 'gini')]\n",
    "alt.Chart(results_RF_gini, \n",
    "          title='RF Performance Comparison with 5 Features and Number of estimators = 200 and split criterion Gini'\n",
    "         ).mark_line(point=True).encode(\n",
    "    alt.X('rf__min_samples_split', title='Min Samples Split'),\n",
    "    alt.Y('mean_score', title='Accuracy', scale=alt.Scale(zero=False)),\n",
    "    alt.Color('rf__max_depth:N', title='Max Depth'))"
   ]
  },
  {
   "cell_type": "markdown",
   "metadata": {},
   "source": [
    "# <span style=\"color:#0099cc\">Model 4 : (Gaussian) Naive Bayes </span> <a class=\"anchor\" id=\"21\"></a>"
   ]
  },
  {
   "cell_type": "markdown",
   "metadata": {},
   "source": [
    "Trained data is transformed using the <b>power transformation</b> on each feature to make it more or less normally distributed as Gaussian Naive Bayes Model requires each descriptive features follow a normal distribution.\n",
    "\n",
    "\n",
    "* The Gaussian Naive Bayes Model model is fit and it's hyperparameters are optimised using the grid search.\n",
    "* A grid search is performed for *number of features* - <code>4,5,10,15</code> and <code>20</code> over the following Naive Bayes hyperparameter\n",
    "    * **Var smoothing** - From <code>10</code> to <code>10<sup>−6</sup></code> with `100` different values.\n",
    "\n",
    "\n"
   ]
  },
  {
   "cell_type": "code",
   "execution_count": 71,
   "metadata": {},
   "outputs": [],
   "source": [
    "from sklearn.preprocessing import PowerTransformer\n",
    "Data_sample_train_transformed = PowerTransformer().fit_transform(D_train)"
   ]
  },
  {
   "cell_type": "code",
   "execution_count": 72,
   "metadata": {},
   "outputs": [],
   "source": [
    "from sklearn.naive_bayes import GaussianNB\n",
    "pipe_NB = Pipeline([('rfi_fs', RFIFeatureSelector()),\n",
    "                    ('nb', GaussianNB())])\n",
    "params_pipe_NB = {'rfi_fs__n_features_': [4,5,10,15,D_train.shape[1]],'nb__var_smoothing': np.logspace(1,-6, num=100)}\n",
    "gs_pipe_NB = GridSearchCV(estimator=pipe_NB,param_grid=params_pipe_NB,cv=cv_method,n_jobs = -1,\n",
    "                          scoring='accuracy',verbose=1) "
   ]
  },
  {
   "cell_type": "code",
   "execution_count": 73,
   "metadata": {
    "scrolled": false
   },
   "outputs": [
    {
     "name": "stdout",
     "output_type": "stream",
     "text": [
      "Fitting 5 folds for each of 500 candidates, totalling 2500 fits\n"
     ]
    },
    {
     "name": "stderr",
     "output_type": "stream",
     "text": [
      "[Parallel(n_jobs=-1)]: Using backend LokyBackend with 8 concurrent workers.\n",
      "[Parallel(n_jobs=-1)]: Done  34 tasks      | elapsed:    1.8s\n",
      "[Parallel(n_jobs=-1)]: Done 184 tasks      | elapsed:    8.8s\n",
      "[Parallel(n_jobs=-1)]: Done 434 tasks      | elapsed:   21.7s\n",
      "[Parallel(n_jobs=-1)]: Done 784 tasks      | elapsed:   40.3s\n",
      "[Parallel(n_jobs=-1)]: Done 1234 tasks      | elapsed:  1.1min\n",
      "[Parallel(n_jobs=-1)]: Done 1784 tasks      | elapsed:  1.5min\n",
      "[Parallel(n_jobs=-1)]: Done 2434 tasks      | elapsed:  2.1min\n",
      "[Parallel(n_jobs=-1)]: Done 2500 out of 2500 | elapsed:  2.2min finished\n"
     ]
    }
   ],
   "source": [
    "gs_pipe_NB.fit(Data_sample_train_transformed, t_train);"
   ]
  },
  {
   "cell_type": "code",
   "execution_count": 74,
   "metadata": {},
   "outputs": [
    {
     "data": {
      "text/plain": [
       "{'nb__var_smoothing': 0.4534878508128582, 'rfi_fs__n_features_': 5}"
      ]
     },
     "execution_count": 74,
     "metadata": {},
     "output_type": "execute_result"
    }
   ],
   "source": [
    "gs_pipe_NB.best_params_"
   ]
  },
  {
   "cell_type": "code",
   "execution_count": 75,
   "metadata": {},
   "outputs": [
    {
     "data": {
      "text/plain": [
       "0.847041847041847"
      ]
     },
     "execution_count": 75,
     "metadata": {},
     "output_type": "execute_result"
    }
   ],
   "source": [
    "gs_pipe_NB.best_score_"
   ]
  },
  {
   "cell_type": "markdown",
   "metadata": {},
   "source": [
    "From the above output,the optimal Naive Bayes model has a <b>accuracy</b> score of 0.8470. This optimal value is obtained from the best 5 features and `var_smoothing` value of 0.4534.\n",
    "To know the performance of the model with other `var_smoothing` values `get_search_results` method is used to format the grid search outputs as a Pandas data frame."
   ]
  },
  {
   "cell_type": "code",
   "execution_count": 76,
   "metadata": {},
   "outputs": [
    {
     "data": {
      "text/html": [
       "<div>\n",
       "<style scoped>\n",
       "    .dataframe tbody tr th:only-of-type {\n",
       "        vertical-align: middle;\n",
       "    }\n",
       "\n",
       "    .dataframe tbody tr th {\n",
       "        vertical-align: top;\n",
       "    }\n",
       "\n",
       "    .dataframe thead th {\n",
       "        text-align: right;\n",
       "    }\n",
       "</style>\n",
       "<table border=\"1\" class=\"dataframe\">\n",
       "  <thead>\n",
       "    <tr style=\"text-align: right;\">\n",
       "      <th></th>\n",
       "      <th>mean_score</th>\n",
       "      <th>std_score</th>\n",
       "      <th>max_score</th>\n",
       "      <th>min_score</th>\n",
       "      <th>nb__var_smoothing</th>\n",
       "      <th>rfi_fs__n_features_</th>\n",
       "    </tr>\n",
       "  </thead>\n",
       "  <tbody>\n",
       "    <tr>\n",
       "      <th>96</th>\n",
       "      <td>0.847</td>\n",
       "      <td>0.024</td>\n",
       "      <td>0.870</td>\n",
       "      <td>0.806</td>\n",
       "      <td>0.453</td>\n",
       "      <td>5.0</td>\n",
       "    </tr>\n",
       "    <tr>\n",
       "      <th>101</th>\n",
       "      <td>0.847</td>\n",
       "      <td>0.023</td>\n",
       "      <td>0.871</td>\n",
       "      <td>0.806</td>\n",
       "      <td>0.385</td>\n",
       "      <td>5.0</td>\n",
       "    </tr>\n",
       "    <tr>\n",
       "      <th>106</th>\n",
       "      <td>0.845</td>\n",
       "      <td>0.021</td>\n",
       "      <td>0.867</td>\n",
       "      <td>0.806</td>\n",
       "      <td>0.327</td>\n",
       "      <td>5.0</td>\n",
       "    </tr>\n",
       "    <tr>\n",
       "      <th>91</th>\n",
       "      <td>0.844</td>\n",
       "      <td>0.028</td>\n",
       "      <td>0.871</td>\n",
       "      <td>0.795</td>\n",
       "      <td>0.534</td>\n",
       "      <td>5.0</td>\n",
       "    </tr>\n",
       "    <tr>\n",
       "      <th>100</th>\n",
       "      <td>0.839</td>\n",
       "      <td>0.017</td>\n",
       "      <td>0.855</td>\n",
       "      <td>0.809</td>\n",
       "      <td>0.385</td>\n",
       "      <td>4.0</td>\n",
       "    </tr>\n",
       "  </tbody>\n",
       "</table>\n",
       "</div>"
      ],
      "text/plain": [
       "     mean_score  std_score  max_score  min_score  nb__var_smoothing  \\\n",
       "96        0.847      0.024      0.870      0.806              0.453   \n",
       "101       0.847      0.023      0.871      0.806              0.385   \n",
       "106       0.845      0.021      0.867      0.806              0.327   \n",
       "91        0.844      0.028      0.871      0.795              0.534   \n",
       "100       0.839      0.017      0.855      0.809              0.385   \n",
       "\n",
       "     rfi_fs__n_features_  \n",
       "96                   5.0  \n",
       "101                  5.0  \n",
       "106                  5.0  \n",
       "91                   5.0  \n",
       "100                  4.0  "
      ]
     },
     "execution_count": 76,
     "metadata": {},
     "output_type": "execute_result"
    }
   ],
   "source": [
    "results_NB = get_search_results(gs_pipe_NB)\n",
    "results_NB.head().round(3)"
   ]
  },
  {
   "cell_type": "markdown",
   "metadata": {},
   "source": [
    "From the above output we can infer that the difference in mean_score is not significant between the hyperparameter combinations. To know about the performance trend for the remaining combination, a visualization of the results corresponding to it's `var_smothing` values for the top 5 features is done."
   ]
  },
  {
   "cell_type": "markdown",
   "metadata": {},
   "source": [
    "**Visualizing the results of the grid search corresponding to 5 selected features**"
   ]
  },
  {
   "cell_type": "code",
   "execution_count": 77,
   "metadata": {},
   "outputs": [
    {
     "data": {
      "text/html": [
       "\n",
       "<div id=\"altair-viz-10e2a20652494e6aa7c49b2d1fa61a2d\"></div>\n",
       "<script type=\"text/javascript\">\n",
       "  (function(spec, embedOpt){\n",
       "    let outputDiv = document.currentScript.previousElementSibling;\n",
       "    if (outputDiv.id !== \"altair-viz-10e2a20652494e6aa7c49b2d1fa61a2d\") {\n",
       "      outputDiv = document.getElementById(\"altair-viz-10e2a20652494e6aa7c49b2d1fa61a2d\");\n",
       "    }\n",
       "    const paths = {\n",
       "      \"vega\": \"https://cdn.jsdelivr.net/npm//vega@5?noext\",\n",
       "      \"vega-lib\": \"https://cdn.jsdelivr.net/npm//vega-lib?noext\",\n",
       "      \"vega-lite\": \"https://cdn.jsdelivr.net/npm//vega-lite@4.8.1?noext\",\n",
       "      \"vega-embed\": \"https://cdn.jsdelivr.net/npm//vega-embed@6?noext\",\n",
       "    };\n",
       "\n",
       "    function loadScript(lib) {\n",
       "      return new Promise(function(resolve, reject) {\n",
       "        var s = document.createElement('script');\n",
       "        s.src = paths[lib];\n",
       "        s.async = true;\n",
       "        s.onload = () => resolve(paths[lib]);\n",
       "        s.onerror = () => reject(`Error loading script: ${paths[lib]}`);\n",
       "        document.getElementsByTagName(\"head\")[0].appendChild(s);\n",
       "      });\n",
       "    }\n",
       "\n",
       "    function showError(err) {\n",
       "      outputDiv.innerHTML = `<div class=\"error\" style=\"color:red;\">${err}</div>`;\n",
       "      throw err;\n",
       "    }\n",
       "\n",
       "    function displayChart(vegaEmbed) {\n",
       "      vegaEmbed(outputDiv, spec, embedOpt)\n",
       "        .catch(err => showError(`Javascript Error: ${err.message}<br>This usually means there's a typo in your chart specification. See the javascript console for the full traceback.`));\n",
       "    }\n",
       "\n",
       "    if(typeof define === \"function\" && define.amd) {\n",
       "      requirejs.config({paths});\n",
       "      require([\"vega-embed\"], displayChart, err => showError(`Error loading script: ${err.message}`));\n",
       "    } else if (typeof vegaEmbed === \"function\") {\n",
       "      displayChart(vegaEmbed);\n",
       "    } else {\n",
       "      loadScript(\"vega\")\n",
       "        .then(() => loadScript(\"vega-lite\"))\n",
       "        .then(() => loadScript(\"vega-embed\"))\n",
       "        .catch(showError)\n",
       "        .then(() => displayChart(vegaEmbed));\n",
       "    }\n",
       "  })({\"config\": {\"view\": {\"continuousWidth\": 400, \"continuousHeight\": 300}}, \"data\": {\"name\": \"data-0dc53fb83e31bc66dbad644f189407d0\"}, \"mark\": {\"type\": \"line\", \"point\": true}, \"encoding\": {\"x\": {\"type\": \"quantitative\", \"field\": \"nb__var_smoothing\", \"title\": \"Var. Smoothing\"}, \"y\": {\"type\": \"quantitative\", \"field\": \"mean_score\", \"scale\": {\"zero\": false}, \"title\": \"Accuracy\"}}, \"title\": \"Gaussian NB Performance Comparison with 5 Features\", \"$schema\": \"https://vega.github.io/schema/vega-lite/v4.8.1.json\", \"datasets\": {\"data-0dc53fb83e31bc66dbad644f189407d0\": [{\"mean_score\": 0.847041731143964, \"std_score\": 0.023511965339524318, \"max_score\": 0.8695652173913043, \"min_score\": 0.8057553956834532, \"nb__var_smoothing\": 0.4534878508128582, \"rfi_fs__n_features_\": 5.0}, {\"mean_score\": 0.847033939748622, \"std_score\": 0.0228646304546, \"max_score\": 0.8705035971223022, \"min_score\": 0.8057553956834532, \"nb__var_smoothing\": 0.38535285937105296, \"rfi_fs__n_features_\": 5.0}, {\"mean_score\": 0.8448808235319178, \"std_score\": 0.021434925570804418, \"max_score\": 0.8669064748201439, \"min_score\": 0.8057553956834532, \"nb__var_smoothing\": 0.32745491628777285, \"rfi_fs__n_features_\": 5.0}, {\"mean_score\": 0.8441380228470546, \"std_score\": 0.027717210559713934, \"max_score\": 0.8709677419354839, \"min_score\": 0.7949640287769785, \"nb__var_smoothing\": 0.533669923120631, \"rfi_fs__n_features_\": 5.0}, {\"mean_score\": 0.8390498052660765, \"std_score\": 0.031042510293504296, \"max_score\": 0.8745519713261649, \"min_score\": 0.7913669064748201, \"nb__var_smoothing\": 0.6280291441834253, \"rfi_fs__n_features_\": 5.0}, {\"mean_score\": 0.836925222438395, \"std_score\": 0.018694894039867262, \"max_score\": 0.8597122302158273, \"min_score\": 0.8093525179856115, \"nb__var_smoothing\": 0.2782559402207124, \"rfi_fs__n_features_\": 5.0}, {\"mean_score\": 0.8332734998282134, \"std_score\": 0.03138823872054115, \"max_score\": 0.8745519713261649, \"min_score\": 0.7877697841726619, \"nb__var_smoothing\": 0.739072203352578, \"rfi_fs__n_features_\": 5.0}, {\"mean_score\": 0.8325566539500773, \"std_score\": 0.03187606565994301, \"max_score\": 0.8709677419354839, \"min_score\": 0.7841726618705036, \"nb__var_smoothing\": 0.8697490026177834, \"rfi_fs__n_features_\": 5.0}, {\"mean_score\": 0.8311539620528491, \"std_score\": 0.013733983409157578, \"max_score\": 0.8525179856115108, \"min_score\": 0.8145454545454546, \"nb__var_smoothing\": 0.2009233002565048, \"rfi_fs__n_features_\": 5.0}, {\"mean_score\": 0.8311514959905084, \"std_score\": 0.015521716272286656, \"max_score\": 0.8525179856115108, \"min_score\": 0.8093525179856115, \"nb__var_smoothing\": 0.23644894126454072, \"rfi_fs__n_features_\": 5.0}, {\"mean_score\": 0.8282683598881446, \"std_score\": 0.01665736486448284, \"max_score\": 0.8561151079136691, \"min_score\": 0.8109090909090909, \"nb__var_smoothing\": 0.17073526474706913, \"rfi_fs__n_features_\": 5.0}, {\"mean_score\": 0.8267829270945095, \"std_score\": 0.03320346493311974, \"max_score\": 0.8673835125448028, \"min_score\": 0.7769784172661871, \"nb__var_smoothing\": 1.0235310218990263, \"rfi_fs__n_features_\": 5.0}, {\"mean_score\": 0.82538275772344, \"std_score\": 0.01842143204353714, \"max_score\": 0.8561151079136691, \"min_score\": 0.8064516129032258, \"nb__var_smoothing\": 0.145082877849594, \"rfi_fs__n_features_\": 5.0}, {\"mean_score\": 0.8239594928163042, \"std_score\": 0.020449317361365415, \"max_score\": 0.8561151079136691, \"min_score\": 0.7956989247311828, \"nb__var_smoothing\": 0.12328467394420665, \"rfi_fs__n_features_\": 5.0}, {\"mean_score\": 0.8217855233090081, \"std_score\": 0.02067696002519838, \"max_score\": 0.8525179856115108, \"min_score\": 0.7921146953405018, \"nb__var_smoothing\": 0.08902150854450383, \"rfi_fs__n_features_\": 5.0}, {\"mean_score\": 0.8203414047035992, \"std_score\": 0.022233162358712796, \"max_score\": 0.8525179856115108, \"min_score\": 0.7885304659498208, \"nb__var_smoothing\": 0.07564633275546291, \"rfi_fs__n_features_\": 5.0}, {\"mean_score\": 0.8181392381441016, \"std_score\": 0.03472446462624222, \"max_score\": 0.8530465949820788, \"min_score\": 0.762589928057554, \"nb__var_smoothing\": 1.2045035402587825, \"rfi_fs__n_features_\": 5.0}, {\"mean_score\": 0.8174741897671458, \"std_score\": 0.02291109007983595, \"max_score\": 0.8561151079136691, \"min_score\": 0.7921146953405018, \"nb__var_smoothing\": 0.10476157527896651, \"rfi_fs__n_features_\": 5.0}, {\"mean_score\": 0.8145598864526893, \"std_score\": 0.02150498160770073, \"max_score\": 0.8453237410071942, \"min_score\": 0.7849462365591398, \"nb__var_smoothing\": 0.06428073117284319, \"rfi_fs__n_features_\": 5.0}, {\"mean_score\": 0.8145420593781255, \"std_score\": 0.03528306765950164, \"max_score\": 0.8494623655913979, \"min_score\": 0.7589928057553957, \"nb__var_smoothing\": 1.4174741629268055, \"rfi_fs__n_features_\": 5.0}, {\"mean_score\": 0.8123989784329619, \"std_score\": 0.02210815840895078, \"max_score\": 0.8453237410071942, \"min_score\": 0.7813620071684588, \"nb__var_smoothing\": 0.05462277217684343, \"rfi_fs__n_features_\": 5.0}, {\"mean_score\": 0.8109213358116261, \"std_score\": 0.03754627204854591, \"max_score\": 0.8514492753623188, \"min_score\": 0.7589928057553957, \"nb__var_smoothing\": 1.6681005372000588, \"rfi_fs__n_features_\": 5.0}, {\"mean_score\": 0.8087913732255302, \"std_score\": 0.022109992346773407, \"max_score\": 0.841726618705036, \"min_score\": 0.7777777777777778, \"nb__var_smoothing\": 0.04641588833612782, \"rfi_fs__n_features_\": 5.0}, {\"mean_score\": 0.8066174033105533, \"std_score\": 0.022046690465014, \"max_score\": 0.8381294964028777, \"min_score\": 0.7777777777777778, \"nb__var_smoothing\": 0.03944206059437656, \"rfi_fs__n_features_\": 5.0}, {\"mean_score\": 0.8044590738731212, \"std_score\": 0.02408909592986291, \"max_score\": 0.8381294964028777, \"min_score\": 0.7706093189964157, \"nb__var_smoothing\": 0.02848035868435802, \"rfi_fs__n_features_\": 5.0}, {\"mean_score\": 0.8044097968596944, \"std_score\": 0.037771211163420644, \"max_score\": 0.8478260869565217, \"min_score\": 0.7563636363636363, \"nb__var_smoothing\": 1.9630406500402708, \"rfi_fs__n_features_\": 5.0}, {\"mean_score\": 0.8037395929488719, \"std_score\": 0.02555538963328129, \"max_score\": 0.8381294964028777, \"min_score\": 0.7670250896057348, \"nb__var_smoothing\": 0.020565123083486514, \"rfi_fs__n_features_\": 5.0}, {\"mean_score\": 0.802303322610304, \"std_score\": 0.02567737661765731, \"max_score\": 0.8345323741007195, \"min_score\": 0.7634408602150538, \"nb__var_smoothing\": 0.01747528400007685, \"rfi_fs__n_features_\": 5.0}, {\"mean_score\": 0.8015787974490992, \"std_score\": 0.02126041569473489, \"max_score\": 0.8381294964028777, \"min_score\": 0.7741935483870968, \"nb__var_smoothing\": 0.033516026509388445, \"rfi_fs__n_features_\": 5.0}, {\"mean_score\": 0.8015760498830312, \"std_score\": 0.026190660256490486, \"max_score\": 0.8345323741007195, \"min_score\": 0.7634408602150538, \"nb__var_smoothing\": 0.007742636826811269, \"rfi_fs__n_features_\": 5.0}, {\"mean_score\": 0.8015760498830312, \"std_score\": 0.026190660256490486, \"max_score\": 0.8345323741007195, \"min_score\": 0.7634408602150538, \"nb__var_smoothing\": 0.012618568830660211, \"rfi_fs__n_features_\": 5.0}, {\"mean_score\": 0.8015760498830312, \"std_score\": 0.026190660256490486, \"max_score\": 0.8345323741007195, \"min_score\": 0.7634408602150538, \"nb__var_smoothing\": 0.010722672220103232, \"rfi_fs__n_features_\": 5.0}, {\"mean_score\": 0.8015760498830312, \"std_score\": 0.026190660256490486, \"max_score\": 0.8345323741007195, \"min_score\": 0.7634408602150538, \"nb__var_smoothing\": 0.009111627561154896, \"rfi_fs__n_features_\": 5.0}, {\"mean_score\": 0.8008644736894407, \"std_score\": 0.02397630795010831, \"max_score\": 0.8273381294964028, \"min_score\": 0.7634408602150538, \"nb__var_smoothing\": 0.01484968262254465, \"rfi_fs__n_features_\": 5.0}, {\"mean_score\": 0.8001424706467135, \"std_score\": 0.023684172525593655, \"max_score\": 0.8381294964028777, \"min_score\": 0.7670250896057348, \"nb__var_smoothing\": 0.024201282647943835, \"rfi_fs__n_features_\": 5.0}, {\"mean_score\": 0.8001397795444634, \"std_score\": 0.026680087933971385, \"max_score\": 0.8345323741007195, \"min_score\": 0.7598566308243727, \"nb__var_smoothing\": 0.006579332246575682, \"rfi_fs__n_features_\": 5.0}, {\"mean_score\": 0.8001397795444634, \"std_score\": 0.026680087933971385, \"max_score\": 0.8345323741007195, \"min_score\": 0.7598566308243727, \"nb__var_smoothing\": 0.005590810182512223, \"rfi_fs__n_features_\": 5.0}, {\"mean_score\": 0.8000879804125589, \"std_score\": 0.03917676185180588, \"max_score\": 0.8478260869565217, \"min_score\": 0.7527272727272727, \"nb__var_smoothing\": 2.3101297000831598, \"rfi_fs__n_features_\": 5.0}, {\"mean_score\": 0.7994203550840318, \"std_score\": 0.025776183402873222, \"max_score\": 0.8309352517985612, \"min_score\": 0.7598566308243727, \"nb__var_smoothing\": 0.0047508101621027985, \"rfi_fs__n_features_\": 5.0}, {\"mean_score\": 0.7994203550840318, \"std_score\": 0.025776183402873222, \"max_score\": 0.8309352517985612, \"min_score\": 0.7598566308243727, \"nb__var_smoothing\": 0.004037017258596558, \"rfi_fs__n_features_\": 5.0}, {\"mean_score\": 0.7994125068171907, \"std_score\": 0.026927035572237364, \"max_score\": 0.8309352517985612, \"min_score\": 0.7598566308243727, \"nb__var_smoothing\": 1e-06, \"rfi_fs__n_features_\": 5.0}, {\"mean_score\": 0.7994125068171907, \"std_score\": 0.026927035572237364, \"max_score\": 0.8309352517985612, \"min_score\": 0.7598566308243727, \"nb__var_smoothing\": 4.328761281083061e-06, \"rfi_fs__n_features_\": 5.0}, {\"mean_score\": 0.7994125068171907, \"std_score\": 0.026927035572237364, \"max_score\": 0.8309352517985612, \"min_score\": 0.7598566308243727, \"nb__var_smoothing\": 4.977023564332114e-05, \"rfi_fs__n_features_\": 5.0}, {\"mean_score\": 0.7994125068171907, \"std_score\": 0.026927035572237364, \"max_score\": 0.8309352517985612, \"min_score\": 0.7598566308243727, \"nb__var_smoothing\": 0.0006734150657750829, \"rfi_fs__n_features_\": 5.0}, {\"mean_score\": 0.7994125068171907, \"std_score\": 0.026927035572237364, \"max_score\": 0.8309352517985612, \"min_score\": 0.7598566308243727, \"nb__var_smoothing\": 0.00011233240329780289, \"rfi_fs__n_features_\": 5.0}, {\"mean_score\": 0.7994125068171907, \"std_score\": 0.026927035572237364, \"max_score\": 0.8309352517985612, \"min_score\": 0.7598566308243727, \"nb__var_smoothing\": 3.6783797718286343e-06, \"rfi_fs__n_features_\": 5.0}, {\"mean_score\": 0.7994125068171907, \"std_score\": 0.026927035572237364, \"max_score\": 0.8309352517985612, \"min_score\": 0.7598566308243727, \"nb__var_smoothing\": 0.00021544346900318867, \"rfi_fs__n_features_\": 5.0}, {\"mean_score\": 0.7994125068171907, \"std_score\": 0.026927035572237364, \"max_score\": 0.8309352517985612, \"min_score\": 0.7598566308243727, \"nb__var_smoothing\": 1.6297508346206469e-06, \"rfi_fs__n_features_\": 5.0}, {\"mean_score\": 0.7994125068171907, \"std_score\": 0.026927035572237364, \"max_score\": 0.8309352517985612, \"min_score\": 0.7598566308243727, \"nb__var_smoothing\": 0.0005722367659350221, \"rfi_fs__n_features_\": 5.0}, {\"mean_score\": 0.7994125068171907, \"std_score\": 0.026927035572237364, \"max_score\": 0.8309352517985612, \"min_score\": 0.7598566308243727, \"nb__var_smoothing\": 0.00015556761439304722, \"rfi_fs__n_features_\": 5.0}, {\"mean_score\": 0.7994125068171907, \"std_score\": 0.026927035572237364, \"max_score\": 0.8309352517985612, \"min_score\": 0.7598566308243727, \"nb__var_smoothing\": 0.00025353644939701115, \"rfi_fs__n_features_\": 5.0}, {\"mean_score\": 0.7994125068171907, \"std_score\": 0.026927035572237364, \"max_score\": 0.8309352517985612, \"min_score\": 0.7598566308243727, \"nb__var_smoothing\": 0.00013219411484660288, \"rfi_fs__n_features_\": 5.0}, {\"mean_score\": 0.7994125068171907, \"std_score\": 0.026927035572237364, \"max_score\": 0.8309352517985612, \"min_score\": 0.7598566308243727, \"nb__var_smoothing\": 8.111308307896872e-05, \"rfi_fs__n_features_\": 5.0}, {\"mean_score\": 0.7994125068171907, \"std_score\": 0.026927035572237364, \"max_score\": 0.8309352517985612, \"min_score\": 0.7598566308243727, \"nb__var_smoothing\": 1.1768119524349991e-06, \"rfi_fs__n_features_\": 5.0}, {\"mean_score\": 0.7994125068171907, \"std_score\": 0.026927035572237364, \"max_score\": 0.8309352517985612, \"min_score\": 0.7598566308243727, \"nb__var_smoothing\": 0.00048626015800653534, \"rfi_fs__n_features_\": 5.0}, {\"mean_score\": 0.7994125068171907, \"std_score\": 0.026927035572237364, \"max_score\": 0.8309352517985612, \"min_score\": 0.7598566308243727, \"nb__var_smoothing\": 6.892612104349695e-05, \"rfi_fs__n_features_\": 5.0}, {\"mean_score\": 0.7994125068171907, \"std_score\": 0.026927035572237364, \"max_score\": 0.8309352517985612, \"min_score\": 0.7598566308243727, \"nb__var_smoothing\": 5.8570208180566735e-05, \"rfi_fs__n_features_\": 5.0}, {\"mean_score\": 0.7994125068171907, \"std_score\": 0.026927035572237364, \"max_score\": 0.8309352517985612, \"min_score\": 0.7598566308243727, \"nb__var_smoothing\": 0.00041320124001153346, \"rfi_fs__n_features_\": 5.0}, {\"mean_score\": 0.7994125068171907, \"std_score\": 0.026927035572237364, \"max_score\": 0.8309352517985612, \"min_score\": 0.7598566308243727, \"nb__var_smoothing\": 1.3848863713938746e-06, \"rfi_fs__n_features_\": 5.0}, {\"mean_score\": 0.7994125068171907, \"std_score\": 0.026927035572237364, \"max_score\": 0.8309352517985612, \"min_score\": 0.7598566308243727, \"nb__var_smoothing\": 0.00029836472402833405, \"rfi_fs__n_features_\": 5.0}, {\"mean_score\": 0.7994125068171907, \"std_score\": 0.026927035572237364, \"max_score\": 0.8309352517985612, \"min_score\": 0.7598566308243727, \"nb__var_smoothing\": 2.2570197196339214e-06, \"rfi_fs__n_features_\": 5.0}, {\"mean_score\": 0.7994125068171907, \"std_score\": 0.026927035572237364, \"max_score\": 0.8309352517985612, \"min_score\": 0.7598566308243727, \"nb__var_smoothing\": 0.0003511191734215135, \"rfi_fs__n_features_\": 5.0}, {\"mean_score\": 0.7994125068171907, \"std_score\": 0.026927035572237364, \"max_score\": 0.8309352517985612, \"min_score\": 0.7598566308243727, \"nb__var_smoothing\": 0.00018307382802953696, \"rfi_fs__n_features_\": 5.0}, {\"mean_score\": 0.7994125068171907, \"std_score\": 0.026927035572237364, \"max_score\": 0.8309352517985612, \"min_score\": 0.7598566308243727, \"nb__var_smoothing\": 1.917910261672489e-06, \"rfi_fs__n_features_\": 5.0}, {\"mean_score\": 0.7994125068171907, \"std_score\": 0.026927035572237364, \"max_score\": 0.8309352517985612, \"min_score\": 0.7598566308243727, \"nb__var_smoothing\": 5.994842503189409e-06, \"rfi_fs__n_features_\": 5.0}, {\"mean_score\": 0.7994125068171907, \"std_score\": 0.026927035572237364, \"max_score\": 0.8309352517985612, \"min_score\": 0.7598566308243727, \"nb__var_smoothing\": 4.229242874389499e-05, \"rfi_fs__n_features_\": 5.0}, {\"mean_score\": 0.7994125068171907, \"std_score\": 0.026927035572237364, \"max_score\": 0.8309352517985612, \"min_score\": 0.7598566308243727, \"nb__var_smoothing\": 7.0548023107186455e-06, \"rfi_fs__n_features_\": 5.0}, {\"mean_score\": 0.7994125068171907, \"std_score\": 0.026927035572237364, \"max_score\": 0.8309352517985612, \"min_score\": 0.7598566308243727, \"nb__var_smoothing\": 9.545484566618347e-05, \"rfi_fs__n_features_\": 5.0}, {\"mean_score\": 0.7994125068171907, \"std_score\": 0.026927035572237364, \"max_score\": 0.8309352517985612, \"min_score\": 0.7598566308243727, \"nb__var_smoothing\": 2.2051307399030455e-05, \"rfi_fs__n_features_\": 5.0}, {\"mean_score\": 0.7994125068171907, \"std_score\": 0.026927035572237364, \"max_score\": 0.8309352517985612, \"min_score\": 0.7598566308243727, \"nb__var_smoothing\": 1.5922827933410938e-05, \"rfi_fs__n_features_\": 5.0}, {\"mean_score\": 0.7994125068171907, \"std_score\": 0.026927035572237364, \"max_score\": 0.8309352517985612, \"min_score\": 0.7598566308243727, \"nb__var_smoothing\": 0.0029150530628251786, \"rfi_fs__n_features_\": 5.0}, {\"mean_score\": 0.7994125068171907, \"std_score\": 0.026927035572237364, \"max_score\": 0.8309352517985612, \"min_score\": 0.7598566308243727, \"nb__var_smoothing\": 0.0024770763559917113, \"rfi_fs__n_features_\": 5.0}, {\"mean_score\": 0.7994125068171907, \"std_score\": 0.026927035572237364, \"max_score\": 0.8309352517985612, \"min_score\": 0.7598566308243727, \"nb__var_smoothing\": 9.770099572992266e-06, \"rfi_fs__n_features_\": 5.0}, {\"mean_score\": 0.7994125068171907, \"std_score\": 0.026927035572237364, \"max_score\": 0.8309352517985612, \"min_score\": 0.7598566308243727, \"nb__var_smoothing\": 0.002104904144512022, \"rfi_fs__n_features_\": 5.0}, {\"mean_score\": 0.7994125068171907, \"std_score\": 0.026927035572237364, \"max_score\": 0.8309352517985612, \"min_score\": 0.7598566308243727, \"nb__var_smoothing\": 0.001788649529057435, \"rfi_fs__n_features_\": 5.0}, {\"mean_score\": 0.7994125068171907, \"std_score\": 0.026927035572237364, \"max_score\": 0.8309352517985612, \"min_score\": 0.7598566308243727, \"nb__var_smoothing\": 8.302175681319752e-06, \"rfi_fs__n_features_\": 5.0}, {\"mean_score\": 0.7994125068171907, \"std_score\": 0.026927035572237364, \"max_score\": 0.8309352517985612, \"min_score\": 0.7598566308243727, \"nb__var_smoothing\": 3.053855508833419e-05, \"rfi_fs__n_features_\": 5.0}, {\"mean_score\": 0.7994125068171907, \"std_score\": 0.026927035572237364, \"max_score\": 0.8309352517985612, \"min_score\": 0.7598566308243727, \"nb__var_smoothing\": 0.0015199110829529348, \"rfi_fs__n_features_\": 5.0}, {\"mean_score\": 0.7994125068171907, \"std_score\": 0.026927035572237364, \"max_score\": 0.8309352517985612, \"min_score\": 0.7598566308243727, \"nb__var_smoothing\": 2.5950242113997373e-05, \"rfi_fs__n_features_\": 5.0}, {\"mean_score\": 0.7994125068171907, \"std_score\": 0.026927035572237364, \"max_score\": 0.8309352517985612, \"min_score\": 0.7598566308243727, \"nb__var_smoothing\": 0.001291549665014884, \"rfi_fs__n_features_\": 5.0}, {\"mean_score\": 0.7994125068171907, \"std_score\": 0.026927035572237364, \"max_score\": 0.8309352517985612, \"min_score\": 0.7598566308243727, \"nb__var_smoothing\": 0.0010974987654930567, \"rfi_fs__n_features_\": 5.0}, {\"mean_score\": 0.7994125068171907, \"std_score\": 0.026927035572237364, \"max_score\": 0.8309352517985612, \"min_score\": 0.7598566308243727, \"nb__var_smoothing\": 0.0009326033468832199, \"rfi_fs__n_features_\": 5.0}, {\"mean_score\": 0.7958232327818735, \"std_score\": 0.02381341310567019, \"max_score\": 0.8309352517985612, \"min_score\": 0.7598566308243727, \"nb__var_smoothing\": 0.003430469286314919, \"rfi_fs__n_features_\": 5.0}, {\"mean_score\": 0.7950959600546008, \"std_score\": 0.024280966402525223, \"max_score\": 0.8309352517985612, \"min_score\": 0.7598566308243727, \"nb__var_smoothing\": 1.8738174228603867e-05, \"rfi_fs__n_features_\": 5.0}, {\"mean_score\": 0.7950959600546008, \"std_score\": 0.024280966402525223, \"max_score\": 0.8309352517985612, \"min_score\": 0.7598566308243727, \"nb__var_smoothing\": 3.1257158496882352e-06, \"rfi_fs__n_features_\": 5.0}, {\"mean_score\": 0.7950959600546008, \"std_score\": 0.024280966402525223, \"max_score\": 0.8309352517985612, \"min_score\": 0.7598566308243727, \"nb__var_smoothing\": 2.6560877829466896e-06, \"rfi_fs__n_features_\": 5.0}, {\"mean_score\": 0.7950959600546008, \"std_score\": 0.024280966402525223, \"max_score\": 0.8309352517985612, \"min_score\": 0.7598566308243727, \"nb__var_smoothing\": 5.094138014816386e-06, \"rfi_fs__n_features_\": 5.0}, {\"mean_score\": 0.7950959600546008, \"std_score\": 0.024280966402525223, \"max_score\": 0.8309352517985612, \"min_score\": 0.7598566308243727, \"nb__var_smoothing\": 1.1497569953977357e-05, \"rfi_fs__n_features_\": 5.0}, {\"mean_score\": 0.7950959600546008, \"std_score\": 0.024280966402525223, \"max_score\": 0.8309352517985612, \"min_score\": 0.7598566308243727, \"nb__var_smoothing\": 1.3530477745798076e-05, \"rfi_fs__n_features_\": 5.0}, {\"mean_score\": 0.7950959600546008, \"std_score\": 0.024280966402525223, \"max_score\": 0.8309352517985612, \"min_score\": 0.7598566308243727, \"nb__var_smoothing\": 0.0007924828983539169, \"rfi_fs__n_features_\": 5.0}, {\"mean_score\": 0.7950959600546008, \"std_score\": 0.024280966402525223, \"max_score\": 0.8309352517985612, \"min_score\": 0.7598566308243727, \"nb__var_smoothing\": 3.5938136638046256e-05, \"rfi_fs__n_features_\": 5.0}, {\"mean_score\": 0.7950388351820138, \"std_score\": 0.03824974435550775, \"max_score\": 0.8442028985507246, \"min_score\": 0.7454545454545455, \"nb__var_smoothing\": 2.718588242732941, \"rfi_fs__n_features_\": 5.0}, {\"mean_score\": 0.7899871113691732, \"std_score\": 0.038752859054160364, \"max_score\": 0.8405797101449275, \"min_score\": 0.7381818181818182, \"nb__var_smoothing\": 3.1992671377973836, \"rfi_fs__n_features_\": 5.0}, {\"mean_score\": 0.7834886903686282, \"std_score\": 0.04100460258795232, \"max_score\": 0.8369565217391305, \"min_score\": 0.7272727272727273, \"nb__var_smoothing\": 3.7649358067924683, \"rfi_fs__n_features_\": 5.0}, {\"mean_score\": 0.7791590260623326, \"std_score\": 0.039022128584744284, \"max_score\": 0.8297101449275363, \"min_score\": 0.7236363636363636, \"nb__var_smoothing\": 4.43062145758388, \"rfi_fs__n_features_\": 5.0}, {\"mean_score\": 0.7726553918410598, \"std_score\": 0.04090051157821066, \"max_score\": 0.822463768115942, \"min_score\": 0.7127272727272728, \"nb__var_smoothing\": 5.214008287999684, \"rfi_fs__n_features_\": 5.0}, {\"mean_score\": 0.76975689758024, \"std_score\": 0.03578289547538861, \"max_score\": 0.8043478260869565, \"min_score\": 0.7163636363636363, \"nb__var_smoothing\": 6.1359072734131725, \"rfi_fs__n_features_\": 5.0}, {\"mean_score\": 0.7639935975738089, \"std_score\": 0.0354561929474046, \"max_score\": 0.8007246376811594, \"min_score\": 0.7127272727272728, \"nb__var_smoothing\": 7.220809018385464, \"rfi_fs__n_features_\": 5.0}, {\"mean_score\": 0.7589392391225359, \"std_score\": 0.034827235695901855, \"max_score\": 0.7934782608695652, \"min_score\": 0.7054545454545454, \"nb__var_smoothing\": 8.497534359086442, \"rfi_fs__n_features_\": 5.0}, {\"mean_score\": 0.7531498161409671, \"std_score\": 0.03447741980849646, \"max_score\": 0.7841726618705036, \"min_score\": 0.6945454545454546, \"nb__var_smoothing\": 10.0, \"rfi_fs__n_features_\": 5.0}]}}, {\"mode\": \"vega-lite\"});\n",
       "</script>"
      ],
      "text/plain": [
       "alt.Chart(...)"
      ]
     },
     "execution_count": 77,
     "metadata": {},
     "output_type": "execute_result"
    }
   ],
   "source": [
    "results_NB_10_features = results_NB[results_NB['rfi_fs__n_features_'] == 5.0]\n",
    "alt.Chart(results_NB_10_features,title='Gaussian NB Performance Comparison with 5 Features').mark_line(point=True).encode(\n",
    "    alt.X('nb__var_smoothing', title='Var. Smoothing'),\n",
    "    alt.Y('mean_score', title='Accuracy', scale=alt.Scale(zero=False)))"
   ]
  },
  {
   "cell_type": "markdown",
   "metadata": {},
   "source": [
    "From the visualisation it is clear that the performance of the model is in negative trend after it reaches it's optimal value detected by the model."
   ]
  },
  {
   "cell_type": "markdown",
   "metadata": {},
   "source": [
    "# <span style=\"color:#0099cc\"> Model 5 : SVM <a class=\"anchor\" id=\"22\"></a>"
   ]
  },
  {
   "cell_type": "markdown",
   "metadata": {},
   "source": [
    "* The Support Vector Machine(SVM) is fit and its hyperparameters are optimised using the grid search.   \n",
    "\n",
    "\n",
    "* A grid search is performed for *number of features* - <code>4,5,10,15</code> and <code>20</code> over the following SVM hyperparameters: \n",
    "    * **kernel type** - <code>linear , rbf , poly</code>\n",
    "    * **Kernel coefficient(gamma)** - <code>scale , auto</code>\n",
    "        * if gamma='scale'  then it uses 1 / (n_features * X.var()) as value of gamma\n",
    "        * if ‘auto’, uses 1 / n_features.\n",
    "    * **C** - <code>0.5 ,1, 5, 10 </code>\n",
    "    * **Degree of the polynomial kernel function** - <code>2 , 3</code>\n",
    "\n",
    "\n",
    "    \n",
    "* Determine the optimal combination of Number of Features , kernel type (kernel) ,Kernel coefficient (gamma) , Regularization parameter (C) and Degree of the polynomial kernel function (degree) .\n",
    "\n"
   ]
  },
  {
   "cell_type": "code",
   "execution_count": 78,
   "metadata": {},
   "outputs": [],
   "source": [
    "from sklearn.svm import SVC\n",
    "pipe_SVM = Pipeline(steps=[('rfi_fs', RFIFeatureSelector()),\n",
    "                          ('svm', SVC())])\n",
    "param_grid_SVM = [\n",
    "    {'rfi_fs__n_features_': [4,5,10,15, D_train.shape[1]],\n",
    "     'svm__kernel': ['linear','rbf','poly'],\n",
    "     'svm__gamma' : ['scale','auto'],\n",
    "     'svm__C' : [0.5 , 1, 5 , 10],\n",
    "     'svm__degree' : [2,3]\n",
    "    },\n",
    "]\n",
    "gs_pipe_SVM = GridSearchCV(estimator=pipe_SVM,param_grid=param_grid_SVM,cv=cv_method,n_jobs=-1,\n",
    "                           scoring='accuracy',refit = True,verbose=1)"
   ]
  },
  {
   "cell_type": "code",
   "execution_count": 79,
   "metadata": {
    "scrolled": true
   },
   "outputs": [
    {
     "name": "stdout",
     "output_type": "stream",
     "text": [
      "Fitting 5 folds for each of 240 candidates, totalling 1200 fits\n"
     ]
    },
    {
     "name": "stderr",
     "output_type": "stream",
     "text": [
      "[Parallel(n_jobs=-1)]: Using backend LokyBackend with 8 concurrent workers.\n",
      "[Parallel(n_jobs=-1)]: Done  34 tasks      | elapsed:    1.9s\n",
      "[Parallel(n_jobs=-1)]: Done 184 tasks      | elapsed:    9.2s\n",
      "[Parallel(n_jobs=-1)]: Done 434 tasks      | elapsed:   23.0s\n",
      "[Parallel(n_jobs=-1)]: Done 784 tasks      | elapsed:   43.5s\n",
      "[Parallel(n_jobs=-1)]: Done 1200 out of 1200 | elapsed:  1.1min finished\n",
      "/opt/anaconda3/lib/python3.7/site-packages/sklearn/model_selection/_search.py:814: DeprecationWarning: The default of the `iid` parameter will change from True to False in version 0.22 and will be removed in 0.24. This will change numeric results when test-set sizes are unequal.\n",
      "  DeprecationWarning)\n"
     ]
    },
    {
     "data": {
      "text/plain": [
       "GridSearchCV(cv=StratifiedKFold(n_splits=5, random_state=999, shuffle=False),\n",
       "             error_score='raise-deprecating',\n",
       "             estimator=Pipeline(memory=None,\n",
       "                                steps=[('rfi_fs',\n",
       "                                        RFIFeatureSelector(n_features_=10)),\n",
       "                                       ('svm',\n",
       "                                        SVC(C=1.0, cache_size=200,\n",
       "                                            class_weight=None, coef0=0.0,\n",
       "                                            decision_function_shape='ovr',\n",
       "                                            degree=3, gamma='auto_deprecated',\n",
       "                                            kernel='rbf', max_iter=-1,\n",
       "                                            probability...se,\n",
       "                                            random_state=None, shrinking=True,\n",
       "                                            tol=0.001, verbose=False))],\n",
       "                                verbose=False),\n",
       "             iid='warn', n_jobs=-1,\n",
       "             param_grid=[{'rfi_fs__n_features_': [4, 5, 10, 15, 20],\n",
       "                          'svm__C': [0.5, 1, 5, 10], 'svm__degree': [2, 3],\n",
       "                          'svm__gamma': ['scale', 'auto'],\n",
       "                          'svm__kernel': ['linear', 'rbf', 'poly']}],\n",
       "             pre_dispatch='2*n_jobs', refit=True, return_train_score=False,\n",
       "             scoring='accuracy', verbose=1)"
      ]
     },
     "execution_count": 79,
     "metadata": {},
     "output_type": "execute_result"
    }
   ],
   "source": [
    "gs_pipe_SVM.fit(D_train , t_train)"
   ]
  },
  {
   "cell_type": "markdown",
   "metadata": {},
   "source": [
    "* The best performing parameter combination are as follows:\n",
    "    * **kernel type** - <code>linear</code>\n",
    "    * **Kernel coefficient** - <code>scale</code>\n",
    "    * **C** - <code> 5 </code>\n",
    "    * **Degree of the polynomial kernel function** - <code> 3 </code>\n",
    "    * **Number of features** - <code> 5 </code>\n"
   ]
  },
  {
   "cell_type": "code",
   "execution_count": 80,
   "metadata": {},
   "outputs": [
    {
     "data": {
      "text/plain": [
       "{'rfi_fs__n_features_': 5,\n",
       " 'svm__C': 5,\n",
       " 'svm__degree': 3,\n",
       " 'svm__gamma': 'scale',\n",
       " 'svm__kernel': 'linear'}"
      ]
     },
     "execution_count": 80,
     "metadata": {},
     "output_type": "execute_result"
    }
   ],
   "source": [
    "gs_pipe_SVM.best_params_"
   ]
  },
  {
   "cell_type": "markdown",
   "metadata": {},
   "source": [
    "The best score for the SVM with best performing parameters combination is:"
   ]
  },
  {
   "cell_type": "code",
   "execution_count": 81,
   "metadata": {},
   "outputs": [
    {
     "data": {
      "text/plain": [
       "0.9646464646464646"
      ]
     },
     "execution_count": 81,
     "metadata": {},
     "output_type": "execute_result"
    }
   ],
   "source": [
    "gs_pipe_SVM.best_score_"
   ]
  },
  {
   "cell_type": "markdown",
   "metadata": {},
   "source": [
    "Having a look at the other combinations to see if the difference with respect to best values is rather significant or not."
   ]
  },
  {
   "cell_type": "code",
   "execution_count": 82,
   "metadata": {},
   "outputs": [
    {
     "data": {
      "text/html": [
       "<div>\n",
       "<style scoped>\n",
       "    .dataframe tbody tr th:only-of-type {\n",
       "        vertical-align: middle;\n",
       "    }\n",
       "\n",
       "    .dataframe tbody tr th {\n",
       "        vertical-align: top;\n",
       "    }\n",
       "\n",
       "    .dataframe thead th {\n",
       "        text-align: right;\n",
       "    }\n",
       "</style>\n",
       "<table border=\"1\" class=\"dataframe\">\n",
       "  <thead>\n",
       "    <tr style=\"text-align: right;\">\n",
       "      <th></th>\n",
       "      <th>mean_score</th>\n",
       "      <th>std_score</th>\n",
       "      <th>max_score</th>\n",
       "      <th>min_score</th>\n",
       "      <th>rfi_fs__n_features_</th>\n",
       "      <th>svm__C</th>\n",
       "      <th>svm__degree</th>\n",
       "      <th>svm__gamma</th>\n",
       "      <th>svm__kernel</th>\n",
       "    </tr>\n",
       "  </thead>\n",
       "  <tbody>\n",
       "    <tr>\n",
       "      <th>81</th>\n",
       "      <td>0.964633</td>\n",
       "      <td>0.0119987</td>\n",
       "      <td>0.982014</td>\n",
       "      <td>0.949091</td>\n",
       "      <td>5</td>\n",
       "      <td>5</td>\n",
       "      <td>3</td>\n",
       "      <td>auto</td>\n",
       "      <td>linear</td>\n",
       "    </tr>\n",
       "    <tr>\n",
       "      <th>78</th>\n",
       "      <td>0.964633</td>\n",
       "      <td>0.0119987</td>\n",
       "      <td>0.982014</td>\n",
       "      <td>0.949091</td>\n",
       "      <td>5</td>\n",
       "      <td>5</td>\n",
       "      <td>3</td>\n",
       "      <td>scale</td>\n",
       "      <td>linear</td>\n",
       "    </tr>\n",
       "    <tr>\n",
       "      <th>75</th>\n",
       "      <td>0.963194</td>\n",
       "      <td>0.0128195</td>\n",
       "      <td>0.982014</td>\n",
       "      <td>0.949091</td>\n",
       "      <td>5</td>\n",
       "      <td>5</td>\n",
       "      <td>2</td>\n",
       "      <td>auto</td>\n",
       "      <td>linear</td>\n",
       "    </tr>\n",
       "    <tr>\n",
       "      <th>69</th>\n",
       "      <td>0.961786</td>\n",
       "      <td>0.00944541</td>\n",
       "      <td>0.974638</td>\n",
       "      <td>0.946237</td>\n",
       "      <td>5</td>\n",
       "      <td>1</td>\n",
       "      <td>3</td>\n",
       "      <td>auto</td>\n",
       "      <td>linear</td>\n",
       "    </tr>\n",
       "    <tr>\n",
       "      <th>66</th>\n",
       "      <td>0.961786</td>\n",
       "      <td>0.00944541</td>\n",
       "      <td>0.974638</td>\n",
       "      <td>0.946237</td>\n",
       "      <td>5</td>\n",
       "      <td>1</td>\n",
       "      <td>3</td>\n",
       "      <td>scale</td>\n",
       "      <td>linear</td>\n",
       "    </tr>\n",
       "  </tbody>\n",
       "</table>\n",
       "</div>"
      ],
      "text/plain": [
       "   mean_score   std_score max_score min_score rfi_fs__n_features_ svm__C  \\\n",
       "81   0.964633   0.0119987  0.982014  0.949091                   5      5   \n",
       "78   0.964633   0.0119987  0.982014  0.949091                   5      5   \n",
       "75   0.963194   0.0128195  0.982014  0.949091                   5      5   \n",
       "69   0.961786  0.00944541  0.974638  0.946237                   5      1   \n",
       "66   0.961786  0.00944541  0.974638  0.946237                   5      1   \n",
       "\n",
       "   svm__degree svm__gamma svm__kernel  \n",
       "81           3       auto      linear  \n",
       "78           3      scale      linear  \n",
       "75           2       auto      linear  \n",
       "69           3       auto      linear  \n",
       "66           3      scale      linear  "
      ]
     },
     "execution_count": 82,
     "metadata": {},
     "output_type": "execute_result"
    }
   ],
   "source": [
    "results_SVM = get_search_results(gs_pipe_SVM)\n",
    "results_SVM.head().round(3)"
   ]
  },
  {
   "cell_type": "markdown",
   "metadata": {},
   "source": [
    "The difference between the hyperparameter combinations is not really much."
   ]
  },
  {
   "cell_type": "markdown",
   "metadata": {},
   "source": [
    "**Visualizing the results of the grid search corresponding to 5 selected features , Kernel Coefficient set to scale and Degree of the polynomial kernel function equal to 3.**"
   ]
  },
  {
   "cell_type": "code",
   "execution_count": 83,
   "metadata": {},
   "outputs": [
    {
     "data": {
      "text/html": [
       "\n",
       "<div id=\"altair-viz-51326c14d2574d539ebd800bc515438c\"></div>\n",
       "<script type=\"text/javascript\">\n",
       "  (function(spec, embedOpt){\n",
       "    let outputDiv = document.currentScript.previousElementSibling;\n",
       "    if (outputDiv.id !== \"altair-viz-51326c14d2574d539ebd800bc515438c\") {\n",
       "      outputDiv = document.getElementById(\"altair-viz-51326c14d2574d539ebd800bc515438c\");\n",
       "    }\n",
       "    const paths = {\n",
       "      \"vega\": \"https://cdn.jsdelivr.net/npm//vega@5?noext\",\n",
       "      \"vega-lib\": \"https://cdn.jsdelivr.net/npm//vega-lib?noext\",\n",
       "      \"vega-lite\": \"https://cdn.jsdelivr.net/npm//vega-lite@4.8.1?noext\",\n",
       "      \"vega-embed\": \"https://cdn.jsdelivr.net/npm//vega-embed@6?noext\",\n",
       "    };\n",
       "\n",
       "    function loadScript(lib) {\n",
       "      return new Promise(function(resolve, reject) {\n",
       "        var s = document.createElement('script');\n",
       "        s.src = paths[lib];\n",
       "        s.async = true;\n",
       "        s.onload = () => resolve(paths[lib]);\n",
       "        s.onerror = () => reject(`Error loading script: ${paths[lib]}`);\n",
       "        document.getElementsByTagName(\"head\")[0].appendChild(s);\n",
       "      });\n",
       "    }\n",
       "\n",
       "    function showError(err) {\n",
       "      outputDiv.innerHTML = `<div class=\"error\" style=\"color:red;\">${err}</div>`;\n",
       "      throw err;\n",
       "    }\n",
       "\n",
       "    function displayChart(vegaEmbed) {\n",
       "      vegaEmbed(outputDiv, spec, embedOpt)\n",
       "        .catch(err => showError(`Javascript Error: ${err.message}<br>This usually means there's a typo in your chart specification. See the javascript console for the full traceback.`));\n",
       "    }\n",
       "\n",
       "    if(typeof define === \"function\" && define.amd) {\n",
       "      requirejs.config({paths});\n",
       "      require([\"vega-embed\"], displayChart, err => showError(`Error loading script: ${err.message}`));\n",
       "    } else if (typeof vegaEmbed === \"function\") {\n",
       "      displayChart(vegaEmbed);\n",
       "    } else {\n",
       "      loadScript(\"vega\")\n",
       "        .then(() => loadScript(\"vega-lite\"))\n",
       "        .then(() => loadScript(\"vega-embed\"))\n",
       "        .catch(showError)\n",
       "        .then(() => displayChart(vegaEmbed));\n",
       "    }\n",
       "  })({\"config\": {\"view\": {\"continuousWidth\": 400, \"continuousHeight\": 300}}, \"data\": {\"name\": \"data-11b811f6448f39d1e59a75314ace8eb5\"}, \"mark\": {\"type\": \"line\", \"point\": true}, \"encoding\": {\"color\": {\"type\": \"nominal\", \"field\": \"svm__kernel\", \"title\": \"Kernel\"}, \"x\": {\"type\": \"quantitative\", \"field\": \"svm__C\", \"title\": \" C \"}, \"y\": {\"type\": \"quantitative\", \"field\": \"mean_score\", \"scale\": {\"zero\": false}, \"title\": \"Accuracy\"}}, \"title\": \"SVM Performance Comparison with 5 Features , Kernel Coefficient = scale , degree = 3 \", \"$schema\": \"https://vega.github.io/schema/vega-lite/v4.8.1.json\", \"datasets\": {\"data-11b811f6448f39d1e59a75314ace8eb5\": [{\"mean_score\": 0.964632776145525, \"std_score\": 0.011998676245133066, \"max_score\": 0.9820143884892086, \"min_score\": 0.9490909090909091, \"rfi_fs__n_features_\": 5, \"svm__C\": 5, \"svm__degree\": 3, \"svm__gamma\": \"scale\", \"svm__kernel\": \"linear\"}, {\"mean_score\": 0.961786358851208, \"std_score\": 0.009445414653767796, \"max_score\": 0.9746376811594203, \"min_score\": 0.946236559139785, \"rfi_fs__n_features_\": 5, \"svm__C\": 1, \"svm__degree\": 3, \"svm__gamma\": \"scale\", \"svm__kernel\": \"linear\"}, {\"mean_score\": 0.9603318138043434, \"std_score\": 0.010844986603187305, \"max_score\": 0.9748201438848921, \"min_score\": 0.942652329749104, \"rfi_fs__n_features_\": 5, \"svm__C\": 10, \"svm__degree\": 3, \"svm__gamma\": \"scale\", \"svm__kernel\": \"linear\"}, {\"mean_score\": 0.9552722421323429, \"std_score\": 0.014093181242325796, \"max_score\": 0.9712230215827338, \"min_score\": 0.931899641577061, \"rfi_fs__n_features_\": 5, \"svm__C\": 0.5, \"svm__degree\": 3, \"svm__gamma\": \"scale\", \"svm__kernel\": \"linear\"}, {\"mean_score\": 0.9508931907387517, \"std_score\": 0.010363641049228023, \"max_score\": 0.960431654676259, \"min_score\": 0.9309090909090909, \"rfi_fs__n_features_\": 5, \"svm__C\": 1, \"svm__degree\": 3, \"svm__gamma\": \"scale\", \"svm__kernel\": \"poly\"}, {\"mean_score\": 0.9501790928343643, \"std_score\": 0.009959780183659317, \"max_score\": 0.9640287769784173, \"min_score\": 0.9418181818181818, \"rfi_fs__n_features_\": 5, \"svm__C\": 10, \"svm__degree\": 3, \"svm__gamma\": \"scale\", \"svm__kernel\": \"poly\"}, {\"mean_score\": 0.9487295916167742, \"std_score\": 0.01238277223790438, \"max_score\": 0.9640287769784173, \"min_score\": 0.9272727272727272, \"rfi_fs__n_features_\": 5, \"svm__C\": 0.5, \"svm__degree\": 3, \"svm__gamma\": \"scale\", \"svm__kernel\": \"poly\"}, {\"mean_score\": 0.9480050668632505, \"std_score\": 0.011758339482833275, \"max_score\": 0.9676258992805755, \"min_score\": 0.9345454545454546, \"rfi_fs__n_features_\": 5, \"svm__C\": 5, \"svm__degree\": 3, \"svm__gamma\": \"scale\", \"svm__kernel\": \"poly\"}, {\"mean_score\": 0.9336317668293008, \"std_score\": 0.016523060183190552, \"max_score\": 0.9565217391304348, \"min_score\": 0.9139784946236559, \"rfi_fs__n_features_\": 5, \"svm__C\": 0.5, \"svm__degree\": 3, \"svm__gamma\": \"scale\", \"svm__kernel\": \"rbf\"}, {\"mean_score\": 0.9306994130310949, \"std_score\": 0.013456717107427308, \"max_score\": 0.9456521739130435, \"min_score\": 0.9054545454545454, \"rfi_fs__n_features_\": 5, \"svm__C\": 10, \"svm__degree\": 3, \"svm__gamma\": \"scale\", \"svm__kernel\": \"rbf\"}, {\"mean_score\": 0.9271049822388677, \"std_score\": 0.011651323847471898, \"max_score\": 0.9390681003584229, \"min_score\": 0.9127272727272727, \"rfi_fs__n_features_\": 5, \"svm__C\": 5, \"svm__degree\": 3, \"svm__gamma\": \"scale\", \"svm__kernel\": \"rbf\"}, {\"mean_score\": 0.9242532392038683, \"std_score\": 0.005895871717473602, \"max_score\": 0.9347826086956522, \"min_score\": 0.9175627240143369, \"rfi_fs__n_features_\": 5, \"svm__C\": 1, \"svm__degree\": 3, \"svm__gamma\": \"scale\", \"svm__kernel\": \"rbf\"}]}}, {\"mode\": \"vega-lite\"});\n",
       "</script>"
      ],
      "text/plain": [
       "alt.Chart(...)"
      ]
     },
     "execution_count": 83,
     "metadata": {},
     "output_type": "execute_result"
    }
   ],
   "source": [
    "results_SVM_features = results_SVM[(results_SVM['rfi_fs__n_features_'] == 5)  \n",
    "                                   & (results_SVM['svm__gamma'] == 'scale') & (results_SVM['svm__degree'] == 3)] \n",
    "alt.Chart(results_SVM_features,title='SVM Performance Comparison with 5 Features , Kernel Coefficient = scale , degree = 3 ').mark_line(point=True).encode(\n",
    "    alt.X('svm__C', title=' C '),\n",
    "    alt.Y('mean_score', title='Accuracy', scale=alt.Scale(zero=False)),\n",
    "    alt.Color('svm__kernel:N', title='Kernel'))"
   ]
  },
  {
   "cell_type": "markdown",
   "metadata": {},
   "source": [
    "# <span style=\"color:#0099cc\">  Performance comparison <a class=\"anchor\" id=\"23\"></a>"
   ]
  },
  {
   "cell_type": "markdown",
   "metadata": {},
   "source": [
    "* For the hyperparameter tuning phase , training data which had 1386 observations is used and best hyperparameters for each classifier is determined. \n",
    "* Each tuned classifier is fit on the test data set containing 594 observations in a cross-validated fashion.\n",
    "* 10 fold RepeatedStratified cross-validation technique is used with 10 repeatitions and random state is to 999.   \n",
    "* Scoring metric used is accuracy as the aim is to accurately estimate the price range of mobiles indicating how high is the price and the class counts are balanced.\n",
    "* The performance of each model on the unseen data is determined.\n",
    "* The random state is same for all the cross-validation procedures, each classifiers are fitted and then tested on exactly same data partitions. Thus making these as paired experiments. This reduces the variability significantly compared to conducting experiments in an independent fashion.\n"
   ]
  },
  {
   "cell_type": "code",
   "execution_count": 84,
   "metadata": {},
   "outputs": [],
   "source": [
    "from sklearn.model_selection import cross_val_score\n",
    "from sklearn.model_selection import RepeatedStratifiedKFold\n",
    "cv_method_ttest = RepeatedStratifiedKFold(n_splits=10, n_repeats=10 ,random_state=999)"
   ]
  },
  {
   "cell_type": "markdown",
   "metadata": {},
   "source": [
    "#### <span style=\"color:#0099cc\">  Cross Validation on KNN best estimator"
   ]
  },
  {
   "cell_type": "code",
   "execution_count": 85,
   "metadata": {},
   "outputs": [
    {
     "data": {
      "text/plain": [
       "0.8731641955561024"
      ]
     },
     "execution_count": 85,
     "metadata": {},
     "output_type": "execute_result"
    }
   ],
   "source": [
    "cv_results_KNN = cross_val_score(estimator=gs_pipe_KNN.best_estimator_,X=D_test,\n",
    "                                 y=t_test,cv=cv_method_ttest,n_jobs=-1,scoring='accuracy')\n",
    "cv_results_KNN.mean()"
   ]
  },
  {
   "cell_type": "markdown",
   "metadata": {},
   "source": [
    "#### <span style=\"color:#0099cc\">  Cross Validation on Decision Tree best estimator"
   ]
  },
  {
   "cell_type": "code",
   "execution_count": 86,
   "metadata": {},
   "outputs": [
    {
     "data": {
      "text/plain": [
       "0.8206826058424845"
      ]
     },
     "execution_count": 86,
     "metadata": {},
     "output_type": "execute_result"
    }
   ],
   "source": [
    "cv_results_DT = cross_val_score(estimator=gs_pipe_DT.best_estimator_,X=D_test,\n",
    "                                y=t_test,cv=cv_method_ttest,n_jobs=-2,scoring='accuracy')\n",
    "cv_results_DT.mean()"
   ]
  },
  {
   "cell_type": "markdown",
   "metadata": {},
   "source": [
    "#### <span style=\"color:#0099cc\">  Cross Validation on Random Forest best estimator"
   ]
  },
  {
   "cell_type": "code",
   "execution_count": 87,
   "metadata": {},
   "outputs": [
    {
     "data": {
      "text/plain": [
       "0.884071974940273"
      ]
     },
     "execution_count": 87,
     "metadata": {},
     "output_type": "execute_result"
    }
   ],
   "source": [
    "cv_results_RF = cross_val_score(estimator=gs_pipe_RF.best_estimator_,X=D_test,\n",
    "                                y=t_test,cv=cv_method_ttest,n_jobs=-2,scoring='accuracy')\n",
    "cv_results_RF.mean()"
   ]
  },
  {
   "cell_type": "markdown",
   "metadata": {},
   "source": [
    "#### <span style=\"color:#0099cc\">  Cross Validation on GaussianNB  best estimator"
   ]
  },
  {
   "cell_type": "code",
   "execution_count": 88,
   "metadata": {},
   "outputs": [
    {
     "data": {
      "text/plain": [
       "0.8164898284577604"
      ]
     },
     "execution_count": 88,
     "metadata": {},
     "output_type": "execute_result"
    }
   ],
   "source": [
    "D_test_transformed = PowerTransformer().fit_transform(D_test)\n",
    "cv_results_NB = cross_val_score(estimator=gs_pipe_NB.best_estimator_,X=D_test_transformed,\n",
    "                                y=t_test,cv=cv_method_ttest, n_jobs=-1,scoring='accuracy')\n",
    "cv_results_NB.mean()"
   ]
  },
  {
   "cell_type": "markdown",
   "metadata": {},
   "source": [
    "#### <span style=\"color:#0099cc\">  Cross Validation on SVM best estimator"
   ]
  },
  {
   "cell_type": "code",
   "execution_count": 89,
   "metadata": {},
   "outputs": [
    {
     "data": {
      "text/plain": [
       "0.9501469439232213"
      ]
     },
     "execution_count": 89,
     "metadata": {},
     "output_type": "execute_result"
    }
   ],
   "source": [
    "cv_results_SVM = cross_val_score(estimator=gs_pipe_SVM.best_estimator_,X=D_test,\n",
    "                                 y=t_test,cv=cv_method_ttest,n_jobs=-2,scoring='accuracy')\n",
    "cv_results_SVM.mean()"
   ]
  },
  {
   "cell_type": "markdown",
   "metadata": {},
   "source": [
    "### <span style=\"color:#0099cc\">  Paired T-Test <a class=\"anchor\" id=\"24\"></a>"
   ]
  },
  {
   "cell_type": "markdown",
   "metadata": {},
   "source": [
    "* Paired t-tests is done using `stats.ttest_rel` method from Scipy module.\n",
    "* From the above performance comparison on test data using 10 fold RepeatedStratified cross validation ,the respective cross validation scores for each classifier is obtained.\n",
    "* It can be inferred that Support Vector Machine performed the best followed by Random Forest Classifier.The Gaussian Naive Bayes performed the least.\n",
    "* To verify if there is any statistical difference between the any two tuned classifiers a pairwise t-test is performed.\n",
    "* A paired t-test is performed for accuracy score between the following (tuned) classifier combinations:  \n",
    "\n",
    "      1)SVM vs. KNN  \n",
    "      2)SVM vs. DT\n",
    "      3)SVM vs. Random Forest\n",
    "      4)SVM vs. Gaussian Naive Bayes"
   ]
  },
  {
   "cell_type": "code",
   "execution_count": 90,
   "metadata": {},
   "outputs": [
    {
     "name": "stdout",
     "output_type": "stream",
     "text": [
      "Paired ttest: SVM Vs KNN classifier \n",
      "Ttest_relResult(statistic=17.052311913591495, pvalue=3.1878749725149135e-31)\n",
      "\n",
      "Paired ttest: SVM Vs Decision Tree classifier \n",
      "Ttest_relResult(statistic=27.471021933085233, pvalue=4.1175866532363826e-48)\n",
      "\n",
      "Paired ttest: SVM Vs Random Forest classifier \n",
      "Ttest_relResult(statistic=17.495128342749894, pvalue=4.711908765503628e-32)\n",
      "\n",
      "Paired ttest: SVM Vs Gaussian Naive Bayes classifier \n",
      "Ttest_relResult(statistic=26.864909536459766, pvalue=2.894353575662237e-47)\n"
     ]
    }
   ],
   "source": [
    "from scipy import stats\n",
    "print('Paired ttest: SVM Vs KNN classifier ')\n",
    "print(stats.ttest_rel(cv_results_SVM, cv_results_KNN))\n",
    "print('\\nPaired ttest: SVM Vs Decision Tree classifier ')\n",
    "print(stats.ttest_rel(cv_results_SVM, cv_results_DT))\n",
    "print('\\nPaired ttest: SVM Vs Random Forest classifier ')\n",
    "print(stats.ttest_rel(cv_results_SVM, cv_results_RF))\n",
    "print('\\nPaired ttest: SVM Vs Gaussian Naive Bayes classifier ')\n",
    "print(stats.ttest_rel(cv_results_SVM, cv_results_NB))"
   ]
  },
  {
   "cell_type": "markdown",
   "metadata": {},
   "source": [
    "* A p-value smaller than 0.05 indicates that the test is statistically significant different.The above paired t-test results have p-values less than 0.05. Thus showed that there is statistical significant difference between SVM CV-scores and the remaining classifiers CV-scores.  \n",
    "* From the above Paired t-test results it can concluded that **at a 95% significance level, SVM outperformed among all the classifiers and is statistically the best model (in terms of accuracy) when compared on test data**"
   ]
  },
  {
   "cell_type": "markdown",
   "metadata": {},
   "source": [
    "# <span style=\"color:#0099cc\">Evaluation Metrics <a class=\"anchor\" id=\"25\"></a>"
   ]
  },
  {
   "cell_type": "markdown",
   "metadata": {},
   "source": [
    "* The performance metric - `accuracy` was used to optimize the algorithm hyperparameters. Other metrics should be evaluated on the models based on the test set.\n",
    "* The target feature is categorical with 4 different levels (0, 1, 2, 3) of price range. \n",
    "* The value of **0** refers **low cost**, **1 refers medium cost**, **2 refers high cost** and **3 refers very high cost.** \n",
    "* Thus it is Multi Nominal Classification and an \"average\" parameter is required. \n",
    "* For this purpose micro averaging or macro averaging is preferred as the class labels are balanced and the results will be same.\n",
    "* `Micro Recall` and `Micro precision` is found by setting `average` to **'micro'**.\n",
    "* `Micro F1 score` is also obtained which is the harmonic mean of micro recall and micro precision.\n",
    "* Later the `balanced accuracy score` is calculated the average of recall obtained on each class.\n",
    "* Metrics module is used to calculate different performance metrics for the models"
   ]
  },
  {
   "cell_type": "code",
   "execution_count": 91,
   "metadata": {},
   "outputs": [],
   "source": [
    "from sklearn import metrics\n",
    "pred_KNN = gs_pipe_KNN.predict(D_test)\n",
    "pred_DT = gs_pipe_DT.predict(D_test)\n",
    "pred_RF = gs_pipe_RF.predict(D_test)\n",
    "pred_NB = gs_pipe_NB.predict(D_test_transformed)\n",
    "pred_SVM = gs_pipe_SVM.predict(D_test)"
   ]
  },
  {
   "cell_type": "markdown",
   "metadata": {},
   "source": [
    "The `classification_report()` function takes in 3 parameters which is target test , predicted target and algorithm name. On calling this function, the respective Confusion Matrix , Classification Report , Micro Recall Score , Micro Precision Score , F1-Score and Average class accuracy is calculated and displayed"
   ]
  },
  {
   "cell_type": "code",
   "execution_count": 92,
   "metadata": {},
   "outputs": [],
   "source": [
    "def classification_report(t_test , t_prediction , algorithm):\n",
    "    print('------------------------- Evaluation Metrics for ' , algorithm, '-------------------------')  \n",
    "    print('Confusion_matrix')\n",
    "    print(metrics.confusion_matrix(t_test, t_prediction))    \n",
    "    print('Classification report')\n",
    "    print(metrics.classification_report(t_test, t_prediction))          \n",
    "    print('Micro Recall Score: ' , metrics.recall_score(t_test, t_prediction, average='micro').round(3) )    \n",
    "    print('Micro Precision Score: ' , metrics.precision_score(t_test, t_prediction, average='micro').round(3))                \n",
    "    print('F1 Score- Harmonic mean of micro recall and micro precision: ', \n",
    "          metrics.f1_score(t_test, t_prediction, average='micro').round(3))          \n",
    "    print('Average class accuracy: ', metrics.balanced_accuracy_score(t_test, t_prediction).round(3))       "
   ]
  },
  {
   "cell_type": "code",
   "execution_count": 93,
   "metadata": {},
   "outputs": [
    {
     "name": "stdout",
     "output_type": "stream",
     "text": [
      "------------------------- Evaluation Metrics for  K - Nearest Neighbor -------------------------\n",
      "Confusion_matrix\n",
      "[[143   7   0   0]\n",
      " [ 11 128   9   0]\n",
      " [  0  17 129   3]\n",
      " [  0   0  15 132]]\n",
      "Classification report\n",
      "              precision    recall  f1-score   support\n",
      "\n",
      "           0       0.93      0.95      0.94       150\n",
      "           1       0.84      0.86      0.85       148\n",
      "           2       0.84      0.87      0.85       149\n",
      "           3       0.98      0.90      0.94       147\n",
      "\n",
      "    accuracy                           0.90       594\n",
      "   macro avg       0.90      0.90      0.90       594\n",
      "weighted avg       0.90      0.90      0.90       594\n",
      "\n",
      "Micro Recall Score:  0.896\n",
      "Micro Precision Score:  0.896\n",
      "F1 Score- Harmonic mean of micro recall and micro precision:  0.896\n",
      "Average class accuracy:  0.895\n"
     ]
    }
   ],
   "source": [
    "classification_report(t_test,pred_KNN , 'K - Nearest Neighbor')"
   ]
  },
  {
   "cell_type": "code",
   "execution_count": 94,
   "metadata": {},
   "outputs": [
    {
     "name": "stdout",
     "output_type": "stream",
     "text": [
      "------------------------- Evaluation Metrics for  Decision Tree -------------------------\n",
      "Confusion_matrix\n",
      "[[143   7   0   0]\n",
      " [ 12 125  11   0]\n",
      " [  0  14 126   9]\n",
      " [  0   0  16 131]]\n",
      "Classification report\n",
      "              precision    recall  f1-score   support\n",
      "\n",
      "           0       0.92      0.95      0.94       150\n",
      "           1       0.86      0.84      0.85       148\n",
      "           2       0.82      0.85      0.83       149\n",
      "           3       0.94      0.89      0.91       147\n",
      "\n",
      "    accuracy                           0.88       594\n",
      "   macro avg       0.88      0.88      0.88       594\n",
      "weighted avg       0.88      0.88      0.88       594\n",
      "\n",
      "Micro Recall Score:  0.884\n",
      "Micro Precision Score:  0.884\n",
      "F1 Score- Harmonic mean of micro recall and micro precision:  0.884\n",
      "Average class accuracy:  0.884\n"
     ]
    }
   ],
   "source": [
    "classification_report(t_test,pred_DT , 'Decision Tree')"
   ]
  },
  {
   "cell_type": "code",
   "execution_count": 95,
   "metadata": {},
   "outputs": [
    {
     "name": "stdout",
     "output_type": "stream",
     "text": [
      "------------------------- Evaluation Metrics for  Random Forest -------------------------\n",
      "Confusion_matrix\n",
      "[[141   9   0   0]\n",
      " [  7 130  11   0]\n",
      " [  0  11 128  10]\n",
      " [  0   0  11 136]]\n",
      "Classification report\n",
      "              precision    recall  f1-score   support\n",
      "\n",
      "           0       0.95      0.94      0.95       150\n",
      "           1       0.87      0.88      0.87       148\n",
      "           2       0.85      0.86      0.86       149\n",
      "           3       0.93      0.93      0.93       147\n",
      "\n",
      "    accuracy                           0.90       594\n",
      "   macro avg       0.90      0.90      0.90       594\n",
      "weighted avg       0.90      0.90      0.90       594\n",
      "\n",
      "Micro Recall Score:  0.901\n",
      "Micro Precision Score:  0.901\n",
      "F1 Score- Harmonic mean of micro recall and micro precision:  0.901\n",
      "Average class accuracy:  0.901\n"
     ]
    }
   ],
   "source": [
    "classification_report(t_test,pred_RF , 'Random Forest')"
   ]
  },
  {
   "cell_type": "code",
   "execution_count": 96,
   "metadata": {},
   "outputs": [
    {
     "name": "stdout",
     "output_type": "stream",
     "text": [
      "------------------------- Evaluation Metrics for  (Gaussian) Naive Bayes  -------------------------\n",
      "Confusion_matrix\n",
      "[[144   5   1   0]\n",
      " [ 11 111  26   0]\n",
      " [  0  29 114   6]\n",
      " [  0   0  14 133]]\n",
      "Classification report\n",
      "              precision    recall  f1-score   support\n",
      "\n",
      "           0       0.93      0.96      0.94       150\n",
      "           1       0.77      0.75      0.76       148\n",
      "           2       0.74      0.77      0.75       149\n",
      "           3       0.96      0.90      0.93       147\n",
      "\n",
      "    accuracy                           0.85       594\n",
      "   macro avg       0.85      0.84      0.85       594\n",
      "weighted avg       0.85      0.85      0.85       594\n",
      "\n",
      "Micro Recall Score:  0.845\n",
      "Micro Precision Score:  0.845\n",
      "F1 Score- Harmonic mean of micro recall and micro precision:  0.845\n",
      "Average class accuracy:  0.845\n"
     ]
    }
   ],
   "source": [
    "classification_report(t_test,pred_NB , '(Gaussian) Naive Bayes ')"
   ]
  },
  {
   "cell_type": "code",
   "execution_count": 97,
   "metadata": {},
   "outputs": [
    {
     "name": "stdout",
     "output_type": "stream",
     "text": [
      "------------------------- Evaluation Metrics for  Support Vector Machine  -------------------------\n",
      "Confusion_matrix\n",
      "[[149   1   0   0]\n",
      " [  2 144   2   0]\n",
      " [  0   3 143   3]\n",
      " [  0   0   5 142]]\n",
      "Classification report\n",
      "              precision    recall  f1-score   support\n",
      "\n",
      "           0       0.99      0.99      0.99       150\n",
      "           1       0.97      0.97      0.97       148\n",
      "           2       0.95      0.96      0.96       149\n",
      "           3       0.98      0.97      0.97       147\n",
      "\n",
      "    accuracy                           0.97       594\n",
      "   macro avg       0.97      0.97      0.97       594\n",
      "weighted avg       0.97      0.97      0.97       594\n",
      "\n",
      "Micro Recall Score:  0.973\n",
      "Micro Precision Score:  0.973\n",
      "F1 Score- Harmonic mean of micro recall and micro precision:  0.973\n",
      "Average class accuracy:  0.973\n"
     ]
    }
   ],
   "source": [
    "classification_report(t_test,pred_SVM , 'Support Vector Machine ')"
   ]
  },
  {
   "cell_type": "markdown",
   "metadata": {},
   "source": [
    "* As a new mobile company and give tough fight to big companies it is essential to estimate price range of mobiles accurately. Hence accuracy performance metric was used on trained and test data.\n",
    "* From the Confusion Matrix it can be interpreted that SVM predicted all the price ranges most accurately with error classification rate of 0.027.\n",
    "* The Classification report gave a Micro Recall , Precision and F1- score with 0.973 for SVM.\n",
    "* The average class accuracy also stood at 0.973. Thus SVM outperformed the other classifiers and is in line with our objective."
   ]
  },
  {
   "cell_type": "markdown",
   "metadata": {},
   "source": [
    "# <span style=\"color:#0099cc\"> Limitations and Proposed Solutions <a class=\"anchor\" id=\"26\"></a>"
   ]
  },
  {
   "cell_type": "markdown",
   "metadata": {},
   "source": [
    "* The approach that was followed was Black-box approach since as the data goes in, decisions come out, but the processes between input and output are not known.\n",
    "* In addition, further fine tuning can be performed by taking other parameters into considerations and repeated stratified k fold cross validations can be performed for better tuning of the classifiers.\n",
    "* A wrapper-based feature selection method such as SPSA can be used as they perform better than the filter method (RFI) used.\n",
    "* Neural Networks can be applied as they have the ability to learn by themselves and produce the output that is not limited to the input provided.\n",
    "* The second best performer Random Forest can be further improved by expanding the hyperparameter search space by including other parameters and further fine tuning.The advantage of Random Forest over SVM is that they work better for mixture of numerical and categorical features.In future , if the dataset is expanded then SVM might not perform well as they don't perform well to larger datasets."
   ]
  },
  {
   "cell_type": "markdown",
   "metadata": {},
   "source": [
    "# <span style=\"color:#0099cc\"> Summary and Conclusion<a class=\"anchor\" id=\"27\"></a>"
   ]
  },
  {
   "cell_type": "markdown",
   "metadata": {},
   "source": [
    "* The accuracy obtained during hyperparameter tuning when applied on trained data and cross-validation on test data is highest in SVM.\n",
    "* The paired ttest also revealed that the difference in accuracy scores were statistically different when checked on SVM. \n",
    "* The confusion matrix revealed that SVM was able to predict most number of price ranges accurately by out performing other classifiers.\n",
    "* The classification report too showed the same with micro recall , precision and F1-score being the highest for SVM.\n",
    "* The Random Forest gave the second best accuracy. Choosing other algorithm over SVM would not yield in finding the price ranges precisely.\n",
    "* **Its evident that SVM is the best performer among the other algorithms which was further statistically proved by performing paired ttest on the cross validation scores obtained on the test data. In addition, confusion matrix for SVM showed best accuracy rate and the micro F1-score was highest. Thus it can be concluded that SVM is the best classifier for acheiving the objective.**"
   ]
  },
  {
   "cell_type": "markdown",
   "metadata": {},
   "source": [
    "# <span style=\"color:#0099cc\"> References <a class=\"anchor\" id=\"28\"></a>"
   ]
  },
  {
   "cell_type": "markdown",
   "metadata": {},
   "source": [
    "* Machine Learning Tutorials. (n.d.). Retrieved from FeatureRanking: https://www.featureranking.com/tutorials/machine-learning-tutorials/\n",
    "* matplotlib. (2020, Apr 08). Retrieved from matplotlib: https://matplotlib.org/\n",
    "* seaborn: statistical data visualization. (2020). Retrieved from Seaborn: https://seaborn.pydata.org/\n",
    "* Supervised learning. (2019). Retrieved from scikit-learn: https://scikit-learn.org/stable/"
   ]
  }
 ],
 "metadata": {
  "kernelspec": {
   "display_name": "Python 3",
   "language": "python",
   "name": "python3"
  },
  "language_info": {
   "codemirror_mode": {
    "name": "ipython",
    "version": 3
   },
   "file_extension": ".py",
   "mimetype": "text/x-python",
   "name": "python",
   "nbconvert_exporter": "python",
   "pygments_lexer": "ipython3",
   "version": "3.7.4"
  }
 },
 "nbformat": 4,
 "nbformat_minor": 4
}
